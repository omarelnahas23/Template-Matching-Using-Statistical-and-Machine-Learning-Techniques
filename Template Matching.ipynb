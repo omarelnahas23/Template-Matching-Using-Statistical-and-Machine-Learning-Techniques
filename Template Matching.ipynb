{
  "cells": [
    {
      "cell_type": "markdown",
      "metadata": {
        "id": "yQmBjZSwBCqE"
      },
      "source": [
        "# Preperaing The Metrics"
      ]
    },
    {
      "cell_type": "code",
      "execution_count": null,
      "metadata": {
        "id": "xSqs-ZLEBCqE"
      },
      "outputs": [],
      "source": [
        "%matplotlib inline\n",
        "import matplotlib.pyplot as plt\n",
        "\n",
        "import numpy as np\n",
        "from sklearn.model_selection import train_test_split\n",
        "import os\n",
        "import numpy as np\n",
        "from skimage.color import rgb2gray\n",
        "from skimage import io\n",
        "from sklearn.neural_network import MLPClassifier\n",
        "from sklearn.metrics import *\n",
        "import pandas as pd\n",
        "from itertools import product, combinations\n",
        "import sys\n",
        "import time"
      ]
    },
    {
      "cell_type": "markdown",
      "metadata": {
        "id": "cPRqCWRsBCqH"
      },
      "source": [
        "# imgset Creation"
      ]
    },
    {
      "cell_type": "code",
      "execution_count": null,
      "metadata": {
        "id": "q70rRzzhBCqH",
        "outputId": "9667d5a1-5313-42e7-9feb-712d9015d295"
      },
      "outputs": [
        {
          "name": "stdout",
          "output_type": "stream",
          "text": [
            "training\\canvas1\\canvas1-a-p001.png\n",
            "(2, 32, 32)\n",
            "training\\canvas1\\canvas1-a-p002.png\n",
            "(3, 32, 32)\n",
            "training\\canvas1\\canvas1-a-p003.png\n",
            "(4, 32, 32)\n",
            "training\\canvas1\\canvas1-a-p004.png\n",
            "(5, 32, 32)\n",
            "training\\canvas1\\canvas1-a-p005.png\n",
            "(6, 32, 32)\n",
            "training\\canvas1\\canvas1-a-p006.png\n",
            "(7, 32, 32)\n",
            "training\\canvas1\\canvas1-a-p007.png\n",
            "(8, 32, 32)\n",
            "training\\canvas1\\canvas1-a-p008.png\n",
            "(9, 32, 32)\n",
            "training\\canvas1\\canvas1-a-p009.png\n",
            "(10, 32, 32)\n",
            "training\\canvas1\\canvas1-a-p010.png\n",
            "(11, 32, 32)\n",
            "training\\canvas1\\canvas1-a-p011.png\n",
            "(12, 32, 32)\n",
            "training\\canvas1\\canvas1-a-p012.png\n",
            "(13, 32, 32)\n",
            "training\\canvas1\\canvas1-a-p013.png\n",
            "(14, 32, 32)\n",
            "training\\canvas1\\canvas1-a-p014.png\n",
            "(15, 32, 32)\n",
            "training\\canvas1\\canvas1-a-p015.png\n",
            "(16, 32, 32)\n",
            "training\\canvas1\\canvas1-a-p016.png\n",
            "(17, 32, 32)\n",
            "training\\canvas1\\canvas1-a-p017.png\n",
            "(18, 32, 32)\n",
            "training\\canvas1\\canvas1-a-p018.png\n",
            "(19, 32, 32)\n",
            "training\\canvas1\\canvas1-a-p019.png\n",
            "(20, 32, 32)\n",
            "training\\canvas1\\canvas1-a-p020.png\n",
            "(21, 32, 32)\n",
            "training\\canvas1\\canvas1-a-p021.png\n",
            "(22, 32, 32)\n",
            "training\\canvas1\\canvas1-a-p022.png\n",
            "(23, 32, 32)\n",
            "training\\canvas1\\canvas1-a-p023.png\n",
            "(24, 32, 32)\n",
            "training\\canvas1\\canvas1-a-p024.png\n",
            "(25, 32, 32)\n",
            "training\\canvas1\\canvas1-a-p025.png\n",
            "(26, 32, 32)\n",
            "training\\canvas1\\canvas1-a-p026.png\n",
            "(27, 32, 32)\n",
            "training\\canvas1\\canvas1-a-p027.png\n",
            "(28, 32, 32)\n",
            "training\\canvas1\\canvas1-a-p028.png\n",
            "(29, 32, 32)\n",
            "training\\canvas1\\canvas1-a-p029.png\n",
            "(30, 32, 32)\n",
            "training\\canvas1\\canvas1-a-p030.png\n",
            "(31, 32, 32)\n",
            "training\\cushion1\\cushion1-a-p001.png\n",
            "(32, 32, 32)\n",
            "training\\cushion1\\cushion1-a-p002.png\n",
            "(33, 32, 32)\n",
            "training\\cushion1\\cushion1-a-p003.png\n",
            "(34, 32, 32)\n",
            "training\\cushion1\\cushion1-a-p004.png\n",
            "(35, 32, 32)\n",
            "training\\cushion1\\cushion1-a-p005.png\n",
            "(36, 32, 32)\n",
            "training\\cushion1\\cushion1-a-p006.png\n",
            "(37, 32, 32)\n",
            "training\\cushion1\\cushion1-a-p007.png\n",
            "(38, 32, 32)\n",
            "training\\cushion1\\cushion1-a-p008.png\n",
            "(39, 32, 32)\n",
            "training\\cushion1\\cushion1-a-p009.png\n",
            "(40, 32, 32)\n",
            "training\\cushion1\\cushion1-a-p010.png\n",
            "(41, 32, 32)\n",
            "training\\cushion1\\cushion1-a-p011.png\n",
            "(42, 32, 32)\n",
            "training\\cushion1\\cushion1-a-p012.png\n",
            "(43, 32, 32)\n",
            "training\\cushion1\\cushion1-a-p013.png\n",
            "(44, 32, 32)\n",
            "training\\cushion1\\cushion1-a-p014.png\n",
            "(45, 32, 32)\n",
            "training\\cushion1\\cushion1-a-p015.png\n",
            "(46, 32, 32)\n",
            "training\\cushion1\\cushion1-a-p016.png\n",
            "(47, 32, 32)\n",
            "training\\cushion1\\cushion1-a-p017.png\n",
            "(48, 32, 32)\n",
            "training\\cushion1\\cushion1-a-p018.png\n",
            "(49, 32, 32)\n",
            "training\\cushion1\\cushion1-a-p019.png\n",
            "(50, 32, 32)\n",
            "training\\cushion1\\cushion1-a-p020.png\n",
            "(51, 32, 32)\n",
            "training\\cushion1\\cushion1-a-p021.png\n",
            "(52, 32, 32)\n",
            "training\\cushion1\\cushion1-a-p022.png\n",
            "(53, 32, 32)\n",
            "training\\cushion1\\cushion1-a-p023.png\n",
            "(54, 32, 32)\n",
            "training\\cushion1\\cushion1-a-p024.png\n",
            "(55, 32, 32)\n",
            "training\\cushion1\\cushion1-a-p025.png\n",
            "(56, 32, 32)\n",
            "training\\cushion1\\cushion1-a-p026.png\n",
            "(57, 32, 32)\n",
            "training\\cushion1\\cushion1-a-p027.png\n",
            "(58, 32, 32)\n",
            "training\\cushion1\\cushion1-a-p028.png\n",
            "(59, 32, 32)\n",
            "training\\cushion1\\cushion1-a-p029.png\n",
            "(60, 32, 32)\n",
            "training\\cushion1\\cushion1-a-p030.png\n",
            "(61, 32, 32)\n",
            "training\\linsseeds1\\linseeds1-a-p001.png\n",
            "(62, 32, 32)\n",
            "training\\linsseeds1\\linseeds1-a-p002.png\n",
            "(63, 32, 32)\n",
            "training\\linsseeds1\\linseeds1-a-p003.png\n",
            "(64, 32, 32)\n",
            "training\\linsseeds1\\linseeds1-a-p004.png\n",
            "(65, 32, 32)\n",
            "training\\linsseeds1\\linseeds1-a-p005.png\n",
            "(66, 32, 32)\n",
            "training\\linsseeds1\\linseeds1-a-p006.png\n",
            "(67, 32, 32)\n",
            "training\\linsseeds1\\linseeds1-a-p007.png\n",
            "(68, 32, 32)\n",
            "training\\linsseeds1\\linseeds1-a-p008.png\n",
            "(69, 32, 32)\n",
            "training\\linsseeds1\\linseeds1-a-p009.png\n",
            "(70, 32, 32)\n",
            "training\\linsseeds1\\linseeds1-a-p010.png\n",
            "(71, 32, 32)\n",
            "training\\linsseeds1\\linseeds1-a-p011.png\n",
            "(72, 32, 32)\n",
            "training\\linsseeds1\\linseeds1-a-p012.png\n",
            "(73, 32, 32)\n",
            "training\\linsseeds1\\linseeds1-a-p013.png\n",
            "(74, 32, 32)\n",
            "training\\linsseeds1\\linseeds1-a-p014.png\n",
            "(75, 32, 32)\n",
            "training\\linsseeds1\\linseeds1-a-p015.png\n",
            "(76, 32, 32)\n",
            "training\\linsseeds1\\linseeds1-a-p016.png\n",
            "(77, 32, 32)\n",
            "training\\linsseeds1\\linseeds1-a-p017.png\n",
            "(78, 32, 32)\n",
            "training\\linsseeds1\\linseeds1-a-p018.png\n",
            "(79, 32, 32)\n",
            "training\\linsseeds1\\linseeds1-a-p019.png\n",
            "(80, 32, 32)\n",
            "training\\linsseeds1\\linseeds1-a-p020.png\n",
            "(81, 32, 32)\n",
            "training\\linsseeds1\\linseeds1-a-p021.png\n",
            "(82, 32, 32)\n",
            "training\\linsseeds1\\linseeds1-a-p022.png\n",
            "(83, 32, 32)\n",
            "training\\linsseeds1\\linseeds1-a-p023.png\n",
            "(84, 32, 32)\n",
            "training\\linsseeds1\\linseeds1-a-p024.png\n",
            "(85, 32, 32)\n",
            "training\\linsseeds1\\linseeds1-a-p025.png\n",
            "(86, 32, 32)\n",
            "training\\linsseeds1\\linseeds1-a-p026.png\n",
            "(87, 32, 32)\n",
            "training\\linsseeds1\\linseeds1-a-p027.png\n",
            "(88, 32, 32)\n",
            "training\\linsseeds1\\linseeds1-a-p028.png\n",
            "(89, 32, 32)\n",
            "training\\linsseeds1\\linseeds1-a-p029.png\n",
            "(90, 32, 32)\n",
            "training\\linsseeds1\\linseeds1-a-p030.png\n",
            "(91, 32, 32)\n",
            "training\\sand1\\sand1-a-p001.png\n",
            "(92, 32, 32)\n",
            "training\\sand1\\sand1-a-p002.png\n",
            "(93, 32, 32)\n",
            "training\\sand1\\sand1-a-p003.png\n",
            "(94, 32, 32)\n",
            "training\\sand1\\sand1-a-p004.png\n",
            "(95, 32, 32)\n",
            "training\\sand1\\sand1-a-p005.png\n",
            "(96, 32, 32)\n",
            "training\\sand1\\sand1-a-p006.png\n",
            "(97, 32, 32)\n",
            "training\\sand1\\sand1-a-p007.png\n",
            "(98, 32, 32)\n",
            "training\\sand1\\sand1-a-p008.png\n",
            "(99, 32, 32)\n",
            "training\\sand1\\sand1-a-p009.png\n",
            "(100, 32, 32)\n",
            "training\\sand1\\sand1-a-p010.png\n",
            "(101, 32, 32)\n",
            "training\\sand1\\sand1-a-p011.png\n",
            "(102, 32, 32)\n",
            "training\\sand1\\sand1-a-p012.png\n",
            "(103, 32, 32)\n",
            "training\\sand1\\sand1-a-p013.png\n",
            "(104, 32, 32)\n",
            "training\\sand1\\sand1-a-p014.png\n",
            "(105, 32, 32)\n",
            "training\\sand1\\sand1-a-p015.png\n",
            "(106, 32, 32)\n",
            "training\\sand1\\sand1-a-p016.png\n",
            "(107, 32, 32)\n",
            "training\\sand1\\sand1-a-p017.png\n",
            "(108, 32, 32)\n",
            "training\\sand1\\sand1-a-p018.png\n",
            "(109, 32, 32)\n",
            "training\\sand1\\sand1-a-p019.png\n",
            "(110, 32, 32)\n",
            "training\\sand1\\sand1-a-p020.png\n",
            "(111, 32, 32)\n",
            "training\\sand1\\sand1-a-p021.png\n",
            "(112, 32, 32)\n",
            "training\\sand1\\sand1-a-p022.png\n",
            "(113, 32, 32)\n",
            "training\\sand1\\sand1-a-p023.png\n",
            "(114, 32, 32)\n",
            "training\\sand1\\sand1-a-p024.png\n",
            "(115, 32, 32)\n",
            "training\\sand1\\sand1-a-p025.png\n",
            "(116, 32, 32)\n",
            "training\\sand1\\sand1-a-p026.png\n",
            "(117, 32, 32)\n",
            "training\\sand1\\sand1-a-p027.png\n",
            "(118, 32, 32)\n",
            "training\\sand1\\sand1-a-p028.png\n",
            "(119, 32, 32)\n",
            "training\\sand1\\sand1-a-p029.png\n",
            "(120, 32, 32)\n",
            "training\\sand1\\sand1-a-p030.png\n",
            "(121, 32, 32)\n",
            "training\\seat2\\seat2-a-p001.png\n",
            "(122, 32, 32)\n",
            "training\\seat2\\seat2-a-p002.png\n",
            "(123, 32, 32)\n",
            "training\\seat2\\seat2-a-p003.png\n",
            "(124, 32, 32)\n",
            "training\\seat2\\seat2-a-p004.png\n",
            "(125, 32, 32)\n",
            "training\\seat2\\seat2-a-p005.png\n",
            "(126, 32, 32)\n",
            "training\\seat2\\seat2-a-p006.png\n",
            "(127, 32, 32)\n",
            "training\\seat2\\seat2-a-p007.png\n",
            "(128, 32, 32)\n",
            "training\\seat2\\seat2-a-p008.png\n",
            "(129, 32, 32)\n",
            "training\\seat2\\seat2-a-p009.png\n",
            "(130, 32, 32)\n",
            "training\\seat2\\seat2-a-p010.png\n",
            "(131, 32, 32)\n",
            "training\\seat2\\seat2-a-p011.png\n",
            "(132, 32, 32)\n",
            "training\\seat2\\seat2-a-p012.png\n",
            "(133, 32, 32)\n",
            "training\\seat2\\seat2-a-p013.png\n",
            "(134, 32, 32)\n",
            "training\\seat2\\seat2-a-p014.png\n",
            "(135, 32, 32)\n",
            "training\\seat2\\seat2-a-p015.png\n",
            "(136, 32, 32)\n",
            "training\\seat2\\seat2-a-p016.png\n",
            "(137, 32, 32)\n",
            "training\\seat2\\seat2-a-p017.png\n",
            "(138, 32, 32)\n",
            "training\\seat2\\seat2-a-p018.png\n",
            "(139, 32, 32)\n",
            "training\\seat2\\seat2-a-p019.png\n",
            "(140, 32, 32)\n",
            "training\\seat2\\seat2-a-p020.png\n",
            "(141, 32, 32)\n",
            "training\\seat2\\seat2-a-p021.png\n",
            "(142, 32, 32)\n",
            "training\\seat2\\seat2-a-p022.png\n",
            "(143, 32, 32)\n",
            "training\\seat2\\seat2-a-p023.png\n",
            "(144, 32, 32)\n",
            "training\\seat2\\seat2-a-p024.png\n",
            "(145, 32, 32)\n",
            "training\\seat2\\seat2-a-p025.png\n",
            "(146, 32, 32)\n",
            "training\\seat2\\seat2-a-p026.png\n",
            "(147, 32, 32)\n",
            "training\\seat2\\seat2-a-p027.png\n",
            "(148, 32, 32)\n",
            "training\\seat2\\seat2-a-p028.png\n",
            "(149, 32, 32)\n",
            "training\\seat2\\seat2-a-p029.png\n",
            "(150, 32, 32)\n",
            "training\\seat2\\seat2-a-p030.png\n",
            "(151, 32, 32)\n",
            "training\\stone1\\stone1-a-p001.png\n",
            "(152, 32, 32)\n",
            "training\\stone1\\stone1-a-p002.png\n",
            "(153, 32, 32)\n",
            "training\\stone1\\stone1-a-p003.png\n",
            "(154, 32, 32)\n",
            "training\\stone1\\stone1-a-p004.png\n",
            "(155, 32, 32)\n",
            "training\\stone1\\stone1-a-p005.png\n",
            "(156, 32, 32)\n",
            "training\\stone1\\stone1-a-p006.png\n",
            "(157, 32, 32)\n",
            "training\\stone1\\stone1-a-p007.png\n",
            "(158, 32, 32)\n",
            "training\\stone1\\stone1-a-p008.png\n",
            "(159, 32, 32)\n",
            "training\\stone1\\stone1-a-p009.png\n",
            "(160, 32, 32)\n",
            "training\\stone1\\stone1-a-p010.png\n",
            "(161, 32, 32)\n",
            "training\\stone1\\stone1-a-p011.png\n",
            "(162, 32, 32)\n",
            "training\\stone1\\stone1-a-p012.png\n",
            "(163, 32, 32)\n",
            "training\\stone1\\stone1-a-p013.png\n",
            "(164, 32, 32)\n",
            "training\\stone1\\stone1-a-p014.png\n",
            "(165, 32, 32)\n",
            "training\\stone1\\stone1-a-p015.png\n",
            "(166, 32, 32)\n",
            "training\\stone1\\stone1-a-p016.png\n",
            "(167, 32, 32)\n",
            "training\\stone1\\stone1-a-p017.png\n",
            "(168, 32, 32)\n",
            "training\\stone1\\stone1-a-p018.png\n",
            "(169, 32, 32)\n",
            "training\\stone1\\stone1-a-p019.png\n",
            "(170, 32, 32)\n",
            "training\\stone1\\stone1-a-p020.png\n",
            "(171, 32, 32)\n",
            "training\\stone1\\stone1-a-p021.png\n",
            "(172, 32, 32)\n",
            "training\\stone1\\stone1-a-p022.png\n",
            "(173, 32, 32)\n",
            "training\\stone1\\stone1-a-p023.png\n",
            "(174, 32, 32)\n",
            "training\\stone1\\stone1-a-p024.png\n",
            "(175, 32, 32)\n",
            "training\\stone1\\stone1-a-p025.png\n",
            "(176, 32, 32)\n",
            "training\\stone1\\stone1-a-p026.png\n",
            "(177, 32, 32)\n",
            "training\\stone1\\stone1-a-p027.png\n",
            "(178, 32, 32)\n",
            "training\\stone1\\stone1-a-p028.png\n",
            "(179, 32, 32)\n",
            "training\\stone1\\stone1-a-p029.png\n",
            "(180, 32, 32)\n",
            "training\\stone1\\stone1-a-p030.png\n",
            "(181, 32, 32)\n"
          ]
        }
      ],
      "source": [
        "dirs = list(os.walk('training\\\\'))[1:]\n",
        "data = np.zeros((1,32,32))\n",
        "for i in dirs:\n",
        "    for filename in i[2]:\n",
        "        img = io.imread(os.path.join(i[0],filename))\n",
        "        print(os.path.join(i[0],filename))\n",
        "        img = rgb2gray(img)\n",
        "        img = img.copy()\n",
        "        img.resize((1,32,32))\n",
        "        data = np.concatenate((data,img),axis=0)\n",
        "        print(data.shape)\n",
        "\n"
      ]
    },
    {
      "cell_type": "code",
      "execution_count": null,
      "metadata": {
        "id": "JZ_p4iaZBCqK"
      },
      "outputs": [],
      "source": [
        "data = data[1:]"
      ]
    },
    {
      "cell_type": "code",
      "execution_count": null,
      "metadata": {
        "id": "w-ANk6d2BCqL",
        "outputId": "23a87901-1768-44b1-921a-647f5ee7fdcf"
      },
      "outputs": [
        {
          "data": {
            "text/plain": [
              "(180, 32, 32)"
            ]
          },
          "execution_count": 4,
          "metadata": {},
          "output_type": "execute_result"
        }
      ],
      "source": [
        "data.shape"
      ]
    },
    {
      "cell_type": "markdown",
      "metadata": {
        "id": "l8bMDY43BCqM"
      },
      "source": [
        "# Preparing Dataset\n"
      ]
    },
    {
      "cell_type": "code",
      "execution_count": null,
      "metadata": {
        "id": "qUwSacAsBCqN",
        "outputId": "ed290b39-3570-40c7-e759-3c26dd0ab5f7"
      },
      "outputs": [
        {
          "data": {
            "text/plain": [
              "(30, 32, 32)"
            ]
          },
          "execution_count": 5,
          "metadata": {},
          "output_type": "execute_result"
        }
      ],
      "source": [
        "canvas = data[:30]\n",
        "cushion = data[30:60]\n",
        "linsseeds = data[60:90]\n",
        "sand = data[90:120]\n",
        "seat = data[120:150]\n",
        "stone = data[150:]\n",
        "stone.shape"
      ]
    },
    {
      "cell_type": "code",
      "execution_count": null,
      "metadata": {
        "id": "YinZd8lhBCqN",
        "outputId": "acbbd44b-02de-4b9f-a731-b984995f2f04"
      },
      "outputs": [
        {
          "name": "stdout",
          "output_type": "stream",
          "text": [
            "(435, 2, 32, 32)\n"
          ]
        }
      ],
      "source": [
        "def make_combine(dataset):\n",
        "    arr = np.zeros((1,2,32,32))\n",
        "    for img1,img2 in combinations(dataset,2):\n",
        "        temp = np.concatenate((img1,img2),axis=0)\n",
        "        temp = temp.reshape((1,2,32,32))\n",
        "        arr = np.concatenate((arr,temp))\n",
        "\n",
        "    arr = arr[1:,:,:,:]\n",
        "    return arr.copy()\n",
        "\n",
        "stone_stone_x = make_combine(stone)\n",
        "canvas_canvas_x = make_combine(canvas)\n",
        "cushion_cushion_x = make_combine(cushion)\n",
        "linsseeds_linsseeds_x = make_combine(linsseeds)\n",
        "sand_sand_x = make_combine(sand)\n",
        "seat_seat_x = make_combine(seat)\n",
        "print(seat_seat_x.shape)\n"
      ]
    },
    {
      "cell_type": "code",
      "execution_count": null,
      "metadata": {
        "id": "MDBEXlK_BCqO",
        "outputId": "6bd99929-4906-45b0-89e0-763ec77e45da"
      },
      "outputs": [
        {
          "name": "stdout",
          "output_type": "stream",
          "text": [
            "(900, 2, 32, 32)\n"
          ]
        }
      ],
      "source": [
        "def make_product(dataset1,datset2):\n",
        "    arr = np.zeros((1,2,32,32))\n",
        "    for img1,img2 in product(dataset1,datset2):\n",
        "        temp = np.concatenate((img1,img2),axis=0)\n",
        "        temp = temp.reshape((1,2,32,32))\n",
        "        arr = np.concatenate((arr,temp))\n",
        "\n",
        "    arr = arr[1:,:,:,:]\n",
        "    return arr.copy()\n",
        "stone_canvas_x = make_product(stone,canvas)\n",
        "stone_cushion_x = make_product(stone,cushion)\n",
        "stone_linsseeds_x = make_product(stone,linsseeds)\n",
        "stone_sand_x = make_product(stone,sand)\n",
        "stone_seat_x = make_product(stone,seat)\n",
        "\n",
        "canvas_sand_x = make_product(canvas,sand)\n",
        "canvas_cushion_x = make_product(canvas,cushion)\n",
        "canvas_linsseeds_x = make_product(canvas,linsseeds)\n",
        "canvas_seat_x = make_product(canvas,seat)\n",
        "\n",
        "cushion_linsseeds_x = make_product(cushion,linsseeds)\n",
        "cushion_sand_x = make_product(cushion,sand)\n",
        "cushion_seat_x = make_product(cushion,seat)\n",
        "\n",
        "linsseeds_sand_x = make_product(linsseeds,sand)\n",
        "linsseeds_seat_x = make_product(linsseeds,seat)\n",
        "\n",
        "sand_seat_x = make_product(sand,seat)\n",
        "\n",
        "print(stone_canvas_x.shape)"
      ]
    },
    {
      "cell_type": "code",
      "execution_count": null,
      "metadata": {
        "id": "0QR7EHwmBCqP"
      },
      "outputs": [],
      "source": [
        "stone_canvas_y = np.zeros((stone_canvas_x.shape[0],))\n",
        "stone_cushion_y = np.zeros((stone_cushion_x.shape[0],))\n",
        "stone_linsseeds_y = np.zeros((stone_linsseeds_x.shape[0],))\n",
        "stone_sand_y = np.zeros((stone_sand_x.shape[0],))\n",
        "stone_seat_y = np.zeros((stone_seat_x.shape[0],))\n",
        "\n",
        "canvas_sand_y = np.zeros((canvas_sand_x.shape[0],))\n",
        "canvas_cushion_y = np.zeros((canvas_cushion_x.shape[0],))\n",
        "canvas_linsseeds_y = np.zeros((canvas_linsseeds_x.shape[0],))\n",
        "canvas_seat_y = np.zeros((canvas_seat_x.shape[0],))\n",
        "\n",
        "cushion_linsseeds_y = np.zeros((cushion_linsseeds_x.shape[0],))\n",
        "cushion_sand_y = np.zeros((cushion_sand_x.shape[0],))\n",
        "cushion_seat_y = np.zeros((cushion_seat_x.shape[0],))\n",
        "\n",
        "linsseeds_sand_y = np.zeros((linsseeds_sand_x.shape[0],))\n",
        "linsseeds_seat_y = np.zeros((linsseeds_seat_x.shape[0],))\n",
        "\n",
        "sand_seat_y = np.zeros((sand_seat_x.shape[0],))\n"
      ]
    },
    {
      "cell_type": "code",
      "execution_count": null,
      "metadata": {
        "id": "hLCcSIOIBCqQ"
      },
      "outputs": [],
      "source": [
        "stone_stone_y = np.ones((stone_stone_x.shape[0],))\n",
        "canvas_canvas_y = np.ones((canvas_canvas_x.shape[0],))\n",
        "cushion_cushion_y = np.ones((cushion_cushion_x.shape[0],))\n",
        "linsseeds_linsseeds_y = np.ones((linsseeds_linsseeds_x.shape[0],))\n",
        "sand_sand_y = np.ones((sand_sand_x.shape[0],))\n",
        "seat_seat_y = np.ones((seat_seat_x.shape[0],))"
      ]
    },
    {
      "cell_type": "markdown",
      "metadata": {
        "id": "Wr2ZLjcjBCqQ"
      },
      "source": [
        "# Template Matching"
      ]
    },
    {
      "cell_type": "code",
      "execution_count": null,
      "metadata": {
        "id": "M3_q4lp7BCqR"
      },
      "outputs": [],
      "source": [
        "def get_thresh_cc(dataset1,normalize='n'):\n",
        "    \n",
        "    score = []\n",
        "    for x in range(dataset1.shape[0]):\n",
        "        ImageA = dataset1[x][0].copy()\n",
        "        ImageB = dataset1[x][1].copy()\n",
        "        #print(ImageA.shape)\n",
        "        #print(ImageB.shape)\n",
        "        if(normalize=='y'):\n",
        "            ImageA = (ImageA-np.mean(ImageA))/np.std(ImageA)\n",
        "            ImageB = (ImageB-np.mean(ImageB))/np.std(ImageB)\n",
        "\n",
        "        score.append(np.sum([ImageA*ImageB]))\n",
        "    \n",
        "    return np.percentile(np.array(score),75)\n",
        "\n",
        "def get_thresh_conv(dataset1,normalize='n'):\n",
        "    \n",
        "    score = []\n",
        "    for x in range(dataset1.shape[0]):\n",
        "        ImageA = dataset1[x][0].copy()\n",
        "        ImageB = dataset1[x][1].copy()\n",
        "        #print(ImageA.shape)\n",
        "        #print(ImageB.shape)\n",
        "        if(normalize=='y'):\n",
        "            ImageA = (ImageA-np.mean(ImageA))/np.std(ImageA)\n",
        "            ImageB = (ImageB-np.mean(ImageB))/np.std(ImageB)\n",
        "\n",
        "        score.append(np.sum([np.flip(np.flip(ImageA,axis=0),axis=1)*ImageB]))\n",
        "    \n",
        "    return np.percentile(np.array(score),75)\n",
        "\n",
        "\n",
        "def get_thresh_ssd(dataset1,normalize='n'):\n",
        "    \n",
        "    score = []\n",
        "    for x in range(dataset1.shape[0]):\n",
        "        ImageA = dataset1[x][0].copy()\n",
        "        ImageB = dataset1[x][1].copy()\n",
        "        #print(ImageA.shape)\n",
        "        #print(ImageB.shape)\n",
        "        if(normalize=='y'):\n",
        "            ImageA = (ImageA-np.mean(ImageA))/np.std(ImageA)\n",
        "            ImageB = (ImageB-np.mean(ImageB))/np.std(ImageB)\n",
        "\n",
        "        score.append(np.sum(np.power((ImageA-ImageB),2)))\n",
        "    \n",
        "    return np.percentile(np.array(score),15)\n",
        "\n",
        "\n",
        "def cross_cor(img1:np.array,img2:np.array,thresh):\n",
        "    assert img1.size == img2.size\n",
        "    score = np.sum([img1*img2])\n",
        "    #print(f'score is {score}')\n",
        "    #print(f'thresh is {thresh}')\n",
        "    if(score>=thresh):\n",
        "        return True\n",
        "    else:\n",
        "        return False\n",
        "\n",
        "def conv(img1: np.array,img2: np.array,thresh):\n",
        "    assert img1.size == img2.size\n",
        "\n",
        "    img1 = np.flip(img1,axis=0)\n",
        "    img1 = np.flip(img1,axis=1)\n",
        "    score = np.sum([img1*img2])\n",
        "    #print(f'score is {score}')\n",
        "    #print(f'thresh is {thresh}')\n",
        "    if(score>=thresh):\n",
        "        return True\n",
        "    else:\n",
        "        return False\n",
        "\n",
        "def sum_square(img1:np.array , img2:np.array,thresh):\n",
        "    assert img1.size == img2.size\n",
        "    score = np.sum(np.power((img1-img2),2))\n",
        "    #print(f'score is {score}')\n",
        "    #print(f'thresh is {thresh}')\n",
        "    if(score<thresh):\n",
        "        return True\n",
        "    else:\n",
        "        return False\n",
        "\n",
        "def matchingImages(ImageA:np.array,ImageB:np.array,thresh: float,method='cc',normalize='n'):\n",
        "    try:\n",
        "        assert ImageA.size==ImageB.size\n",
        "    except :\n",
        "        print('Sizes are not equal')\n",
        "        sys.exit(0)\n",
        "    try:\n",
        "        assert method in ['cc','conv','ssd']\n",
        "    except :\n",
        "        print('Method not detected')\n",
        "        sys.exit(0)\n",
        "\n",
        "    try:\n",
        "        assert normalize in ['n','y']\n",
        "    except :\n",
        "        print(f'Normalize has invalid input {normalize}')\n",
        "        sys.exit(0)\n",
        "\n",
        "    if(normalize=='y'):\n",
        "        ImageA = (ImageA-np.mean(ImageA))/np.std(ImageA)\n",
        "        ImageB = (ImageB-np.mean(ImageB))/np.std(ImageB)\n",
        "    \n",
        "    if(method=='cc'):\n",
        "        \n",
        "        return int(cross_cor(ImageA,ImageB,thresh))\n",
        "    elif(method=='conv'):\n",
        "        \n",
        "        return int(conv(ImageA,ImageB,thresh))\n",
        "    else:\n",
        "        \n",
        "        return int(sum_square(ImageA,ImageB,thresh))\n",
        "\n"
      ]
    },
    {
      "cell_type": "code",
      "execution_count": null,
      "metadata": {
        "id": "9KZvXUZJBCqR"
      },
      "outputs": [],
      "source": []
    },
    {
      "cell_type": "code",
      "execution_count": null,
      "metadata": {
        "id": "ArI63VFzBCqS"
      },
      "outputs": [],
      "source": [
        "threshcc = get_thresh_cc(stone_stone_x)\n",
        "threshconv = get_thresh_conv(stone_stone_x)\n",
        "threshssd = get_thresh_ssd(stone_stone_x)"
      ]
    },
    {
      "cell_type": "code",
      "execution_count": null,
      "metadata": {
        "id": "uzk7hRUUBCqS"
      },
      "outputs": [],
      "source": []
    },
    {
      "cell_type": "code",
      "execution_count": null,
      "metadata": {
        "id": "S5dO7ImlBCqS",
        "outputId": "6576c118-0291-4d65-8b8c-150cf7fda386"
      },
      "outputs": [
        {
          "data": {
            "text/plain": [
              "0"
            ]
          },
          "execution_count": 12,
          "metadata": {},
          "output_type": "execute_result"
        }
      ],
      "source": [
        "matchingImages(stone_cushion_x[0][0],stone_cushion_x[0][1],threshcc,'cc','n')"
      ]
    },
    {
      "cell_type": "code",
      "execution_count": null,
      "metadata": {
        "id": "NJSs7lc_BCqS",
        "outputId": "04e8a6ea-f59e-4316-9843-ca5003401b62"
      },
      "outputs": [
        {
          "data": {
            "text/plain": [
              "0"
            ]
          },
          "execution_count": 13,
          "metadata": {},
          "output_type": "execute_result"
        }
      ],
      "source": [
        "matchingImages(stone_cushion_x[0][0],stone_cushion_x[0][1],threshconv,'conv','n')"
      ]
    },
    {
      "cell_type": "code",
      "execution_count": null,
      "metadata": {
        "id": "JzseYZeBBCqT",
        "outputId": "cbe4d499-b786-477d-99f0-9e8cb149e2e0"
      },
      "outputs": [
        {
          "data": {
            "text/plain": [
              "0"
            ]
          },
          "execution_count": 14,
          "metadata": {},
          "output_type": "execute_result"
        }
      ],
      "source": [
        "matchingImages(stone_cushion_x[0][0],stone_cushion_x[0][1],threshssd,'ssd','n')"
      ]
    },
    {
      "cell_type": "code",
      "execution_count": null,
      "metadata": {
        "id": "QlTjXxw7BCqT",
        "outputId": "b1fa984c-fcd0-4e45-a334-1284e9b95112"
      },
      "outputs": [
        {
          "data": {
            "text/plain": [
              "1"
            ]
          },
          "execution_count": 15,
          "metadata": {},
          "output_type": "execute_result"
        }
      ],
      "source": [
        "matchingImages(stone_stone_x[0][0],stone_stone_x[0][1],threshcc,'cc','n')"
      ]
    },
    {
      "cell_type": "code",
      "execution_count": null,
      "metadata": {
        "id": "WM5cboFVBCqT",
        "outputId": "787967aa-f156-4df4-e7a2-6e583285a2f6"
      },
      "outputs": [
        {
          "data": {
            "text/plain": [
              "1"
            ]
          },
          "execution_count": 16,
          "metadata": {},
          "output_type": "execute_result"
        }
      ],
      "source": [
        "matchingImages(stone_stone_x[0][0],stone_stone_x[0][1],threshconv,'conv','n')"
      ]
    },
    {
      "cell_type": "code",
      "execution_count": null,
      "metadata": {
        "id": "yZYUc0x2BCqU",
        "outputId": "45f4c03a-310b-4fdc-f254-decca83c77cf"
      },
      "outputs": [
        {
          "data": {
            "text/plain": [
              "1"
            ]
          },
          "execution_count": 17,
          "metadata": {},
          "output_type": "execute_result"
        }
      ],
      "source": [
        "matchingImages(stone_stone_x[0][0],stone_stone_x[0][1],threshssd,'ssd','n')"
      ]
    },
    {
      "cell_type": "markdown",
      "metadata": {
        "id": "lZqy664_BCqU"
      },
      "source": [
        "### Now Testing the Logic"
      ]
    },
    {
      "cell_type": "markdown",
      "metadata": {
        "id": "zNGa5umPBCqU"
      },
      "source": [
        "##### First creating the datasets"
      ]
    },
    {
      "cell_type": "code",
      "execution_count": null,
      "metadata": {
        "id": "t3MTM16uBCqU"
      },
      "outputs": [],
      "source": [
        "full_data = np.concatenate([stone_canvas_x,stone_stone_x,stone_cushion_x,stone_linsseeds_x,stone_sand_x,stone_seat_x,canvas_canvas_x,canvas_cushion_x,canvas_linsseeds_x,canvas_sand_x,canvas_seat_x,linsseeds_linsseeds_x,linsseeds_sand_x,linsseeds_seat_x,cushion_linsseeds_x,cushion_cushion_x,cushion_sand_x,cushion_seat_x,sand_sand_x,sand_seat_x,seat_seat_x],axis=0)"
      ]
    },
    {
      "cell_type": "code",
      "execution_count": null,
      "metadata": {
        "id": "5nk0hHUYBCqV",
        "outputId": "97d67d83-81ba-458a-dbea-f2db0b8958e7"
      },
      "outputs": [
        {
          "data": {
            "text/plain": [
              "(16110, 2, 32, 32)"
            ]
          },
          "execution_count": 19,
          "metadata": {},
          "output_type": "execute_result"
        }
      ],
      "source": [
        "full_data.shape"
      ]
    },
    {
      "cell_type": "code",
      "execution_count": null,
      "metadata": {
        "id": "wd2OCwDRBCqV"
      },
      "outputs": [],
      "source": [
        "full_label = np.concatenate([stone_canvas_y,stone_stone_y,stone_cushion_y,stone_linsseeds_y,stone_sand_y,stone_seat_y,canvas_canvas_y,canvas_cushion_y,canvas_linsseeds_y,canvas_sand_y,canvas_seat_y,linsseeds_linsseeds_y,linsseeds_sand_y,linsseeds_seat_y,cushion_linsseeds_y,cushion_cushion_y,cushion_sand_y,cushion_seat_y,sand_sand_y,sand_seat_y,seat_seat_y],axis=0)"
      ]
    },
    {
      "cell_type": "code",
      "execution_count": null,
      "metadata": {
        "id": "OmB1FXTQBCqV",
        "outputId": "fbad448b-6f35-4b1d-c8b2-e8bc8da0a751"
      },
      "outputs": [
        {
          "data": {
            "text/plain": [
              "(16110,)"
            ]
          },
          "execution_count": 21,
          "metadata": {},
          "output_type": "execute_result"
        }
      ],
      "source": [
        "full_label.shape"
      ]
    },
    {
      "cell_type": "code",
      "execution_count": null,
      "metadata": {
        "id": "qAqktee4BCqV"
      },
      "outputs": [],
      "source": [
        "threshcc = get_thresh_cc(full_data)\n",
        "threshconv = get_thresh_conv(full_data)\n",
        "threshssd = get_thresh_ssd(full_data)"
      ]
    },
    {
      "cell_type": "code",
      "execution_count": null,
      "metadata": {
        "id": "2jnFByD6BCqV"
      },
      "outputs": [],
      "source": [
        "y_cc = []\n",
        "y_ssd = []\n",
        "y_conv = []"
      ]
    },
    {
      "cell_type": "code",
      "execution_count": null,
      "metadata": {
        "id": "SW8OcoIOBCqW"
      },
      "outputs": [],
      "source": [
        "start_time = time.time()\n",
        "for i in range(full_data.shape[0]):\n",
        "\n",
        "    y_ssd.append(matchingImages(full_data[i][0],full_data[i][1],threshssd,'ssd','n'))\n",
        "    y_cc.append(matchingImages(full_data[i][0],full_data[i][1],threshcc,'cc','n'))\n",
        "    y_conv.append(matchingImages(full_data[i][0],full_data[i][1],threshconv,'conv','n'))\n",
        "\n",
        "exec_time_template_Non = time.time()-start_time"
      ]
    },
    {
      "cell_type": "code",
      "execution_count": null,
      "metadata": {
        "id": "ec9XmQtmBCqW",
        "outputId": "cf7ba739-9fe6-40eb-ac3b-eb4a371bb994"
      },
      "outputs": [
        {
          "name": "stdout",
          "output_type": "stream",
          "text": [
            "Classifier accuracy on the training set using SSD 0.7491620111731844 \n",
            "Classifier accuracy on the training set using CC 0.6593420235878337 \n",
            "Classifier accuracy on the training set using CONV 0.661576660459342 \n"
          ]
        }
      ],
      "source": [
        "\n",
        "print('Classifier accuracy on the training set using SSD {0} '.format(accuracy_score(y_ssd, full_label)))\n",
        "print('Classifier accuracy on the training set using CC {0} '.format(accuracy_score(y_cc, full_label)))\n",
        "print('Classifier accuracy on the training set using CONV {0} '.format(accuracy_score(y_conv, full_label)))"
      ]
    },
    {
      "cell_type": "code",
      "execution_count": null,
      "metadata": {
        "id": "tL7fhPG7BCqW",
        "outputId": "76da7ac5-ead5-4dcc-db43-4923a37f0976"
      },
      "outputs": [
        {
          "name": "stdout",
          "output_type": "stream",
          "text": [
            "execution time 1.4671123027801514\n"
          ]
        }
      ],
      "source": [
        "print(f'execution time {exec_time_template_Non}')"
      ]
    },
    {
      "cell_type": "code",
      "execution_count": null,
      "metadata": {
        "id": "EThAexCSBCqW"
      },
      "outputs": [],
      "source": [
        "threshcc = get_thresh_cc(full_data,'y')\n",
        "threshconv = get_thresh_conv(full_data,'y')\n",
        "threshssd = get_thresh_ssd(full_data,'y')\n",
        "y_cc = []\n",
        "y_ssd = []\n",
        "y_conv = []\n",
        "start_time = time.time()\n",
        "for i in range(full_data.shape[0]):\n",
        "\n",
        "    y_ssd.append(matchingImages(full_data[i][0],full_data[i][1],threshssd,'ssd','y'))\n",
        "    y_cc.append(matchingImages(full_data[i][0],full_data[i][1],threshcc,'cc','y'))\n",
        "    y_conv.append(matchingImages(full_data[i][0],full_data[i][1],threshconv,'conv','y'))\n",
        "\n",
        "exec_time_template_With = time.time()-start_time"
      ]
    },
    {
      "cell_type": "code",
      "execution_count": null,
      "metadata": {
        "id": "o16gv-ZnBCqX",
        "outputId": "aa542cd2-279b-432e-d62c-6754c2b0d14b"
      },
      "outputs": [
        {
          "name": "stdout",
          "output_type": "stream",
          "text": [
            "With Normalized Images:\n",
            "\n",
            "Classifier accuracy on the training set using SSD 0.7548727498448169 \n",
            "Classifier accuracy on the training set using CC 0.6856610800744879 \n",
            "Classifier accuracy on the training set using CONV 0.6820608317815021 \n",
            "execution time 7.041891813278198\n"
          ]
        }
      ],
      "source": [
        "print('With Normalized Images:\\n')\n",
        "print('Classifier accuracy on the training set using SSD {0} '.format(accuracy_score(y_ssd, full_label)))\n",
        "print('Classifier accuracy on the training set using CC {0} '.format(accuracy_score(y_cc, full_label)))\n",
        "print('Classifier accuracy on the training set using CONV {0} '.format(accuracy_score(y_conv, full_label)))\n",
        "print(f'execution time {exec_time_template_With}')"
      ]
    },
    {
      "cell_type": "markdown",
      "metadata": {
        "id": "ONP59Kt_BCqX"
      },
      "source": [
        "# MLP classifier"
      ]
    },
    {
      "cell_type": "markdown",
      "metadata": {
        "id": "N3W5zAy2BCqX"
      },
      "source": [
        "**Reshaping Data**"
      ]
    },
    {
      "cell_type": "code",
      "execution_count": null,
      "metadata": {
        "id": "o6pvvPbnBCqX"
      },
      "outputs": [],
      "source": [
        "full_data = full_data.reshape((full_data.shape[0],full_data.shape[1]*full_data.shape[2]*full_data.shape[3]))"
      ]
    },
    {
      "cell_type": "code",
      "execution_count": null,
      "metadata": {
        "id": "OxsAqkhiBCqX",
        "outputId": "3b9551f8-3bb0-4ecc-c1d7-ec51d7ac0edb"
      },
      "outputs": [
        {
          "data": {
            "text/plain": [
              "(16110, 2048)"
            ]
          },
          "execution_count": 30,
          "metadata": {},
          "output_type": "execute_result"
        }
      ],
      "source": [
        "full_data.shape"
      ]
    },
    {
      "cell_type": "markdown",
      "metadata": {
        "id": "XwgzNPnHBCqX"
      },
      "source": [
        "# Test and Training Data\n",
        "\n",
        "Split data into test and training data after re-shuffling the datatest."
      ]
    },
    {
      "cell_type": "code",
      "execution_count": null,
      "metadata": {
        "id": "h0uQ9UvsBCqY",
        "outputId": "39873d9a-be41-4c97-b8d0-b250d66837b2"
      },
      "outputs": [
        {
          "name": "stdout",
          "output_type": "stream",
          "text": [
            "Matrix shape X:  (10793, 2048)\n",
            "10793 samples for training\n",
            "5317 samples for testing\n"
          ]
        }
      ],
      "source": [
        "\n",
        "X_train, X_test, y_train, y_test = train_test_split(full_data, full_label, test_size=0.33, stratify=full_label, random_state=42)\n",
        "\n",
        "print('Matrix shape X: ', X_train.shape)\n",
        "print('{0} samples for training'.format(X_train.shape[0]))\n",
        "print('{0} samples for testing'.format(X_test.shape[0]))"
      ]
    },
    {
      "cell_type": "code",
      "execution_count": null,
      "metadata": {
        "id": "g9xR-zXhBCqY"
      },
      "outputs": [],
      "source": []
    },
    {
      "cell_type": "markdown",
      "metadata": {
        "id": "03ZyMK8PBCqY"
      },
      "source": [
        "Could compare with logistic regression"
      ]
    },
    {
      "cell_type": "code",
      "execution_count": null,
      "metadata": {
        "id": "lVPlsMbeBCqY",
        "outputId": "346b2c08-8b9e-4a72-cb94-e93b91717de9"
      },
      "outputs": [
        {
          "name": "stdout",
          "output_type": "stream",
          "text": [
            "Iteration 1, loss = 2.69764614\n",
            "Validation score: 0.162137\n",
            "Iteration 2, loss = 0.73502299\n",
            "Validation score: 0.837863\n",
            "Iteration 3, loss = 0.69825436\n",
            "Validation score: 0.837863\n",
            "Iteration 4, loss = 0.66730954\n",
            "Validation score: 0.837863\n",
            "Iteration 5, loss = 0.64167902\n",
            "Validation score: 0.837863\n",
            "Iteration 6, loss = 0.62046354\n",
            "Validation score: 0.837863\n",
            "Iteration 7, loss = 0.60278568\n",
            "Validation score: 0.837863\n",
            "Iteration 8, loss = 0.58808495\n",
            "Validation score: 0.837863\n",
            "Iteration 9, loss = 0.57570481\n",
            "Validation score: 0.837863\n",
            "Iteration 10, loss = 0.56531734\n",
            "Validation score: 0.837863\n",
            "Iteration 11, loss = 0.55656394\n",
            "Validation score: 0.837863\n",
            "Iteration 12, loss = 0.54906736\n",
            "Validation score: 0.837863\n",
            "Iteration 13, loss = 0.54279158\n",
            "Validation score: 0.837863\n",
            "Validation score did not improve more than tol=0.000100 for 10 consecutive epochs. Setting learning rate to 0.000200\n",
            "Iteration 14, loss = 0.53866470\n",
            "Validation score: 0.837863\n",
            "Iteration 15, loss = 0.53742195\n",
            "Validation score: 0.837863\n",
            "Iteration 16, loss = 0.53644489\n",
            "Validation score: 0.837863\n",
            "Iteration 17, loss = 0.53550193\n",
            "Validation score: 0.837863\n",
            "Iteration 18, loss = 0.53459400\n",
            "Validation score: 0.837863\n",
            "Iteration 19, loss = 0.53370367\n",
            "Validation score: 0.837863\n",
            "Iteration 20, loss = 0.53284210\n",
            "Validation score: 0.837863\n",
            "Iteration 21, loss = 0.53200794\n",
            "Validation score: 0.837863\n",
            "Iteration 22, loss = 0.53119767\n",
            "Validation score: 0.837863\n",
            "Iteration 23, loss = 0.53040340\n",
            "Validation score: 0.837863\n",
            "Iteration 24, loss = 0.52964541\n",
            "Validation score: 0.837863\n",
            "Validation score did not improve more than tol=0.000100 for 10 consecutive epochs. Setting learning rate to 0.000040\n",
            "Iteration 25, loss = 0.52909101\n",
            "Validation score: 0.837863\n",
            "Iteration 26, loss = 0.52891016\n",
            "Validation score: 0.837863\n",
            "Iteration 27, loss = 0.52876374\n",
            "Validation score: 0.837863\n",
            "Iteration 28, loss = 0.52861878\n",
            "Validation score: 0.837863\n",
            "Iteration 29, loss = 0.52847564\n",
            "Validation score: 0.837863\n",
            "Iteration 30, loss = 0.52833254\n",
            "Validation score: 0.837863\n",
            "Iteration 31, loss = 0.52818986\n",
            "Validation score: 0.837863\n",
            "Iteration 32, loss = 0.52804879\n",
            "Validation score: 0.837863\n",
            "Iteration 33, loss = 0.52790831\n",
            "Validation score: 0.837863\n",
            "Iteration 34, loss = 0.52776893\n",
            "Validation score: 0.837863\n",
            "Iteration 35, loss = 0.52763046\n",
            "Validation score: 0.837863\n",
            "Validation score did not improve more than tol=0.000100 for 10 consecutive epochs. Setting learning rate to 0.000008\n",
            "Iteration 36, loss = 0.52752723\n",
            "Validation score: 0.837863\n",
            "Iteration 37, loss = 0.52749455\n",
            "Validation score: 0.837863\n",
            "Iteration 38, loss = 0.52746698\n",
            "Validation score: 0.837863\n",
            "Iteration 39, loss = 0.52743941\n",
            "Validation score: 0.837863\n",
            "Iteration 40, loss = 0.52741197\n",
            "Validation score: 0.837863\n",
            "Iteration 41, loss = 0.52738457\n",
            "Validation score: 0.837863\n",
            "Iteration 42, loss = 0.52735725\n",
            "Validation score: 0.837863\n",
            "Iteration 43, loss = 0.52732984\n",
            "Validation score: 0.837863\n",
            "Iteration 44, loss = 0.52730267\n",
            "Validation score: 0.837863\n",
            "Iteration 45, loss = 0.52727522\n",
            "Validation score: 0.837863\n",
            "Iteration 46, loss = 0.52724812\n",
            "Validation score: 0.837863\n",
            "Validation score did not improve more than tol=0.000100 for 10 consecutive epochs. Setting learning rate to 0.000002\n",
            "Iteration 47, loss = 0.52722788\n",
            "Validation score: 0.837863\n",
            "Iteration 48, loss = 0.52722125\n",
            "Validation score: 0.837863\n",
            "Iteration 49, loss = 0.52721583\n",
            "Validation score: 0.837863\n",
            "Iteration 50, loss = 0.52721031\n",
            "Validation score: 0.837863\n",
            "Iteration 51, loss = 0.52720487\n",
            "Validation score: 0.837863\n",
            "Iteration 52, loss = 0.52719945\n",
            "Validation score: 0.837863\n",
            "Iteration 53, loss = 0.52719398\n",
            "Validation score: 0.837863\n",
            "Iteration 54, loss = 0.52718854\n",
            "Validation score: 0.837863\n",
            "Iteration 55, loss = 0.52718317\n",
            "Validation score: 0.837863\n",
            "Iteration 56, loss = 0.52717768\n",
            "Validation score: 0.837863\n",
            "Iteration 57, loss = 0.52717225\n",
            "Validation score: 0.837863\n",
            "Validation score did not improve more than tol=0.000100 for 10 consecutive epochs. Setting learning rate to 0.000000\n",
            "Iteration 58, loss = 0.52716823\n",
            "Validation score: 0.837863\n",
            "Iteration 59, loss = 0.52716693\n",
            "Validation score: 0.837863\n",
            "Iteration 60, loss = 0.52716584\n",
            "Validation score: 0.837863\n",
            "Iteration 61, loss = 0.52716476\n",
            "Validation score: 0.837863\n",
            "Iteration 62, loss = 0.52716367\n",
            "Validation score: 0.837863\n",
            "Iteration 63, loss = 0.52716258\n",
            "Validation score: 0.837863\n",
            "Iteration 64, loss = 0.52716150\n",
            "Validation score: 0.837863\n",
            "Iteration 65, loss = 0.52716041\n",
            "Validation score: 0.837863\n",
            "Iteration 66, loss = 0.52715932\n",
            "Validation score: 0.837863\n",
            "Iteration 67, loss = 0.52715824\n",
            "Validation score: 0.837863\n",
            "Iteration 68, loss = 0.52715715\n",
            "Validation score: 0.837863\n",
            "Validation score did not improve more than tol=0.000100 for 10 consecutive epochs. Learning rate too small. Stopping.\n"
          ]
        }
      ],
      "source": [
        "start_time = time.time()\n",
        "\n",
        "nn_clf = MLPClassifier(max_iter=1000,solver='sgd',verbose='true',early_stopping=True,validation_fraction=0.3,learning_rate='adaptive')\n",
        "nn_clf.fit(X_train, y_train)\n",
        "exec_time_MLP = time.time()-start_time"
      ]
    },
    {
      "cell_type": "markdown",
      "metadata": {
        "id": "x7AhtXCdBCqY"
      },
      "source": [
        "Let's see what the network looks like"
      ]
    },
    {
      "cell_type": "code",
      "execution_count": null,
      "metadata": {
        "id": "6SUY_paHBCqY",
        "outputId": "91ff1b5f-b4fd-46df-cdaf-d85fec147241"
      },
      "outputs": [
        {
          "name": "stdout",
          "output_type": "stream",
          "text": [
            "Number of layers 3\n",
            "Layer 0: Weights (2048, 100) Bias (100,)\n",
            "Layer 1: Weights (100, 1) Bias (1,)\n"
          ]
        }
      ],
      "source": [
        "print(f'Number of layers {nn_clf.n_layers_}')\n",
        "for lyr in range(nn_clf.n_layers_-1):\n",
        "    print('Layer {0}: Weights {1} Bias {2}'.format(lyr,nn_clf.coefs_[lyr].shape, nn_clf.intercepts_[lyr].shape))\n"
      ]
    },
    {
      "cell_type": "code",
      "execution_count": null,
      "metadata": {
        "id": "iZm3CKIVBCqZ",
        "outputId": "13c91a0b-90e6-4e5a-d0d6-893200b2cdba"
      },
      "outputs": [
        {
          "name": "stdout",
          "output_type": "stream",
          "text": [
            "execution time is 40.27688241004944\n"
          ]
        }
      ],
      "source": [
        "print(f'execution time is {exec_time_MLP}')"
      ]
    },
    {
      "cell_type": "markdown",
      "metadata": {
        "id": "MpsH1IQdBCqZ"
      },
      "source": [
        "Let's calculate accuracy"
      ]
    },
    {
      "cell_type": "code",
      "execution_count": null,
      "metadata": {
        "id": "eKAeEEhpBCqZ",
        "outputId": "df85c88c-36c6-419a-fe12-17a58cb675bc"
      },
      "outputs": [
        {
          "name": "stdout",
          "output_type": "stream",
          "text": [
            "Classifier accuracy on the training set is 0.8379505234874456 \n",
            "Classifier accuracy on the test set is 0.8380665788978747 \n"
          ]
        }
      ],
      "source": [
        "y_pred = nn_clf.predict(X_train)\n",
        "y_pred_test = nn_clf.predict(X_test)\n",
        "print('Classifier accuracy on the training set is {0} '.format(accuracy_score(y_train, y_pred)))\n",
        "print('Classifier accuracy on the test set is {0} '.format(accuracy_score(y_test, y_pred_test)))"
      ]
    },
    {
      "cell_type": "markdown",
      "metadata": {
        "id": "Te5KZz9VBCqZ"
      },
      "source": [
        "# Accuracy and Loss Visualization For MLP"
      ]
    },
    {
      "cell_type": "code",
      "execution_count": null,
      "metadata": {
        "id": "or3t-xgYBCqZ",
        "outputId": "df9f0f5f-f90c-4562-b114-10c95dd3e089"
      },
      "outputs": [
        {
          "name": "stdout",
          "output_type": "stream",
          "text": [
            "Iteration 0, loss = 1.456034210373308\n",
            "Iteration 1, loss = 0.6265355899504682\n",
            "Iteration 2, loss = 0.5876886148360849\n",
            "Iteration 3, loss = 0.557883032879511\n",
            "Iteration 4, loss = 0.5349566470237593\n",
            "Iteration 5, loss = 0.517077612155738\n",
            "Iteration 6, loss = 0.503184308516244\n",
            "Iteration 7, loss = 0.49213662380662404\n",
            "Iteration 8, loss = 0.4833831983896334\n",
            "Iteration 9, loss = 0.4764076996335497\n",
            "Iteration 10, loss = 0.47075208847556604\n",
            "Iteration 11, loss = 0.4661886862998634\n",
            "Iteration 12, loss = 0.46246642683791245\n",
            "Iteration 13, loss = 0.45943160477678685\n",
            "Iteration 14, loss = 0.4569353502460741\n",
            "Iteration 15, loss = 0.45486519019418237\n",
            "Iteration 16, loss = 0.45316147225782716\n",
            "Iteration 17, loss = 0.45174314888983785\n",
            "Iteration 18, loss = 0.45055850691865557\n",
            "Iteration 19, loss = 0.449587507754386\n",
            "Iteration 20, loss = 0.4487423902048158\n",
            "Iteration 21, loss = 0.44805033716858933\n",
            "Iteration 22, loss = 0.44745683550977283\n",
            "Iteration 23, loss = 0.44697815226330084\n",
            "Iteration 24, loss = 0.4465407663335144\n",
            "Iteration 25, loss = 0.44620400753046363\n",
            "Iteration 26, loss = 0.4459017371810933\n",
            "Iteration 27, loss = 0.4456439544322113\n",
            "Iteration 28, loss = 0.4454154724688805\n",
            "Iteration 29, loss = 0.44523123109929613\n",
            "Iteration 30, loss = 0.44505716996891487\n",
            "Iteration 31, loss = 0.44499008634646847\n",
            "Iteration 32, loss = 0.4447705801946855\n",
            "Iteration 33, loss = 0.4446921827488549\n",
            "Iteration 34, loss = 0.4446401062500079\n",
            "Iteration 35, loss = 0.44449907904618724\n",
            "Iteration 36, loss = 0.44445955428325423\n",
            "Iteration 37, loss = 0.44436562812573865\n",
            "Iteration 38, loss = 0.44431158718929464\n",
            "Iteration 39, loss = 0.4442565035178218\n",
            "Iteration 40, loss = 0.4442885596449027\n",
            "Iteration 41, loss = 0.4440215352467531\n",
            "Iteration 42, loss = 0.44397107026688154\n",
            "Iteration 43, loss = 0.44475559804620346\n",
            "Iteration 44, loss = 0.4443172122333459\n",
            "Iteration 45, loss = 0.4443027065235379\n",
            "Iteration 46, loss = 0.44429150064814726\n",
            "Iteration 47, loss = 0.4442814251582919\n",
            "Iteration 48, loss = 0.44427237144162696\n",
            "Iteration 49, loss = 0.44426374819345815\n"
          ]
        },
        {
          "data": {
            "text/plain": [
              "Text(0, 0.5, '1-accuracy(loss)')"
            ]
          },
          "execution_count": 36,
          "metadata": {},
          "output_type": "execute_result"
        },
        {
          "data": {
            "image/png": "[encoded data removed]",
            "text/plain": [
              "<Figure size 432x288 with 1 Axes>"
            ]
          },
          "metadata": {
            "needs_background": "light"
          },
          "output_type": "display_data"
        }
      ],
      "source": [
        "import warnings\n",
        "nEpochs = 50\n",
        "\n",
        "nn_clf = MLPClassifier(max_iter=1,warm_start='true',solver='sgd')\n",
        "\n",
        "train_errors, test_errors = [], []\n",
        "\n",
        "for epoch in range(nEpochs): \n",
        "    with warnings.catch_warnings():\n",
        "        warnings.simplefilter(\"ignore\")\n",
        "        nn_clf.fit(X_train, y_train)\n",
        "    print(f'Iteration {epoch}, loss = {nn_clf.loss_}')\n",
        "    train_errors.append(1-accuracy_score(y_train, nn_clf.predict(X_train)))\n",
        "    test_errors.append(1-accuracy_score(y_test, nn_clf.predict(X_test)))\n",
        "    \n",
        "plt.plot(np.sqrt(train_errors), \"r-+\", linewidth=2, label=\"train\")\n",
        "plt.plot(np.sqrt(test_errors), \"b-\", linewidth=3, label=\"test\")\n",
        "plt.legend(loc=\"upper right\", fontsize=14)\n",
        "plt.xlabel(\"Epochs\", fontsize=14)\n",
        "plt.ylabel(\"1-accuracy(loss)\", fontsize=14)  \n",
        "    \n",
        "    "
      ]
    },
    {
      "cell_type": "markdown",
      "metadata": {
        "id": "IVnW0CKgBCqa"
      },
      "source": [
        "# Now Will validate trough the Test Directory "
      ]
    },
    {
      "cell_type": "code",
      "execution_count": null,
      "metadata": {
        "id": "rNi89ctdBCqa",
        "outputId": "fc7a25ad-23af-44f3-a822-d5b4952ad303"
      },
      "outputs": [
        {
          "name": "stdout",
          "output_type": "stream",
          "text": [
            "testing\\canvas1\\canvas1-a-p031.png\n",
            "(2, 32, 32)\n",
            "testing\\canvas1\\canvas1-a-p032.png\n",
            "(3, 32, 32)\n",
            "testing\\canvas1\\canvas1-a-p033.png\n",
            "(4, 32, 32)\n",
            "testing\\canvas1\\canvas1-a-p034.png\n",
            "(5, 32, 32)\n",
            "testing\\canvas1\\canvas1-a-p035.png\n",
            "(6, 32, 32)\n",
            "testing\\canvas1\\canvas1-a-p036.png\n",
            "(7, 32, 32)\n",
            "testing\\canvas1\\canvas1-a-p037.png\n",
            "(8, 32, 32)\n",
            "testing\\canvas1\\canvas1-a-p038.png\n",
            "(9, 32, 32)\n",
            "testing\\canvas1\\canvas1-a-p039.png\n",
            "(10, 32, 32)\n",
            "testing\\canvas1\\canvas1-a-p040.png\n",
            "(11, 32, 32)\n",
            "testing\\cushion1\\cushion1-a-p031.png\n",
            "(12, 32, 32)\n",
            "testing\\cushion1\\cushion1-a-p032.png\n",
            "(13, 32, 32)\n",
            "testing\\cushion1\\cushion1-a-p033.png\n",
            "(14, 32, 32)\n",
            "testing\\cushion1\\cushion1-a-p034.png\n",
            "(15, 32, 32)\n",
            "testing\\cushion1\\cushion1-a-p035.png\n",
            "(16, 32, 32)\n",
            "testing\\cushion1\\cushion1-a-p036.png\n",
            "(17, 32, 32)\n",
            "testing\\cushion1\\cushion1-a-p037.png\n",
            "(18, 32, 32)\n",
            "testing\\cushion1\\cushion1-a-p038.png\n",
            "(19, 32, 32)\n",
            "testing\\cushion1\\cushion1-a-p039.png\n",
            "(20, 32, 32)\n",
            "testing\\cushion1\\cushion1-a-p040.png\n",
            "(21, 32, 32)\n",
            "testing\\linsseeds1\\linseeds1-a-p031.png\n",
            "(22, 32, 32)\n",
            "testing\\linsseeds1\\linseeds1-a-p032.png\n",
            "(23, 32, 32)\n",
            "testing\\linsseeds1\\linseeds1-a-p033.png\n",
            "(24, 32, 32)\n",
            "testing\\linsseeds1\\linseeds1-a-p034.png\n",
            "(25, 32, 32)\n",
            "testing\\linsseeds1\\linseeds1-a-p035.png\n",
            "(26, 32, 32)\n",
            "testing\\linsseeds1\\linseeds1-a-p036.png\n",
            "(27, 32, 32)\n",
            "testing\\linsseeds1\\linseeds1-a-p037.png\n",
            "(28, 32, 32)\n",
            "testing\\linsseeds1\\linseeds1-a-p038.png\n",
            "(29, 32, 32)\n",
            "testing\\linsseeds1\\linseeds1-a-p039.png\n",
            "(30, 32, 32)\n",
            "testing\\linsseeds1\\linseeds1-a-p040.png\n",
            "(31, 32, 32)\n",
            "testing\\sand1\\sand1-a-p031.png\n",
            "(32, 32, 32)\n",
            "testing\\sand1\\sand1-a-p032.png\n",
            "(33, 32, 32)\n",
            "testing\\sand1\\sand1-a-p033.png\n",
            "(34, 32, 32)\n",
            "testing\\sand1\\sand1-a-p034.png\n",
            "(35, 32, 32)\n",
            "testing\\sand1\\sand1-a-p035.png\n",
            "(36, 32, 32)\n",
            "testing\\sand1\\sand1-a-p036.png\n",
            "(37, 32, 32)\n",
            "testing\\sand1\\sand1-a-p037.png\n",
            "(38, 32, 32)\n",
            "testing\\sand1\\sand1-a-p038.png\n",
            "(39, 32, 32)\n",
            "testing\\sand1\\sand1-a-p039.png\n",
            "(40, 32, 32)\n",
            "testing\\sand1\\sand1-a-p040.png\n",
            "(41, 32, 32)\n",
            "testing\\seat2\\seat2-a-p031.png\n",
            "(42, 32, 32)\n",
            "testing\\seat2\\seat2-a-p032.png\n",
            "(43, 32, 32)\n",
            "testing\\seat2\\seat2-a-p033.png\n",
            "(44, 32, 32)\n",
            "testing\\seat2\\seat2-a-p034.png\n",
            "(45, 32, 32)\n",
            "testing\\seat2\\seat2-a-p035.png\n",
            "(46, 32, 32)\n",
            "testing\\seat2\\seat2-a-p036.png\n",
            "(47, 32, 32)\n",
            "testing\\seat2\\seat2-a-p037.png\n",
            "(48, 32, 32)\n",
            "testing\\seat2\\seat2-a-p038.png\n",
            "(49, 32, 32)\n",
            "testing\\seat2\\seat2-a-p039.png\n",
            "(50, 32, 32)\n",
            "testing\\seat2\\seat2-a-p040.png\n",
            "(51, 32, 32)\n",
            "testing\\stone1\\stone1-a-p031.png\n",
            "(52, 32, 32)\n",
            "testing\\stone1\\stone1-a-p032.png\n",
            "(53, 32, 32)\n",
            "testing\\stone1\\stone1-a-p033.png\n",
            "(54, 32, 32)\n",
            "testing\\stone1\\stone1-a-p034.png\n",
            "(55, 32, 32)\n",
            "testing\\stone1\\stone1-a-p035.png\n",
            "(56, 32, 32)\n",
            "testing\\stone1\\stone1-a-p036.png\n",
            "(57, 32, 32)\n",
            "testing\\stone1\\stone1-a-p037.png\n",
            "(58, 32, 32)\n",
            "testing\\stone1\\stone1-a-p038.png\n",
            "(59, 32, 32)\n",
            "testing\\stone1\\stone1-a-p039.png\n",
            "(60, 32, 32)\n",
            "testing\\stone1\\stone1-a-p040.png\n",
            "(61, 32, 32)\n"
          ]
        }
      ],
      "source": [
        "dirs = list(os.walk('testing\\\\'))[1:]\n",
        "data = np.zeros((1,32,32))\n",
        "for i in dirs:\n",
        "    for filename in i[2]:\n",
        "        img = io.imread(os.path.join(i[0],filename))\n",
        "        print(os.path.join(i[0],filename))\n",
        "        img = rgb2gray(img)\n",
        "        img = img.copy()\n",
        "        img.resize((1,32,32))\n",
        "        data = np.concatenate((data,img),axis=0)\n",
        "        print(data.shape)\n",
        "\n"
      ]
    },
    {
      "cell_type": "code",
      "execution_count": null,
      "metadata": {
        "id": "b0EsBNPvBCqa"
      },
      "outputs": [],
      "source": [
        "data = data[1:]"
      ]
    },
    {
      "cell_type": "code",
      "execution_count": null,
      "metadata": {
        "id": "qKx9Rq3JBCqa",
        "outputId": "482ae3a2-ca0f-4070-9864-197328cf00fd"
      },
      "outputs": [
        {
          "data": {
            "text/plain": [
              "(60, 32, 32)"
            ]
          },
          "execution_count": 39,
          "metadata": {},
          "output_type": "execute_result"
        }
      ],
      "source": [
        "data.shape"
      ]
    },
    {
      "cell_type": "markdown",
      "metadata": {
        "id": "yDxOJu4dBCqa"
      },
      "source": [
        "# Preparing Dataset\n"
      ]
    },
    {
      "cell_type": "code",
      "execution_count": null,
      "metadata": {
        "id": "srdUFfdbBCqb",
        "outputId": "e18f459a-f900-448b-a4e9-b1f8e91b60c3"
      },
      "outputs": [
        {
          "data": {
            "text/plain": [
              "(10, 32, 32)"
            ]
          },
          "execution_count": 40,
          "metadata": {},
          "output_type": "execute_result"
        }
      ],
      "source": [
        "canvas = data[:10]\n",
        "cushion = data[10:20]\n",
        "linsseeds = data[20:30]\n",
        "sand = data[30:40]\n",
        "seat = data[40:50]\n",
        "stone = data[50:]\n",
        "stone.shape"
      ]
    },
    {
      "cell_type": "code",
      "execution_count": null,
      "metadata": {
        "id": "b-1vK_0hBCqb",
        "outputId": "9c88b1d5-1b43-40c5-ce54-a05ecb583a25"
      },
      "outputs": [
        {
          "name": "stdout",
          "output_type": "stream",
          "text": [
            "(45, 2, 32, 32)\n"
          ]
        }
      ],
      "source": [
        "def make_combine(dataset):\n",
        "    arr = np.zeros((1,2,32,32))\n",
        "    for img1,img2 in combinations(dataset,2):\n",
        "        temp = np.concatenate((img1,img2),axis=0)\n",
        "        temp = temp.reshape((1,2,32,32))\n",
        "        arr = np.concatenate((arr,temp))\n",
        "\n",
        "    arr = arr[1:,:,:,:]\n",
        "    return arr.copy()\n",
        "\n",
        "stone_stone_x = make_combine(stone)\n",
        "canvas_canvas_x = make_combine(canvas)\n",
        "cushion_cushion_x = make_combine(cushion)\n",
        "linsseeds_linsseeds_x = make_combine(linsseeds)\n",
        "sand_sand_x = make_combine(sand)\n",
        "seat_seat_x = make_combine(seat)\n",
        "print(seat_seat_x.shape)\n"
      ]
    },
    {
      "cell_type": "code",
      "execution_count": null,
      "metadata": {
        "id": "O-bY58EKBCqb",
        "outputId": "ebf93eb2-2cf4-4fcf-b527-3a2f6e8073dc"
      },
      "outputs": [
        {
          "name": "stdout",
          "output_type": "stream",
          "text": [
            "(100, 2, 32, 32)\n"
          ]
        }
      ],
      "source": [
        "def make_product(dataset1,datset2):\n",
        "    arr = np.zeros((1,2,32,32))\n",
        "    for img1,img2 in product(dataset1,datset2):\n",
        "        temp = np.concatenate((img1,img2),axis=0)\n",
        "        temp = temp.reshape((1,2,32,32))\n",
        "        arr = np.concatenate((arr,temp))\n",
        "\n",
        "    arr = arr[1:,:,:,:]\n",
        "    return arr.copy()\n",
        "stone_canvas_x = make_product(stone,canvas)\n",
        "stone_cushion_x = make_product(stone,cushion)\n",
        "stone_linsseeds_x = make_product(stone,linsseeds)\n",
        "stone_sand_x = make_product(stone,sand)\n",
        "stone_seat_x = make_product(stone,seat)\n",
        "\n",
        "canvas_sand_x = make_product(canvas,sand)\n",
        "canvas_cushion_x = make_product(canvas,cushion)\n",
        "canvas_linsseeds_x = make_product(canvas,linsseeds)\n",
        "canvas_seat_x = make_product(canvas,seat)\n",
        "\n",
        "cushion_linsseeds_x = make_product(cushion,linsseeds)\n",
        "cushion_sand_x = make_product(cushion,sand)\n",
        "cushion_seat_x = make_product(cushion,seat)\n",
        "\n",
        "linsseeds_sand_x = make_product(linsseeds,sand)\n",
        "linsseeds_seat_x = make_product(linsseeds,seat)\n",
        "\n",
        "sand_seat_x = make_product(sand,seat)\n",
        "\n",
        "print(stone_canvas_x.shape)"
      ]
    },
    {
      "cell_type": "markdown",
      "metadata": {
        "id": "uZiSuLBcBCqb"
      },
      "source": [
        "Function by Aurelien Geron to plot sample images in a matrix."
      ]
    },
    {
      "cell_type": "code",
      "execution_count": null,
      "metadata": {
        "id": "uYasL1bVBCqb"
      },
      "outputs": [],
      "source": [
        "stone_canvas_y = np.zeros((stone_canvas_x.shape[0],))\n",
        "stone_cushion_y = np.zeros((stone_cushion_x.shape[0],))\n",
        "stone_linsseeds_y = np.zeros((stone_linsseeds_x.shape[0],))\n",
        "stone_sand_y = np.zeros((stone_sand_x.shape[0],))\n",
        "stone_seat_y = np.zeros((stone_seat_x.shape[0],))\n",
        "\n",
        "canvas_sand_y = np.zeros((canvas_sand_x.shape[0],))\n",
        "canvas_cushion_y = np.zeros((canvas_cushion_x.shape[0],))\n",
        "canvas_linsseeds_y = np.zeros((canvas_linsseeds_x.shape[0],))\n",
        "canvas_seat_y = np.zeros((canvas_seat_x.shape[0],))\n",
        "\n",
        "cushion_linsseeds_y = np.zeros((cushion_linsseeds_x.shape[0],))\n",
        "cushion_sand_y = np.zeros((cushion_sand_x.shape[0],))\n",
        "cushion_seat_y = np.zeros((cushion_seat_x.shape[0],))\n",
        "\n",
        "linsseeds_sand_y = np.zeros((linsseeds_sand_x.shape[0],))\n",
        "linsseeds_seat_y = np.zeros((linsseeds_seat_x.shape[0],))\n",
        "\n",
        "sand_seat_y = np.zeros((sand_seat_x.shape[0],))\n"
      ]
    },
    {
      "cell_type": "code",
      "execution_count": null,
      "metadata": {
        "id": "AWLvlkv-BCqc"
      },
      "outputs": [],
      "source": [
        "stone_stone_y = np.ones((stone_stone_x.shape[0],))\n",
        "canvas_canvas_y = np.ones((canvas_canvas_x.shape[0],))\n",
        "cushion_cushion_y = np.ones((cushion_cushion_x.shape[0],))\n",
        "linsseeds_linsseeds_y = np.ones((linsseeds_linsseeds_x.shape[0],))\n",
        "sand_sand_y = np.ones((sand_sand_x.shape[0],))\n",
        "seat_seat_y = np.ones((seat_seat_x.shape[0],))"
      ]
    },
    {
      "cell_type": "code",
      "execution_count": null,
      "metadata": {
        "id": "wpF6qDKXBCqc"
      },
      "outputs": [],
      "source": []
    },
    {
      "cell_type": "code",
      "execution_count": null,
      "metadata": {
        "id": "TpGkUv0sBCqc"
      },
      "outputs": [],
      "source": [
        "full_data = np.concatenate([stone_canvas_x,stone_stone_x,stone_cushion_x,stone_linsseeds_x,stone_sand_x,stone_seat_x,canvas_canvas_x,canvas_cushion_x,canvas_linsseeds_x,canvas_sand_x,canvas_seat_x,linsseeds_linsseeds_x,linsseeds_sand_x,linsseeds_seat_x,cushion_linsseeds_x,cushion_cushion_x,cushion_sand_x,cushion_seat_x,sand_sand_x,sand_seat_x,seat_seat_x],axis=0)"
      ]
    },
    {
      "cell_type": "code",
      "execution_count": null,
      "metadata": {
        "id": "AKx_7ZlDBCqc",
        "outputId": "6e3e845e-a751-4819-8fc3-73f9614e3fb2"
      },
      "outputs": [
        {
          "data": {
            "text/plain": [
              "(1770, 2, 32, 32)"
            ]
          },
          "execution_count": 46,
          "metadata": {},
          "output_type": "execute_result"
        }
      ],
      "source": [
        "full_data.shape"
      ]
    },
    {
      "cell_type": "code",
      "execution_count": null,
      "metadata": {
        "id": "z--tQIg8BCqc"
      },
      "outputs": [],
      "source": [
        "full_label = np.concatenate([stone_canvas_y,stone_stone_y,stone_cushion_y,stone_linsseeds_y,stone_sand_y,stone_seat_y,canvas_canvas_y,canvas_cushion_y,canvas_linsseeds_y,canvas_sand_y,canvas_seat_y,linsseeds_linsseeds_y,linsseeds_sand_y,linsseeds_seat_y,cushion_linsseeds_y,cushion_cushion_y,cushion_sand_y,cushion_seat_y,sand_sand_y,sand_seat_y,seat_seat_y],axis=0)"
      ]
    },
    {
      "cell_type": "code",
      "execution_count": null,
      "metadata": {
        "id": "Dc4bLBt-BCqc",
        "outputId": "737a7591-e205-4ae2-932b-f7935cd30bd4"
      },
      "outputs": [
        {
          "data": {
            "text/plain": [
              "(1770,)"
            ]
          },
          "execution_count": 48,
          "metadata": {},
          "output_type": "execute_result"
        }
      ],
      "source": [
        "full_label.shape"
      ]
    },
    {
      "cell_type": "code",
      "execution_count": null,
      "metadata": {
        "id": "GcNzpyggBCqc"
      },
      "outputs": [],
      "source": [
        "threshcc = get_thresh_cc(full_data)\n",
        "threshconv = get_thresh_conv(full_data)\n",
        "threshssd = get_thresh_ssd(full_data)"
      ]
    },
    {
      "cell_type": "code",
      "execution_count": null,
      "metadata": {
        "id": "bUu4jLVKBCqd"
      },
      "outputs": [],
      "source": [
        "y_cc = []\n",
        "y_ssd = []\n",
        "y_conv = []"
      ]
    },
    {
      "cell_type": "code",
      "execution_count": null,
      "metadata": {
        "id": "J7IqiO54BCqd"
      },
      "outputs": [],
      "source": [
        "start_time = time.time()\n",
        "for i in range(full_data.shape[0]):\n",
        "\n",
        "    y_ssd.append(matchingImages(full_data[i][0],full_data[i][1],threshssd,'ssd','n'))\n",
        "    y_cc.append(matchingImages(full_data[i][0],full_data[i][1],threshcc,'cc','n'))\n",
        "    y_conv.append(matchingImages(full_data[i][0],full_data[i][1],threshconv,'conv','n'))\n",
        "\n",
        "exec_time_template_Non = time.time()-start_time"
      ]
    },
    {
      "cell_type": "code",
      "execution_count": null,
      "metadata": {
        "id": "yuiBwZAvBCqd",
        "outputId": "497a8d57-2119-43c2-f1f3-0d93c0b3b76e"
      },
      "outputs": [
        {
          "name": "stdout",
          "output_type": "stream",
          "text": [
            "Classifier accuracy on the training set using SSD 0.7694915254237288 \n",
            "Classifier accuracy on the training set using CC 0.6649717514124294 \n",
            "Classifier accuracy on the training set using CONV 0.668361581920904 \n"
          ]
        }
      ],
      "source": [
        "\n",
        "print('Classifier accuracy on the training set using SSD {0} '.format(accuracy_score(y_ssd, full_label)))\n",
        "print('Classifier accuracy on the training set using CC {0} '.format(accuracy_score(y_cc, full_label)))\n",
        "print('Classifier accuracy on the training set using CONV {0} '.format(accuracy_score(y_conv, full_label)))"
      ]
    },
    {
      "cell_type": "code",
      "execution_count": null,
      "metadata": {
        "id": "j-knJ22WBCqd",
        "outputId": "56540d7d-5f15-4ecf-dc5b-07f5020b8c90"
      },
      "outputs": [
        {
          "name": "stdout",
          "output_type": "stream",
          "text": [
            "execution time 0.21593761444091797\n"
          ]
        }
      ],
      "source": [
        "print(f'execution time {exec_time_template_Non}')"
      ]
    },
    {
      "cell_type": "code",
      "execution_count": null,
      "metadata": {
        "id": "HurhZe8oBCqd"
      },
      "outputs": [],
      "source": [
        "threshcc = get_thresh_cc(full_data,'y')\n",
        "threshconv = get_thresh_conv(full_data,'y')\n",
        "threshssd = get_thresh_ssd(full_data,'y')\n",
        "y_cc = []\n",
        "y_ssd = []\n",
        "y_conv = []\n",
        "start_time = time.time()\n",
        "for i in range(full_data.shape[0]):\n",
        "\n",
        "    y_ssd.append(matchingImages(full_data[i][0],full_data[i][1],threshssd,'ssd','y'))\n",
        "    y_cc.append(matchingImages(full_data[i][0],full_data[i][1],threshcc,'cc','y'))\n",
        "    y_conv.append(matchingImages(full_data[i][0],full_data[i][1],threshconv,'conv','y'))\n",
        "\n",
        "exec_time_template_With = time.time()-start_time"
      ]
    },
    {
      "cell_type": "code",
      "execution_count": null,
      "metadata": {
        "id": "h-EaYCo5BCqd",
        "outputId": "8933eb14-eb2b-45a2-bbdb-932b137a81be"
      },
      "outputs": [
        {
          "name": "stdout",
          "output_type": "stream",
          "text": [
            "With Normalized Images:\n",
            "\n",
            "Classifier accuracy on the training set using SSD 0.7672316384180791 \n",
            "Classifier accuracy on the training set using CC 0.7022598870056497 \n",
            "Classifier accuracy on the training set using CONV 0.6853107344632768 \n",
            "execution time 0.7842957973480225\n"
          ]
        }
      ],
      "source": [
        "print('With Normalized Images:\\n')\n",
        "print('Classifier accuracy on the training set using SSD {0} '.format(accuracy_score(y_ssd, full_label)))\n",
        "print('Classifier accuracy on the training set using CC {0} '.format(accuracy_score(y_cc, full_label)))\n",
        "print('Classifier accuracy on the training set using CONV {0} '.format(accuracy_score(y_conv, full_label)))\n",
        "print(f'execution time {exec_time_template_With}')"
      ]
    },
    {
      "cell_type": "code",
      "execution_count": null,
      "metadata": {
        "id": "LWxynjH0BCqe",
        "outputId": "280c7d4a-cd1c-4377-bfae-2f28784b694d"
      },
      "outputs": [
        {
          "data": {
            "text/plain": [
              "(1770, 2048)"
            ]
          },
          "execution_count": 56,
          "metadata": {},
          "output_type": "execute_result"
        }
      ],
      "source": [
        "full_data = full_data.reshape((full_data.shape[0],full_data.shape[1]*full_data.shape[2]*full_data.shape[3]))\n",
        "full_data.shape"
      ]
    },
    {
      "cell_type": "code",
      "execution_count": null,
      "metadata": {
        "id": "m-y902yyBCqe",
        "outputId": "d460fb4e-5452-438a-f4e1-3cea51ae3263"
      },
      "outputs": [
        {
          "name": "stdout",
          "output_type": "stream",
          "text": [
            "Classifier accuracy is 0.847457627118644 \n"
          ]
        }
      ],
      "source": [
        "y_pred = nn_clf.predict(full_data)\n",
        "\n",
        "print('Classifier accuracy is {0} '.format(accuracy_score(full_label, y_pred)))\n"
      ]
    },
    {
      "cell_type": "markdown",
      "metadata": {
        "id": "dT7I2EMNBCqe"
      },
      "source": [
        "# Feature Engineering"
      ]
    },
    {
      "cell_type": "code",
      "execution_count": null,
      "metadata": {
        "id": "zzZ8jLgDBCqe",
        "outputId": "fb418919-ae37-4acc-c59e-8db20b523029"
      },
      "outputs": [
        {
          "name": "stdout",
          "output_type": "stream",
          "text": [
            "training\\canvas1\\canvas1-a-p001.png\n",
            "(2, 32, 32)\n",
            "training\\canvas1\\canvas1-a-p002.png\n",
            "(3, 32, 32)\n",
            "training\\canvas1\\canvas1-a-p003.png\n",
            "(4, 32, 32)\n",
            "training\\canvas1\\canvas1-a-p004.png\n",
            "(5, 32, 32)\n",
            "training\\canvas1\\canvas1-a-p005.png\n",
            "(6, 32, 32)\n",
            "training\\canvas1\\canvas1-a-p006.png\n",
            "(7, 32, 32)\n",
            "training\\canvas1\\canvas1-a-p007.png\n",
            "(8, 32, 32)\n",
            "training\\canvas1\\canvas1-a-p008.png\n",
            "(9, 32, 32)\n",
            "training\\canvas1\\canvas1-a-p009.png\n",
            "(10, 32, 32)\n",
            "training\\canvas1\\canvas1-a-p010.png\n",
            "(11, 32, 32)\n",
            "training\\canvas1\\canvas1-a-p011.png\n",
            "(12, 32, 32)\n",
            "training\\canvas1\\canvas1-a-p012.png\n",
            "(13, 32, 32)\n",
            "training\\canvas1\\canvas1-a-p013.png\n",
            "(14, 32, 32)\n",
            "training\\canvas1\\canvas1-a-p014.png\n",
            "(15, 32, 32)\n",
            "training\\canvas1\\canvas1-a-p015.png\n",
            "(16, 32, 32)\n",
            "training\\canvas1\\canvas1-a-p016.png\n",
            "(17, 32, 32)\n",
            "training\\canvas1\\canvas1-a-p017.png\n",
            "(18, 32, 32)\n",
            "training\\canvas1\\canvas1-a-p018.png\n",
            "(19, 32, 32)\n",
            "training\\canvas1\\canvas1-a-p019.png\n",
            "(20, 32, 32)\n",
            "training\\canvas1\\canvas1-a-p020.png\n",
            "(21, 32, 32)\n",
            "training\\canvas1\\canvas1-a-p021.png\n",
            "(22, 32, 32)\n",
            "training\\canvas1\\canvas1-a-p022.png\n",
            "(23, 32, 32)\n",
            "training\\canvas1\\canvas1-a-p023.png\n",
            "(24, 32, 32)\n",
            "training\\canvas1\\canvas1-a-p024.png\n",
            "(25, 32, 32)\n",
            "training\\canvas1\\canvas1-a-p025.png\n",
            "(26, 32, 32)\n",
            "training\\canvas1\\canvas1-a-p026.png\n",
            "(27, 32, 32)\n",
            "training\\canvas1\\canvas1-a-p027.png\n",
            "(28, 32, 32)\n",
            "training\\canvas1\\canvas1-a-p028.png\n",
            "(29, 32, 32)\n",
            "training\\canvas1\\canvas1-a-p029.png\n",
            "(30, 32, 32)\n",
            "training\\canvas1\\canvas1-a-p030.png\n",
            "(31, 32, 32)\n",
            "training\\cushion1\\cushion1-a-p001.png\n",
            "(32, 32, 32)\n",
            "training\\cushion1\\cushion1-a-p002.png\n",
            "(33, 32, 32)\n",
            "training\\cushion1\\cushion1-a-p003.png\n",
            "(34, 32, 32)\n",
            "training\\cushion1\\cushion1-a-p004.png\n",
            "(35, 32, 32)\n",
            "training\\cushion1\\cushion1-a-p005.png\n",
            "(36, 32, 32)\n",
            "training\\cushion1\\cushion1-a-p006.png\n",
            "(37, 32, 32)\n",
            "training\\cushion1\\cushion1-a-p007.png\n",
            "(38, 32, 32)\n",
            "training\\cushion1\\cushion1-a-p008.png\n",
            "(39, 32, 32)\n",
            "training\\cushion1\\cushion1-a-p009.png\n",
            "(40, 32, 32)\n",
            "training\\cushion1\\cushion1-a-p010.png\n",
            "(41, 32, 32)\n",
            "training\\cushion1\\cushion1-a-p011.png\n",
            "(42, 32, 32)\n",
            "training\\cushion1\\cushion1-a-p012.png\n",
            "(43, 32, 32)\n",
            "training\\cushion1\\cushion1-a-p013.png\n",
            "(44, 32, 32)\n",
            "training\\cushion1\\cushion1-a-p014.png\n",
            "(45, 32, 32)\n",
            "training\\cushion1\\cushion1-a-p015.png\n",
            "(46, 32, 32)\n",
            "training\\cushion1\\cushion1-a-p016.png\n",
            "(47, 32, 32)\n",
            "training\\cushion1\\cushion1-a-p017.png\n",
            "(48, 32, 32)\n",
            "training\\cushion1\\cushion1-a-p018.png\n",
            "(49, 32, 32)\n",
            "training\\cushion1\\cushion1-a-p019.png\n",
            "(50, 32, 32)\n",
            "training\\cushion1\\cushion1-a-p020.png\n",
            "(51, 32, 32)\n",
            "training\\cushion1\\cushion1-a-p021.png\n",
            "(52, 32, 32)\n",
            "training\\cushion1\\cushion1-a-p022.png\n",
            "(53, 32, 32)\n",
            "training\\cushion1\\cushion1-a-p023.png\n",
            "(54, 32, 32)\n",
            "training\\cushion1\\cushion1-a-p024.png\n",
            "(55, 32, 32)\n",
            "training\\cushion1\\cushion1-a-p025.png\n",
            "(56, 32, 32)\n",
            "training\\cushion1\\cushion1-a-p026.png\n",
            "(57, 32, 32)\n",
            "training\\cushion1\\cushion1-a-p027.png\n",
            "(58, 32, 32)\n",
            "training\\cushion1\\cushion1-a-p028.png\n",
            "(59, 32, 32)\n",
            "training\\cushion1\\cushion1-a-p029.png\n",
            "(60, 32, 32)\n",
            "training\\cushion1\\cushion1-a-p030.png\n",
            "(61, 32, 32)\n",
            "training\\linsseeds1\\linseeds1-a-p001.png\n",
            "(62, 32, 32)\n",
            "training\\linsseeds1\\linseeds1-a-p002.png\n",
            "(63, 32, 32)\n",
            "training\\linsseeds1\\linseeds1-a-p003.png\n",
            "(64, 32, 32)\n",
            "training\\linsseeds1\\linseeds1-a-p004.png\n",
            "(65, 32, 32)\n",
            "training\\linsseeds1\\linseeds1-a-p005.png\n",
            "(66, 32, 32)\n",
            "training\\linsseeds1\\linseeds1-a-p006.png\n",
            "(67, 32, 32)\n",
            "training\\linsseeds1\\linseeds1-a-p007.png\n",
            "(68, 32, 32)\n",
            "training\\linsseeds1\\linseeds1-a-p008.png\n",
            "(69, 32, 32)\n",
            "training\\linsseeds1\\linseeds1-a-p009.png\n",
            "(70, 32, 32)\n",
            "training\\linsseeds1\\linseeds1-a-p010.png\n",
            "(71, 32, 32)\n",
            "training\\linsseeds1\\linseeds1-a-p011.png\n",
            "(72, 32, 32)\n",
            "training\\linsseeds1\\linseeds1-a-p012.png\n",
            "(73, 32, 32)\n",
            "training\\linsseeds1\\linseeds1-a-p013.png\n",
            "(74, 32, 32)\n",
            "training\\linsseeds1\\linseeds1-a-p014.png\n",
            "(75, 32, 32)\n",
            "training\\linsseeds1\\linseeds1-a-p015.png\n",
            "(76, 32, 32)\n",
            "training\\linsseeds1\\linseeds1-a-p016.png\n",
            "(77, 32, 32)\n",
            "training\\linsseeds1\\linseeds1-a-p017.png\n",
            "(78, 32, 32)\n",
            "training\\linsseeds1\\linseeds1-a-p018.png\n",
            "(79, 32, 32)\n",
            "training\\linsseeds1\\linseeds1-a-p019.png\n",
            "(80, 32, 32)\n",
            "training\\linsseeds1\\linseeds1-a-p020.png\n",
            "(81, 32, 32)\n",
            "training\\linsseeds1\\linseeds1-a-p021.png\n",
            "(82, 32, 32)\n",
            "training\\linsseeds1\\linseeds1-a-p022.png\n",
            "(83, 32, 32)\n",
            "training\\linsseeds1\\linseeds1-a-p023.png\n",
            "(84, 32, 32)\n",
            "training\\linsseeds1\\linseeds1-a-p024.png\n",
            "(85, 32, 32)\n",
            "training\\linsseeds1\\linseeds1-a-p025.png\n",
            "(86, 32, 32)\n",
            "training\\linsseeds1\\linseeds1-a-p026.png\n",
            "(87, 32, 32)\n",
            "training\\linsseeds1\\linseeds1-a-p027.png\n",
            "(88, 32, 32)\n",
            "training\\linsseeds1\\linseeds1-a-p028.png\n",
            "(89, 32, 32)\n",
            "training\\linsseeds1\\linseeds1-a-p029.png\n",
            "(90, 32, 32)\n",
            "training\\linsseeds1\\linseeds1-a-p030.png\n",
            "(91, 32, 32)\n",
            "training\\sand1\\sand1-a-p001.png\n",
            "(92, 32, 32)\n",
            "training\\sand1\\sand1-a-p002.png\n",
            "(93, 32, 32)\n",
            "training\\sand1\\sand1-a-p003.png\n",
            "(94, 32, 32)\n",
            "training\\sand1\\sand1-a-p004.png\n",
            "(95, 32, 32)\n",
            "training\\sand1\\sand1-a-p005.png\n",
            "(96, 32, 32)\n",
            "training\\sand1\\sand1-a-p006.png\n",
            "(97, 32, 32)\n",
            "training\\sand1\\sand1-a-p007.png\n",
            "(98, 32, 32)\n",
            "training\\sand1\\sand1-a-p008.png\n",
            "(99, 32, 32)\n",
            "training\\sand1\\sand1-a-p009.png\n",
            "(100, 32, 32)\n",
            "training\\sand1\\sand1-a-p010.png\n",
            "(101, 32, 32)\n",
            "training\\sand1\\sand1-a-p011.png\n",
            "(102, 32, 32)\n",
            "training\\sand1\\sand1-a-p012.png\n",
            "(103, 32, 32)\n",
            "training\\sand1\\sand1-a-p013.png\n",
            "(104, 32, 32)\n",
            "training\\sand1\\sand1-a-p014.png\n",
            "(105, 32, 32)\n",
            "training\\sand1\\sand1-a-p015.png\n",
            "(106, 32, 32)\n",
            "training\\sand1\\sand1-a-p016.png\n",
            "(107, 32, 32)\n",
            "training\\sand1\\sand1-a-p017.png\n",
            "(108, 32, 32)\n",
            "training\\sand1\\sand1-a-p018.png\n",
            "(109, 32, 32)\n",
            "training\\sand1\\sand1-a-p019.png\n",
            "(110, 32, 32)\n",
            "training\\sand1\\sand1-a-p020.png\n",
            "(111, 32, 32)\n",
            "training\\sand1\\sand1-a-p021.png\n",
            "(112, 32, 32)\n",
            "training\\sand1\\sand1-a-p022.png\n",
            "(113, 32, 32)\n",
            "training\\sand1\\sand1-a-p023.png\n",
            "(114, 32, 32)\n",
            "training\\sand1\\sand1-a-p024.png\n",
            "(115, 32, 32)\n",
            "training\\sand1\\sand1-a-p025.png\n",
            "(116, 32, 32)\n",
            "training\\sand1\\sand1-a-p026.png\n",
            "(117, 32, 32)\n",
            "training\\sand1\\sand1-a-p027.png\n",
            "(118, 32, 32)\n",
            "training\\sand1\\sand1-a-p028.png\n",
            "(119, 32, 32)\n",
            "training\\sand1\\sand1-a-p029.png\n",
            "(120, 32, 32)\n",
            "training\\sand1\\sand1-a-p030.png\n",
            "(121, 32, 32)\n",
            "training\\seat2\\seat2-a-p001.png\n",
            "(122, 32, 32)\n",
            "training\\seat2\\seat2-a-p002.png\n",
            "(123, 32, 32)\n",
            "training\\seat2\\seat2-a-p003.png\n",
            "(124, 32, 32)\n",
            "training\\seat2\\seat2-a-p004.png\n",
            "(125, 32, 32)\n",
            "training\\seat2\\seat2-a-p005.png\n",
            "(126, 32, 32)\n",
            "training\\seat2\\seat2-a-p006.png\n",
            "(127, 32, 32)\n",
            "training\\seat2\\seat2-a-p007.png\n",
            "(128, 32, 32)\n",
            "training\\seat2\\seat2-a-p008.png\n",
            "(129, 32, 32)\n",
            "training\\seat2\\seat2-a-p009.png\n",
            "(130, 32, 32)\n",
            "training\\seat2\\seat2-a-p010.png\n",
            "(131, 32, 32)\n",
            "training\\seat2\\seat2-a-p011.png\n",
            "(132, 32, 32)\n",
            "training\\seat2\\seat2-a-p012.png\n",
            "(133, 32, 32)\n",
            "training\\seat2\\seat2-a-p013.png\n",
            "(134, 32, 32)\n",
            "training\\seat2\\seat2-a-p014.png\n",
            "(135, 32, 32)\n",
            "training\\seat2\\seat2-a-p015.png\n",
            "(136, 32, 32)\n",
            "training\\seat2\\seat2-a-p016.png\n",
            "(137, 32, 32)\n",
            "training\\seat2\\seat2-a-p017.png\n",
            "(138, 32, 32)\n",
            "training\\seat2\\seat2-a-p018.png\n",
            "(139, 32, 32)\n",
            "training\\seat2\\seat2-a-p019.png\n",
            "(140, 32, 32)\n",
            "training\\seat2\\seat2-a-p020.png\n",
            "(141, 32, 32)\n",
            "training\\seat2\\seat2-a-p021.png\n",
            "(142, 32, 32)\n",
            "training\\seat2\\seat2-a-p022.png\n",
            "(143, 32, 32)\n",
            "training\\seat2\\seat2-a-p023.png\n",
            "(144, 32, 32)\n",
            "training\\seat2\\seat2-a-p024.png\n",
            "(145, 32, 32)\n",
            "training\\seat2\\seat2-a-p025.png\n",
            "(146, 32, 32)\n",
            "training\\seat2\\seat2-a-p026.png\n",
            "(147, 32, 32)\n",
            "training\\seat2\\seat2-a-p027.png\n",
            "(148, 32, 32)\n",
            "training\\seat2\\seat2-a-p028.png\n",
            "(149, 32, 32)\n",
            "training\\seat2\\seat2-a-p029.png\n",
            "(150, 32, 32)\n",
            "training\\seat2\\seat2-a-p030.png\n",
            "(151, 32, 32)\n",
            "training\\stone1\\stone1-a-p001.png\n",
            "(152, 32, 32)\n",
            "training\\stone1\\stone1-a-p002.png\n",
            "(153, 32, 32)\n",
            "training\\stone1\\stone1-a-p003.png\n",
            "(154, 32, 32)\n",
            "training\\stone1\\stone1-a-p004.png\n",
            "(155, 32, 32)\n",
            "training\\stone1\\stone1-a-p005.png\n",
            "(156, 32, 32)\n",
            "training\\stone1\\stone1-a-p006.png\n",
            "(157, 32, 32)\n",
            "training\\stone1\\stone1-a-p007.png\n",
            "(158, 32, 32)\n",
            "training\\stone1\\stone1-a-p008.png\n",
            "(159, 32, 32)\n",
            "training\\stone1\\stone1-a-p009.png\n",
            "(160, 32, 32)\n",
            "training\\stone1\\stone1-a-p010.png\n",
            "(161, 32, 32)\n",
            "training\\stone1\\stone1-a-p011.png\n",
            "(162, 32, 32)\n",
            "training\\stone1\\stone1-a-p012.png\n",
            "(163, 32, 32)\n",
            "training\\stone1\\stone1-a-p013.png\n",
            "(164, 32, 32)\n",
            "training\\stone1\\stone1-a-p014.png\n",
            "(165, 32, 32)\n",
            "training\\stone1\\stone1-a-p015.png\n",
            "(166, 32, 32)\n",
            "training\\stone1\\stone1-a-p016.png\n",
            "(167, 32, 32)\n",
            "training\\stone1\\stone1-a-p017.png\n",
            "(168, 32, 32)\n",
            "training\\stone1\\stone1-a-p018.png\n",
            "(169, 32, 32)\n",
            "training\\stone1\\stone1-a-p019.png\n",
            "(170, 32, 32)\n",
            "training\\stone1\\stone1-a-p020.png\n",
            "(171, 32, 32)\n",
            "training\\stone1\\stone1-a-p021.png\n",
            "(172, 32, 32)\n",
            "training\\stone1\\stone1-a-p022.png\n",
            "(173, 32, 32)\n",
            "training\\stone1\\stone1-a-p023.png\n",
            "(174, 32, 32)\n",
            "training\\stone1\\stone1-a-p024.png\n",
            "(175, 32, 32)\n",
            "training\\stone1\\stone1-a-p025.png\n",
            "(176, 32, 32)\n",
            "training\\stone1\\stone1-a-p026.png\n",
            "(177, 32, 32)\n",
            "training\\stone1\\stone1-a-p027.png\n",
            "(178, 32, 32)\n",
            "training\\stone1\\stone1-a-p028.png\n",
            "(179, 32, 32)\n",
            "training\\stone1\\stone1-a-p029.png\n",
            "(180, 32, 32)\n",
            "training\\stone1\\stone1-a-p030.png\n",
            "(181, 32, 32)\n"
          ]
        }
      ],
      "source": [
        "dirs = list(os.walk('training\\\\'))[1:]\n",
        "data = np.zeros((1,32,32))\n",
        "for i in dirs:\n",
        "    for filename in i[2]:\n",
        "        img = io.imread(os.path.join(i[0],filename))\n",
        "        print(os.path.join(i[0],filename))\n",
        "        img = rgb2gray(img)\n",
        "        img = img.copy()\n",
        "        img.resize((1,32,32))\n",
        "        data = np.concatenate((data,img),axis=0)\n",
        "        print(data.shape)\n",
        "\n"
      ]
    },
    {
      "cell_type": "code",
      "execution_count": null,
      "metadata": {
        "id": "UT5ZBW4YBCqe"
      },
      "outputs": [],
      "source": [
        "data = data[1:]"
      ]
    },
    {
      "cell_type": "code",
      "execution_count": null,
      "metadata": {
        "id": "NKjCM3smBCqe",
        "outputId": "7684bad2-31a1-4161-b317-8d2521d10ec6"
      },
      "outputs": [
        {
          "data": {
            "text/plain": [
              "(180, 32, 32)"
            ]
          },
          "execution_count": 60,
          "metadata": {},
          "output_type": "execute_result"
        }
      ],
      "source": [
        "data.shape"
      ]
    },
    {
      "cell_type": "markdown",
      "metadata": {
        "id": "POUKnJCLBCqf"
      },
      "source": [
        "##### Preparing Dataset\n"
      ]
    },
    {
      "cell_type": "code",
      "execution_count": null,
      "metadata": {
        "id": "bYeMfvxmBCqf",
        "outputId": "d6cfe444-7570-4585-ea8a-aae406c90de9"
      },
      "outputs": [
        {
          "data": {
            "text/plain": [
              "(30, 32, 32)"
            ]
          },
          "execution_count": 61,
          "metadata": {},
          "output_type": "execute_result"
        }
      ],
      "source": [
        "canvas = data[:30]\n",
        "cushion = data[30:60]\n",
        "linsseeds = data[60:90]\n",
        "sand = data[90:120]\n",
        "seat = data[120:150]\n",
        "stone = data[150:]\n",
        "stone.shape"
      ]
    },
    {
      "cell_type": "code",
      "execution_count": null,
      "metadata": {
        "id": "HoBWKLIsBCqf",
        "outputId": "a0a139d1-01b6-4f62-b6c5-204ce1697af0"
      },
      "outputs": [
        {
          "name": "stdout",
          "output_type": "stream",
          "text": [
            "(435, 2, 32, 32)\n"
          ]
        }
      ],
      "source": [
        "def make_combine(dataset):\n",
        "    arr = np.zeros((1,2,32,32))\n",
        "    for img1,img2 in combinations(dataset,2):\n",
        "        temp = np.concatenate((img1,img2),axis=0)\n",
        "        temp = temp.reshape((1,2,32,32))\n",
        "        arr = np.concatenate((arr,temp))\n",
        "\n",
        "    arr = arr[1:,:,:,:]\n",
        "    return arr.copy()\n",
        "\n",
        "stone_stone_x = make_combine(stone)\n",
        "canvas_canvas_x = make_combine(canvas)\n",
        "cushion_cushion_x = make_combine(cushion)\n",
        "linsseeds_linsseeds_x = make_combine(linsseeds)\n",
        "sand_sand_x = make_combine(sand)\n",
        "seat_seat_x = make_combine(seat)\n",
        "print(seat_seat_x.shape)\n"
      ]
    },
    {
      "cell_type": "code",
      "execution_count": null,
      "metadata": {
        "id": "kJRc9glKBCqf",
        "outputId": "1a2b1c9b-4a3f-41df-ddf0-9382aa83db01"
      },
      "outputs": [
        {
          "name": "stdout",
          "output_type": "stream",
          "text": [
            "(900, 2, 32, 32)\n"
          ]
        }
      ],
      "source": [
        "def make_product(dataset1,datset2):\n",
        "    arr = np.zeros((1,2,32,32))\n",
        "    for img1,img2 in product(dataset1,datset2):\n",
        "        temp = np.concatenate((img1,img2),axis=0)\n",
        "        temp = temp.reshape((1,2,32,32))\n",
        "        arr = np.concatenate((arr,temp))\n",
        "\n",
        "    arr = arr[1:,:,:,:]\n",
        "    return arr.copy()\n",
        "stone_canvas_x = make_product(stone,canvas)\n",
        "stone_cushion_x = make_product(stone,cushion)\n",
        "stone_linsseeds_x = make_product(stone,linsseeds)\n",
        "stone_sand_x = make_product(stone,sand)\n",
        "stone_seat_x = make_product(stone,seat)\n",
        "\n",
        "canvas_sand_x = make_product(canvas,sand)\n",
        "canvas_cushion_x = make_product(canvas,cushion)\n",
        "canvas_linsseeds_x = make_product(canvas,linsseeds)\n",
        "canvas_seat_x = make_product(canvas,seat)\n",
        "\n",
        "cushion_linsseeds_x = make_product(cushion,linsseeds)\n",
        "cushion_sand_x = make_product(cushion,sand)\n",
        "cushion_seat_x = make_product(cushion,seat)\n",
        "\n",
        "linsseeds_sand_x = make_product(linsseeds,sand)\n",
        "linsseeds_seat_x = make_product(linsseeds,seat)\n",
        "\n",
        "sand_seat_x = make_product(sand,seat)\n",
        "\n",
        "print(stone_canvas_x.shape)"
      ]
    },
    {
      "cell_type": "code",
      "execution_count": null,
      "metadata": {
        "id": "ns5PLRCzBCqf"
      },
      "outputs": [],
      "source": [
        "stone_canvas_y = np.zeros((stone_canvas_x.shape[0],))\n",
        "stone_cushion_y = np.zeros((stone_cushion_x.shape[0],))\n",
        "stone_linsseeds_y = np.zeros((stone_linsseeds_x.shape[0],))\n",
        "stone_sand_y = np.zeros((stone_sand_x.shape[0],))\n",
        "stone_seat_y = np.zeros((stone_seat_x.shape[0],))\n",
        "\n",
        "canvas_sand_y = np.zeros((canvas_sand_x.shape[0],))\n",
        "canvas_cushion_y = np.zeros((canvas_cushion_x.shape[0],))\n",
        "canvas_linsseeds_y = np.zeros((canvas_linsseeds_x.shape[0],))\n",
        "canvas_seat_y = np.zeros((canvas_seat_x.shape[0],))\n",
        "\n",
        "cushion_linsseeds_y = np.zeros((cushion_linsseeds_x.shape[0],))\n",
        "cushion_sand_y = np.zeros((cushion_sand_x.shape[0],))\n",
        "cushion_seat_y = np.zeros((cushion_seat_x.shape[0],))\n",
        "\n",
        "linsseeds_sand_y = np.zeros((linsseeds_sand_x.shape[0],))\n",
        "linsseeds_seat_y = np.zeros((linsseeds_seat_x.shape[0],))\n",
        "\n",
        "sand_seat_y = np.zeros((sand_seat_x.shape[0],))\n"
      ]
    },
    {
      "cell_type": "code",
      "execution_count": null,
      "metadata": {
        "id": "FTtG4AhwBCqg"
      },
      "outputs": [],
      "source": [
        "stone_stone_y = np.ones((stone_stone_x.shape[0],))\n",
        "canvas_canvas_y = np.ones((canvas_canvas_x.shape[0],))\n",
        "cushion_cushion_y = np.ones((cushion_cushion_x.shape[0],))\n",
        "linsseeds_linsseeds_y = np.ones((linsseeds_linsseeds_x.shape[0],))\n",
        "sand_sand_y = np.ones((sand_sand_x.shape[0],))\n",
        "seat_seat_y = np.ones((seat_seat_x.shape[0],))"
      ]
    },
    {
      "cell_type": "code",
      "execution_count": null,
      "metadata": {
        "id": "X3zUTKGJBCqg"
      },
      "outputs": [],
      "source": [
        "full_data = np.concatenate([stone_canvas_x,stone_stone_x,stone_cushion_x,stone_linsseeds_x,stone_sand_x,stone_seat_x,canvas_canvas_x,canvas_cushion_x,canvas_linsseeds_x,canvas_sand_x,canvas_seat_x,linsseeds_linsseeds_x,linsseeds_sand_x,linsseeds_seat_x,cushion_linsseeds_x,cushion_cushion_x,cushion_sand_x,cushion_seat_x,sand_sand_x,sand_seat_x,seat_seat_x],axis=0)"
      ]
    },
    {
      "cell_type": "code",
      "execution_count": null,
      "metadata": {
        "id": "eAeogmeKBCqg",
        "outputId": "b04fb06f-c3a0-43e2-87ba-f6077edec14e"
      },
      "outputs": [
        {
          "data": {
            "text/plain": [
              "(16110, 2, 32, 32)"
            ]
          },
          "execution_count": 67,
          "metadata": {},
          "output_type": "execute_result"
        }
      ],
      "source": [
        "full_data.shape"
      ]
    },
    {
      "cell_type": "code",
      "execution_count": null,
      "metadata": {
        "id": "sF6rfybRBCqg"
      },
      "outputs": [],
      "source": [
        "full_label = np.concatenate([stone_canvas_y,stone_stone_y,stone_cushion_y,stone_linsseeds_y,stone_sand_y,stone_seat_y,canvas_canvas_y,canvas_cushion_y,canvas_linsseeds_y,canvas_sand_y,canvas_seat_y,linsseeds_linsseeds_y,linsseeds_sand_y,linsseeds_seat_y,cushion_linsseeds_y,cushion_cushion_y,cushion_sand_y,cushion_seat_y,sand_sand_y,sand_seat_y,seat_seat_y],axis=0)"
      ]
    },
    {
      "cell_type": "code",
      "execution_count": null,
      "metadata": {
        "id": "WTNq9PUSBCqg",
        "outputId": "b88a099c-faaf-4d02-c80b-04db80cebd28"
      },
      "outputs": [
        {
          "data": {
            "text/plain": [
              "(16110,)"
            ]
          },
          "execution_count": 69,
          "metadata": {},
          "output_type": "execute_result"
        }
      ],
      "source": [
        "full_label.shape"
      ]
    },
    {
      "cell_type": "markdown",
      "metadata": {
        "id": "hLp5DldCBCqg"
      },
      "source": [
        "**Reshaping Data**"
      ]
    },
    {
      "cell_type": "code",
      "execution_count": null,
      "metadata": {
        "id": "1ynxFHlIBCqh"
      },
      "outputs": [],
      "source": [
        "full_data = full_data.reshape((full_data.shape[0],full_data.shape[1]*full_data.shape[2]*full_data.shape[3]))"
      ]
    },
    {
      "cell_type": "code",
      "execution_count": null,
      "metadata": {
        "id": "DZz_uSePBCqh",
        "outputId": "16e47a6b-e513-4b50-805c-9552bdce5eee"
      },
      "outputs": [
        {
          "data": {
            "text/plain": [
              "(16110, 2048)"
            ]
          },
          "execution_count": 71,
          "metadata": {},
          "output_type": "execute_result"
        }
      ],
      "source": [
        "full_data.shape"
      ]
    },
    {
      "cell_type": "code",
      "execution_count": null,
      "metadata": {
        "id": "3JSGM2HEBCqh"
      },
      "outputs": [],
      "source": [
        "from sklearn.decomposition import PCA"
      ]
    },
    {
      "cell_type": "code",
      "execution_count": null,
      "metadata": {
        "id": "IALwmbNRBCqh"
      },
      "outputs": [],
      "source": [
        "pca = PCA(n_components=32)"
      ]
    },
    {
      "cell_type": "code",
      "execution_count": null,
      "metadata": {
        "id": "UUwJBYh5BCqh",
        "outputId": "50dbd326-49ea-43e3-ae3e-5974589e3022"
      },
      "outputs": [
        {
          "data": {
            "text/plain": [
              "PCA(n_components=32)"
            ]
          },
          "execution_count": 74,
          "metadata": {},
          "output_type": "execute_result"
        }
      ],
      "source": [
        "pca.fit(full_data)"
      ]
    },
    {
      "cell_type": "code",
      "execution_count": null,
      "metadata": {
        "id": "pAvG3gSUBCqi"
      },
      "outputs": [],
      "source": [
        "full_data = pca.transform(full_data)"
      ]
    },
    {
      "cell_type": "code",
      "execution_count": null,
      "metadata": {
        "id": "GlsiVM5NBCqi",
        "outputId": "232a0b07-f394-4c5d-c402-80ef9011e5d9"
      },
      "outputs": [
        {
          "data": {
            "text/plain": [
              "(16110, 32)"
            ]
          },
          "execution_count": 76,
          "metadata": {},
          "output_type": "execute_result"
        }
      ],
      "source": [
        "full_data.shape"
      ]
    },
    {
      "cell_type": "markdown",
      "metadata": {
        "id": "B8stMtcxBCqi"
      },
      "source": [
        "# Test and Training Data\n",
        "\n",
        "Split data into test and training data after re-shuffling the datatest."
      ]
    },
    {
      "cell_type": "code",
      "execution_count": null,
      "metadata": {
        "id": "thjSFijkBCqi",
        "outputId": "71d43cd7-33f2-4f07-81f6-35f757f4c7e9"
      },
      "outputs": [
        {
          "name": "stdout",
          "output_type": "stream",
          "text": [
            "Matrix shape X:  (10793, 32)\n",
            "10793 samples for training\n",
            "5317 samples for testing\n"
          ]
        }
      ],
      "source": [
        "\n",
        "X_train, X_test, y_train, y_test = train_test_split(full_data, full_label, test_size=0.33, stratify=full_label, random_state=42)\n",
        "\n",
        "print('Matrix shape X: ', X_train.shape)\n",
        "print('{0} samples for training'.format(X_train.shape[0]))\n",
        "print('{0} samples for testing'.format(X_test.shape[0]))"
      ]
    },
    {
      "cell_type": "code",
      "execution_count": null,
      "metadata": {
        "id": "-K5JGPb7BCqi"
      },
      "outputs": [],
      "source": []
    },
    {
      "cell_type": "markdown",
      "metadata": {
        "id": "Q6ty5aIdBCqi"
      },
      "source": [
        "Could compare with logistic regression"
      ]
    },
    {
      "cell_type": "code",
      "execution_count": null,
      "metadata": {
        "id": "qfKeKmLGBCqi",
        "outputId": "24c94104-b887-4780-ec13-6388e36224e4"
      },
      "outputs": [
        {
          "name": "stdout",
          "output_type": "stream",
          "text": [
            "Iteration 1, loss = 7.28176212\n",
            "Validation score: 0.837863\n",
            "Iteration 2, loss = 6.03302829\n",
            "Validation score: 0.757566\n",
            "Iteration 3, loss = 5.12038373\n",
            "Validation score: 0.800185\n",
            "Iteration 4, loss = 3.93814389\n",
            "Validation score: 0.831377\n",
            "Iteration 5, loss = 2.84640757\n",
            "Validation score: 0.757258\n",
            "Iteration 6, loss = 2.82421292\n",
            "Validation score: 0.840334\n",
            "Iteration 7, loss = 3.18526496\n",
            "Validation score: 0.820259\n",
            "Iteration 8, loss = 1.80984404\n",
            "Validation score: 0.785361\n",
            "Iteration 9, loss = 1.73418564\n",
            "Validation score: 0.842804\n",
            "Iteration 10, loss = 1.12052372\n",
            "Validation score: 0.846201\n",
            "Iteration 11, loss = 1.09589279\n",
            "Validation score: 0.856393\n",
            "Iteration 12, loss = 1.35147989\n",
            "Validation score: 0.844040\n",
            "Iteration 13, loss = 0.89849253\n",
            "Validation score: 0.861025\n",
            "Iteration 14, loss = 0.68260708\n",
            "Validation score: 0.792773\n",
            "Iteration 15, loss = 0.47687694\n",
            "Validation score: 0.702903\n",
            "Iteration 16, loss = 0.59911379\n",
            "Validation score: 0.831995\n",
            "Iteration 17, loss = 0.40304285\n",
            "Validation score: 0.859790\n",
            "Iteration 18, loss = 0.54224267\n",
            "Validation score: 0.866275\n",
            "Iteration 19, loss = 0.38894147\n",
            "Validation score: 0.853305\n",
            "Iteration 20, loss = 0.41921227\n",
            "Validation score: 0.867820\n",
            "Iteration 21, loss = 0.28607574\n",
            "Validation score: 0.833230\n",
            "Iteration 22, loss = 0.28363163\n",
            "Validation score: 0.861334\n",
            "Iteration 23, loss = 0.25332539\n",
            "Validation score: 0.866893\n",
            "Iteration 24, loss = 0.18539362\n",
            "Validation score: 0.819951\n",
            "Iteration 25, loss = 0.25790988\n",
            "Validation score: 0.871834\n",
            "Iteration 26, loss = 0.22083541\n",
            "Validation score: 0.873379\n",
            "Iteration 27, loss = 0.18485964\n",
            "Validation score: 0.863805\n",
            "Iteration 28, loss = 0.20252986\n",
            "Validation score: 0.849907\n",
            "Iteration 29, loss = 0.17731980\n",
            "Validation score: 0.863496\n",
            "Iteration 30, loss = 0.24490683\n",
            "Validation score: 0.875849\n",
            "Iteration 31, loss = 0.23511553\n",
            "Validation score: 0.819642\n",
            "Iteration 32, loss = 0.23289776\n",
            "Validation score: 0.856084\n",
            "Iteration 33, loss = 0.19373238\n",
            "Validation score: 0.880173\n",
            "Iteration 34, loss = 0.21363183\n",
            "Validation score: 0.857937\n",
            "Iteration 35, loss = 0.16966613\n",
            "Validation score: 0.848054\n",
            "Iteration 36, loss = 0.18606515\n",
            "Validation score: 0.855466\n",
            "Iteration 37, loss = 0.15642105\n",
            "Validation score: 0.871834\n",
            "Iteration 38, loss = 0.18380494\n",
            "Validation score: 0.880482\n",
            "Iteration 39, loss = 0.15556373\n",
            "Validation score: 0.843113\n",
            "Iteration 40, loss = 0.18354465\n",
            "Validation score: 0.868437\n",
            "Iteration 41, loss = 0.19441434\n",
            "Validation score: 0.883570\n",
            "Iteration 42, loss = 0.13960811\n",
            "Validation score: 0.869673\n",
            "Iteration 43, loss = 0.09401294\n",
            "Validation score: 0.856393\n",
            "Iteration 44, loss = 0.13900045\n",
            "Validation score: 0.877085\n",
            "Iteration 45, loss = 0.12767385\n",
            "Validation score: 0.877702\n",
            "Iteration 46, loss = 0.16486759\n",
            "Validation score: 0.860099\n",
            "Iteration 47, loss = 0.20896359\n",
            "Validation score: 0.875540\n",
            "Iteration 48, loss = 0.14274810\n",
            "Validation score: 0.870599\n",
            "Iteration 49, loss = 0.10868521\n",
            "Validation score: 0.888511\n",
            "Iteration 50, loss = 0.10944797\n",
            "Validation score: 0.881099\n",
            "Iteration 51, loss = 0.11059191\n",
            "Validation score: 0.850525\n",
            "Iteration 52, loss = 0.11242166\n",
            "Validation score: 0.871834\n",
            "Iteration 53, loss = 0.13908821\n",
            "Validation score: 0.856393\n",
            "Iteration 54, loss = 0.21116703\n",
            "Validation score: 0.873996\n",
            "Iteration 55, loss = 0.21290995\n",
            "Validation score: 0.877393\n",
            "Iteration 56, loss = 0.21005341\n",
            "Validation score: 0.878938\n",
            "Iteration 57, loss = 0.16607721\n",
            "Validation score: 0.879555\n",
            "Iteration 58, loss = 0.19244697\n",
            "Validation score: 0.858555\n",
            "Iteration 59, loss = 0.22789820\n",
            "Validation score: 0.855158\n",
            "Iteration 60, loss = 0.17226731\n",
            "Validation score: 0.883261\n",
            "Validation score did not improve more than tol=0.000100 for 10 consecutive epochs. Setting learning rate to 0.000200\n",
            "Iteration 61, loss = 0.15286167\n",
            "Validation score: 0.890982\n",
            "Iteration 62, loss = 0.03182746\n",
            "Validation score: 0.892526\n",
            "Iteration 63, loss = 0.01517135\n",
            "Validation score: 0.896541\n",
            "Iteration 64, loss = 0.01119896\n",
            "Validation score: 0.895306\n",
            "Iteration 65, loss = 0.00800230\n",
            "Validation score: 0.897159\n",
            "Iteration 66, loss = 0.00676292\n",
            "Validation score: 0.898394\n",
            "Iteration 67, loss = 0.00594980\n",
            "Validation score: 0.898085\n",
            "Iteration 68, loss = 0.00551230\n",
            "Validation score: 0.898085\n",
            "Iteration 69, loss = 0.00516554\n",
            "Validation score: 0.897776\n",
            "Iteration 70, loss = 0.00484642\n",
            "Validation score: 0.896541\n",
            "Iteration 71, loss = 0.00455467\n",
            "Validation score: 0.897159\n",
            "Iteration 72, loss = 0.00438711\n",
            "Validation score: 0.898085\n",
            "Iteration 73, loss = 0.00419389\n",
            "Validation score: 0.897776\n",
            "Iteration 74, loss = 0.00401255\n",
            "Validation score: 0.897468\n",
            "Iteration 75, loss = 0.00386906\n",
            "Validation score: 0.896850\n",
            "Iteration 76, loss = 0.00377314\n",
            "Validation score: 0.897159\n",
            "Iteration 77, loss = 0.00364506\n",
            "Validation score: 0.896850\n",
            "Validation score did not improve more than tol=0.000100 for 10 consecutive epochs. Setting learning rate to 0.000040\n",
            "Iteration 78, loss = 0.00343423\n",
            "Validation score: 0.898085\n",
            "Iteration 79, loss = 0.00338649\n",
            "Validation score: 0.897159\n",
            "Iteration 80, loss = 0.00336815\n",
            "Validation score: 0.897776\n",
            "Iteration 81, loss = 0.00334070\n",
            "Validation score: 0.897468\n",
            "Iteration 82, loss = 0.00331876\n",
            "Validation score: 0.897468\n",
            "Iteration 83, loss = 0.00330572\n",
            "Validation score: 0.897159\n",
            "Iteration 84, loss = 0.00328791\n",
            "Validation score: 0.896850\n",
            "Iteration 85, loss = 0.00327482\n",
            "Validation score: 0.896541\n",
            "Iteration 86, loss = 0.00325657\n",
            "Validation score: 0.896850\n",
            "Iteration 87, loss = 0.00324821\n",
            "Validation score: 0.896850\n",
            "Iteration 88, loss = 0.00322959\n",
            "Validation score: 0.896541\n",
            "Validation score did not improve more than tol=0.000100 for 10 consecutive epochs. Setting learning rate to 0.000008\n",
            "Iteration 89, loss = 0.00318943\n",
            "Validation score: 0.896850\n",
            "Iteration 90, loss = 0.00318731\n",
            "Validation score: 0.896232\n",
            "Iteration 91, loss = 0.00318493\n",
            "Validation score: 0.896232\n",
            "Iteration 92, loss = 0.00318161\n",
            "Validation score: 0.896232\n",
            "Iteration 93, loss = 0.00317745\n",
            "Validation score: 0.896232\n",
            "Iteration 94, loss = 0.00317515\n",
            "Validation score: 0.896232\n",
            "Iteration 95, loss = 0.00317233\n",
            "Validation score: 0.896232\n",
            "Iteration 96, loss = 0.00317029\n",
            "Validation score: 0.896232\n",
            "Iteration 97, loss = 0.00316742\n",
            "Validation score: 0.896232\n",
            "Iteration 98, loss = 0.00316460\n",
            "Validation score: 0.896232\n",
            "Iteration 99, loss = 0.00316252\n",
            "Validation score: 0.896232\n",
            "Validation score did not improve more than tol=0.000100 for 10 consecutive epochs. Setting learning rate to 0.000002\n",
            "Iteration 100, loss = 0.00315447\n",
            "Validation score: 0.896232\n",
            "Iteration 101, loss = 0.00315362\n",
            "Validation score: 0.896232\n",
            "Iteration 102, loss = 0.00315303\n",
            "Validation score: 0.896232\n",
            "Iteration 103, loss = 0.00315273\n",
            "Validation score: 0.896232\n",
            "Iteration 104, loss = 0.00315195\n",
            "Validation score: 0.896232\n",
            "Iteration 105, loss = 0.00315149\n",
            "Validation score: 0.896232\n",
            "Iteration 106, loss = 0.00315090\n",
            "Validation score: 0.896232\n",
            "Iteration 107, loss = 0.00315056\n",
            "Validation score: 0.896232\n",
            "Iteration 108, loss = 0.00314989\n",
            "Validation score: 0.896232\n",
            "Iteration 109, loss = 0.00314921\n",
            "Validation score: 0.896232\n",
            "Iteration 110, loss = 0.00314872\n",
            "Validation score: 0.896232\n",
            "Validation score did not improve more than tol=0.000100 for 10 consecutive epochs. Setting learning rate to 0.000000\n",
            "Iteration 111, loss = 0.00314719\n",
            "Validation score: 0.896232\n",
            "Iteration 112, loss = 0.00314705\n",
            "Validation score: 0.896232\n",
            "Iteration 113, loss = 0.00314694\n",
            "Validation score: 0.896232\n",
            "Iteration 114, loss = 0.00314684\n",
            "Validation score: 0.896232\n",
            "Iteration 115, loss = 0.00314672\n",
            "Validation score: 0.896232\n",
            "Iteration 116, loss = 0.00314662\n",
            "Validation score: 0.896232\n",
            "Iteration 117, loss = 0.00314656\n",
            "Validation score: 0.896232\n",
            "Iteration 118, loss = 0.00314644\n",
            "Validation score: 0.896232\n",
            "Iteration 119, loss = 0.00314628\n",
            "Validation score: 0.896232\n",
            "Iteration 120, loss = 0.00314626\n",
            "Validation score: 0.896232\n",
            "Iteration 121, loss = 0.00314610\n",
            "Validation score: 0.896232\n",
            "Validation score did not improve more than tol=0.000100 for 10 consecutive epochs. Learning rate too small. Stopping.\n"
          ]
        }
      ],
      "source": [
        "start_time = time.time()\n",
        "\n",
        "nn_clf = MLPClassifier(max_iter=1000,solver='sgd',verbose='true',early_stopping=True,validation_fraction=0.3,learning_rate='adaptive')\n",
        "nn_clf.fit(X_train, y_train)\n",
        "exec_time_MLP = time.time()-start_time"
      ]
    },
    {
      "cell_type": "markdown",
      "metadata": {
        "id": "hi56fJOGBCqj"
      },
      "source": [
        "Let's see what the network looks like"
      ]
    },
    {
      "cell_type": "code",
      "execution_count": null,
      "metadata": {
        "id": "JL0KwXooBCqj",
        "outputId": "3692e4c4-3827-4906-e386-3de45942bfff"
      },
      "outputs": [
        {
          "name": "stdout",
          "output_type": "stream",
          "text": [
            "Number of layers 3\n",
            "Layer 0: Weights (32, 100) Bias (100,)\n",
            "Layer 1: Weights (100, 1) Bias (1,)\n"
          ]
        }
      ],
      "source": [
        "print(f'Number of layers {nn_clf.n_layers_}')\n",
        "for lyr in range(nn_clf.n_layers_-1):\n",
        "    print('Layer {0}: Weights {1} Bias {2}'.format(lyr,nn_clf.coefs_[lyr].shape, nn_clf.intercepts_[lyr].shape))\n"
      ]
    },
    {
      "cell_type": "code",
      "execution_count": null,
      "metadata": {
        "id": "7rFqWPMHBCqj",
        "outputId": "390dce2f-3df5-4777-ab15-ff49f4d1fe02"
      },
      "outputs": [
        {
          "name": "stdout",
          "output_type": "stream",
          "text": [
            "execution time is 14.712539672851562\n"
          ]
        }
      ],
      "source": [
        "print(f'execution time is {exec_time_MLP}')"
      ]
    },
    {
      "cell_type": "markdown",
      "metadata": {
        "id": "pbYwFr9XBCqj"
      },
      "source": [
        "Let's calculate accuracy"
      ]
    },
    {
      "cell_type": "code",
      "execution_count": null,
      "metadata": {
        "id": "FsXqz3KEBCqj",
        "outputId": "a730f269-f9e7-48e7-8176-4fedbc3e0ebc"
      },
      "outputs": [
        {
          "name": "stdout",
          "output_type": "stream",
          "text": [
            "Classifier accuracy on the training set is 0.9693319744278699 \n",
            "Classifier accuracy on the test set is 0.8969343614820388 \n"
          ]
        }
      ],
      "source": [
        "y_pred = nn_clf.predict(X_train)\n",
        "y_pred_test = nn_clf.predict(X_test)\n",
        "print('Classifier accuracy on the training set is {0} '.format(accuracy_score(y_train, y_pred)))\n",
        "print('Classifier accuracy on the test set is {0} '.format(accuracy_score(y_test, y_pred_test)))"
      ]
    },
    {
      "cell_type": "markdown",
      "metadata": {
        "id": "Y2TWjKuYBCqj"
      },
      "source": [
        "# Accuracy and Loss Visualization For MLP"
      ]
    },
    {
      "cell_type": "code",
      "execution_count": null,
      "metadata": {
        "id": "8DkJ7VWjBCqk",
        "outputId": "d1e2395b-6de3-44fb-d08c-7d4d53b6941d"
      },
      "outputs": [
        {
          "name": "stdout",
          "output_type": "stream",
          "text": [
            "Iteration 0, loss = 7.3889172520102555\n",
            "Iteration 1, loss = 5.202319781950705\n",
            "Iteration 2, loss = 3.8317841839590865\n",
            "Iteration 3, loss = 3.1976753414898424\n",
            "Iteration 4, loss = 2.055342776189652\n",
            "Iteration 5, loss = 2.0439292272509286\n",
            "Iteration 6, loss = 0.8438701836080603\n",
            "Iteration 7, loss = 1.2359946751674002\n",
            "Iteration 8, loss = 0.653792842097092\n",
            "Iteration 9, loss = 0.5673472939255072\n",
            "Iteration 10, loss = 0.6130096066574876\n",
            "Iteration 11, loss = 0.4544914190517544\n",
            "Iteration 12, loss = 0.32259393327691166\n",
            "Iteration 13, loss = 0.3217827967073019\n",
            "Iteration 14, loss = 0.2687789258716237\n",
            "Iteration 15, loss = 0.2611765874714266\n",
            "Iteration 16, loss = 0.34266378183598906\n",
            "Iteration 17, loss = 0.3110660345866595\n",
            "Iteration 18, loss = 0.2724024419206615\n",
            "Iteration 19, loss = 0.2635137335408739\n",
            "Iteration 20, loss = 0.23689624149009086\n",
            "Iteration 21, loss = 0.2227467945689466\n",
            "Iteration 22, loss = 0.21126766240166053\n",
            "Iteration 23, loss = 0.20360805893706452\n",
            "Iteration 24, loss = 0.1839379003941378\n",
            "Iteration 25, loss = 0.22003538626812957\n",
            "Iteration 26, loss = 0.26275196201099865\n",
            "Iteration 27, loss = 0.2184067950199303\n",
            "Iteration 28, loss = 0.20373996193075697\n",
            "Iteration 29, loss = 0.25666126192502803\n",
            "Iteration 30, loss = 0.22139730740644237\n",
            "Iteration 31, loss = 0.187567981691992\n",
            "Iteration 32, loss = 0.21562652836972038\n",
            "Iteration 33, loss = 0.20336769089231585\n",
            "Iteration 34, loss = 0.18285896536412324\n",
            "Iteration 35, loss = 0.17975841779654264\n",
            "Iteration 36, loss = 0.2169447207678412\n",
            "Iteration 37, loss = 0.23444407185576505\n",
            "Iteration 38, loss = 0.19982569743058343\n",
            "Iteration 39, loss = 0.17485553615292249\n",
            "Iteration 40, loss = 0.1712426681720404\n",
            "Iteration 41, loss = 0.23906694337839793\n",
            "Iteration 42, loss = 0.18131111115889462\n",
            "Iteration 43, loss = 0.149331005618092\n",
            "Iteration 44, loss = 0.24507201157985126\n",
            "Iteration 45, loss = 0.18416278128224736\n",
            "Iteration 46, loss = 0.23538852975624214\n",
            "Iteration 47, loss = 0.18298122797935906\n",
            "Iteration 48, loss = 0.19618218776848256\n",
            "Iteration 49, loss = 0.20057828389732488\n"
          ]
        },
        {
          "data": {
            "text/plain": [
              "Text(0, 0.5, '1-accuracy(loss)')"
            ]
          },
          "execution_count": 82,
          "metadata": {},
          "output_type": "execute_result"
        },
        {
          "data": {
            "image/png": "[encoded data removed]",
            "text/plain": [
              "<Figure size 432x288 with 1 Axes>"
            ]
          },
          "metadata": {
            "needs_background": "light"
          },
          "output_type": "display_data"
        }
      ],
      "source": [
        "import warnings\n",
        "nEpochs = 50\n",
        "\n",
        "nn_clf = MLPClassifier(max_iter=1,warm_start='true',solver='sgd')\n",
        "\n",
        "train_errors, test_errors = [], []\n",
        "\n",
        "for epoch in range(nEpochs): \n",
        "    with warnings.catch_warnings():\n",
        "        warnings.simplefilter(\"ignore\")\n",
        "        nn_clf.fit(X_train, y_train)\n",
        "    print(f'Iteration {epoch}, loss = {nn_clf.loss_}')\n",
        "    train_errors.append(1-accuracy_score(y_train, nn_clf.predict(X_train)))\n",
        "    test_errors.append(1-accuracy_score(y_test, nn_clf.predict(X_test)))\n",
        "    \n",
        "plt.plot(np.sqrt(train_errors), \"r-+\", linewidth=2, label=\"train\")\n",
        "plt.plot(np.sqrt(test_errors), \"b-\", linewidth=3, label=\"test\")\n",
        "plt.legend(loc=\"upper right\", fontsize=14)\n",
        "plt.xlabel(\"Epochs\", fontsize=14)\n",
        "plt.ylabel(\"1-accuracy(loss)\", fontsize=14)  \n",
        "    \n",
        "    "
      ]
    },
    {
      "cell_type": "code",
      "execution_count": null,
      "metadata": {
        "id": "QnsBkCVMBCqk"
      },
      "outputs": [],
      "source": []
    },
    {
      "cell_type": "markdown",
      "metadata": {
        "id": "bOcIrr3yBCqk"
      },
      "source": [
        "# Now Will validate trough the Test Directory "
      ]
    },
    {
      "cell_type": "code",
      "execution_count": null,
      "metadata": {
        "id": "RjTrQAzvBCqk",
        "outputId": "a0772858-732b-4ab5-abde-5d6543e35980"
      },
      "outputs": [
        {
          "name": "stdout",
          "output_type": "stream",
          "text": [
            "testing\\canvas1\\canvas1-a-p031.png\n",
            "(2, 32, 32)\n",
            "testing\\canvas1\\canvas1-a-p032.png\n",
            "(3, 32, 32)\n",
            "testing\\canvas1\\canvas1-a-p033.png\n",
            "(4, 32, 32)\n",
            "testing\\canvas1\\canvas1-a-p034.png\n",
            "(5, 32, 32)\n",
            "testing\\canvas1\\canvas1-a-p035.png\n",
            "(6, 32, 32)\n",
            "testing\\canvas1\\canvas1-a-p036.png\n",
            "(7, 32, 32)\n",
            "testing\\canvas1\\canvas1-a-p037.png\n",
            "(8, 32, 32)\n",
            "testing\\canvas1\\canvas1-a-p038.png\n",
            "(9, 32, 32)\n",
            "testing\\canvas1\\canvas1-a-p039.png\n",
            "(10, 32, 32)\n",
            "testing\\canvas1\\canvas1-a-p040.png\n",
            "(11, 32, 32)\n",
            "testing\\cushion1\\cushion1-a-p031.png\n",
            "(12, 32, 32)\n",
            "testing\\cushion1\\cushion1-a-p032.png\n",
            "(13, 32, 32)\n",
            "testing\\cushion1\\cushion1-a-p033.png\n",
            "(14, 32, 32)\n",
            "testing\\cushion1\\cushion1-a-p034.png\n",
            "(15, 32, 32)\n",
            "testing\\cushion1\\cushion1-a-p035.png\n",
            "(16, 32, 32)\n",
            "testing\\cushion1\\cushion1-a-p036.png\n",
            "(17, 32, 32)\n",
            "testing\\cushion1\\cushion1-a-p037.png\n",
            "(18, 32, 32)\n",
            "testing\\cushion1\\cushion1-a-p038.png\n",
            "(19, 32, 32)\n",
            "testing\\cushion1\\cushion1-a-p039.png\n",
            "(20, 32, 32)\n",
            "testing\\cushion1\\cushion1-a-p040.png\n",
            "(21, 32, 32)\n",
            "testing\\linsseeds1\\linseeds1-a-p031.png\n",
            "(22, 32, 32)\n",
            "testing\\linsseeds1\\linseeds1-a-p032.png\n",
            "(23, 32, 32)\n",
            "testing\\linsseeds1\\linseeds1-a-p033.png\n",
            "(24, 32, 32)\n",
            "testing\\linsseeds1\\linseeds1-a-p034.png\n",
            "(25, 32, 32)\n",
            "testing\\linsseeds1\\linseeds1-a-p035.png\n",
            "(26, 32, 32)\n",
            "testing\\linsseeds1\\linseeds1-a-p036.png\n",
            "(27, 32, 32)\n",
            "testing\\linsseeds1\\linseeds1-a-p037.png\n",
            "(28, 32, 32)\n",
            "testing\\linsseeds1\\linseeds1-a-p038.png\n",
            "(29, 32, 32)\n",
            "testing\\linsseeds1\\linseeds1-a-p039.png\n",
            "(30, 32, 32)\n",
            "testing\\linsseeds1\\linseeds1-a-p040.png\n",
            "(31, 32, 32)\n",
            "testing\\sand1\\sand1-a-p031.png\n",
            "(32, 32, 32)\n",
            "testing\\sand1\\sand1-a-p032.png\n",
            "(33, 32, 32)\n",
            "testing\\sand1\\sand1-a-p033.png\n",
            "(34, 32, 32)\n",
            "testing\\sand1\\sand1-a-p034.png\n",
            "(35, 32, 32)\n",
            "testing\\sand1\\sand1-a-p035.png\n",
            "(36, 32, 32)\n",
            "testing\\sand1\\sand1-a-p036.png\n",
            "(37, 32, 32)\n",
            "testing\\sand1\\sand1-a-p037.png\n",
            "(38, 32, 32)\n",
            "testing\\sand1\\sand1-a-p038.png\n",
            "(39, 32, 32)\n",
            "testing\\sand1\\sand1-a-p039.png\n",
            "(40, 32, 32)\n",
            "testing\\sand1\\sand1-a-p040.png\n",
            "(41, 32, 32)\n",
            "testing\\seat2\\seat2-a-p031.png\n",
            "(42, 32, 32)\n",
            "testing\\seat2\\seat2-a-p032.png\n",
            "(43, 32, 32)\n",
            "testing\\seat2\\seat2-a-p033.png\n",
            "(44, 32, 32)\n",
            "testing\\seat2\\seat2-a-p034.png\n",
            "(45, 32, 32)\n",
            "testing\\seat2\\seat2-a-p035.png\n",
            "(46, 32, 32)\n",
            "testing\\seat2\\seat2-a-p036.png\n",
            "(47, 32, 32)\n",
            "testing\\seat2\\seat2-a-p037.png\n",
            "(48, 32, 32)\n",
            "testing\\seat2\\seat2-a-p038.png\n",
            "(49, 32, 32)\n",
            "testing\\seat2\\seat2-a-p039.png\n",
            "(50, 32, 32)\n",
            "testing\\seat2\\seat2-a-p040.png\n",
            "(51, 32, 32)\n",
            "testing\\stone1\\stone1-a-p031.png\n",
            "(52, 32, 32)\n",
            "testing\\stone1\\stone1-a-p032.png\n",
            "(53, 32, 32)\n",
            "testing\\stone1\\stone1-a-p033.png\n",
            "(54, 32, 32)\n",
            "testing\\stone1\\stone1-a-p034.png\n",
            "(55, 32, 32)\n",
            "testing\\stone1\\stone1-a-p035.png\n",
            "(56, 32, 32)\n",
            "testing\\stone1\\stone1-a-p036.png\n",
            "(57, 32, 32)\n",
            "testing\\stone1\\stone1-a-p037.png\n",
            "(58, 32, 32)\n",
            "testing\\stone1\\stone1-a-p038.png\n",
            "(59, 32, 32)\n",
            "testing\\stone1\\stone1-a-p039.png\n",
            "(60, 32, 32)\n",
            "testing\\stone1\\stone1-a-p040.png\n",
            "(61, 32, 32)\n"
          ]
        }
      ],
      "source": [
        "dirs = list(os.walk('testing\\\\'))[1:]\n",
        "data = np.zeros((1,32,32))\n",
        "for i in dirs:\n",
        "    for filename in i[2]:\n",
        "        img = io.imread(os.path.join(i[0],filename))\n",
        "        print(os.path.join(i[0],filename))\n",
        "        img = rgb2gray(img)\n",
        "        img = img.copy()\n",
        "        img.resize((1,32,32))\n",
        "        data = np.concatenate((data,img),axis=0)\n",
        "        print(data.shape)\n",
        "\n"
      ]
    },
    {
      "cell_type": "code",
      "execution_count": null,
      "metadata": {
        "id": "6kFRAyxlBCqk"
      },
      "outputs": [],
      "source": [
        "data = data[1:]"
      ]
    },
    {
      "cell_type": "code",
      "execution_count": null,
      "metadata": {
        "id": "s2mFshtcBCqk",
        "outputId": "b50848d0-560c-4b9e-f94e-5b880c852a86"
      },
      "outputs": [
        {
          "data": {
            "text/plain": [
              "(60, 32, 32)"
            ]
          },
          "execution_count": 85,
          "metadata": {},
          "output_type": "execute_result"
        }
      ],
      "source": [
        "data.shape"
      ]
    },
    {
      "cell_type": "markdown",
      "metadata": {
        "id": "G9DDfgeiBCql"
      },
      "source": [
        "#### Preparing Dataset\n"
      ]
    },
    {
      "cell_type": "code",
      "execution_count": null,
      "metadata": {
        "id": "mTSLPBckBCql",
        "outputId": "1c6269be-3a4c-4276-866c-7a671bcc83be"
      },
      "outputs": [
        {
          "data": {
            "text/plain": [
              "(10, 32, 32)"
            ]
          },
          "execution_count": 86,
          "metadata": {},
          "output_type": "execute_result"
        }
      ],
      "source": [
        "canvas = data[:10]\n",
        "cushion = data[10:20]\n",
        "linsseeds = data[20:30]\n",
        "sand = data[30:40]\n",
        "seat = data[40:50]\n",
        "stone = data[50:]\n",
        "stone.shape"
      ]
    },
    {
      "cell_type": "code",
      "execution_count": null,
      "metadata": {
        "id": "gp1sJADOBCql",
        "outputId": "f6ccfcc7-b440-4b1c-849b-9edd8e0894fb"
      },
      "outputs": [
        {
          "name": "stdout",
          "output_type": "stream",
          "text": [
            "(45, 2, 32, 32)\n"
          ]
        }
      ],
      "source": [
        "def make_combine(dataset):\n",
        "    arr = np.zeros((1,2,32,32))\n",
        "    for img1,img2 in combinations(dataset,2):\n",
        "        temp = np.concatenate((img1,img2),axis=0)\n",
        "        temp = temp.reshape((1,2,32,32))\n",
        "        arr = np.concatenate((arr,temp))\n",
        "\n",
        "    arr = arr[1:,:,:,:]\n",
        "    return arr.copy()\n",
        "\n",
        "stone_stone_x = make_combine(stone)\n",
        "canvas_canvas_x = make_combine(canvas)\n",
        "cushion_cushion_x = make_combine(cushion)\n",
        "linsseeds_linsseeds_x = make_combine(linsseeds)\n",
        "sand_sand_x = make_combine(sand)\n",
        "seat_seat_x = make_combine(seat)\n",
        "print(seat_seat_x.shape)\n"
      ]
    },
    {
      "cell_type": "code",
      "execution_count": null,
      "metadata": {
        "id": "GGNfGQ4gBCql",
        "outputId": "acbc140c-cfe3-4eb1-b344-9f27a89ff49f"
      },
      "outputs": [
        {
          "name": "stdout",
          "output_type": "stream",
          "text": [
            "(100, 2, 32, 32)\n"
          ]
        }
      ],
      "source": [
        "def make_product(dataset1,datset2):\n",
        "    arr = np.zeros((1,2,32,32))\n",
        "    for img1,img2 in product(dataset1,datset2):\n",
        "        temp = np.concatenate((img1,img2),axis=0)\n",
        "        temp = temp.reshape((1,2,32,32))\n",
        "        arr = np.concatenate((arr,temp))\n",
        "\n",
        "    arr = arr[1:,:,:,:]\n",
        "    return arr.copy()\n",
        "stone_canvas_x = make_product(stone,canvas)\n",
        "stone_cushion_x = make_product(stone,cushion)\n",
        "stone_linsseeds_x = make_product(stone,linsseeds)\n",
        "stone_sand_x = make_product(stone,sand)\n",
        "stone_seat_x = make_product(stone,seat)\n",
        "\n",
        "canvas_sand_x = make_product(canvas,sand)\n",
        "canvas_cushion_x = make_product(canvas,cushion)\n",
        "canvas_linsseeds_x = make_product(canvas,linsseeds)\n",
        "canvas_seat_x = make_product(canvas,seat)\n",
        "\n",
        "cushion_linsseeds_x = make_product(cushion,linsseeds)\n",
        "cushion_sand_x = make_product(cushion,sand)\n",
        "cushion_seat_x = make_product(cushion,seat)\n",
        "\n",
        "linsseeds_sand_x = make_product(linsseeds,sand)\n",
        "linsseeds_seat_x = make_product(linsseeds,seat)\n",
        "\n",
        "sand_seat_x = make_product(sand,seat)\n",
        "\n",
        "print(stone_canvas_x.shape)"
      ]
    },
    {
      "cell_type": "markdown",
      "metadata": {
        "id": "m4OxZntGBCqm"
      },
      "source": [
        "Function by Aurelien Geron to plot sample images in a matrix."
      ]
    },
    {
      "cell_type": "code",
      "execution_count": null,
      "metadata": {
        "id": "b9FH7LSiBCqm"
      },
      "outputs": [],
      "source": [
        "stone_canvas_y = np.zeros((stone_canvas_x.shape[0],))\n",
        "stone_cushion_y = np.zeros((stone_cushion_x.shape[0],))\n",
        "stone_linsseeds_y = np.zeros((stone_linsseeds_x.shape[0],))\n",
        "stone_sand_y = np.zeros((stone_sand_x.shape[0],))\n",
        "stone_seat_y = np.zeros((stone_seat_x.shape[0],))\n",
        "\n",
        "canvas_sand_y = np.zeros((canvas_sand_x.shape[0],))\n",
        "canvas_cushion_y = np.zeros((canvas_cushion_x.shape[0],))\n",
        "canvas_linsseeds_y = np.zeros((canvas_linsseeds_x.shape[0],))\n",
        "canvas_seat_y = np.zeros((canvas_seat_x.shape[0],))\n",
        "\n",
        "cushion_linsseeds_y = np.zeros((cushion_linsseeds_x.shape[0],))\n",
        "cushion_sand_y = np.zeros((cushion_sand_x.shape[0],))\n",
        "cushion_seat_y = np.zeros((cushion_seat_x.shape[0],))\n",
        "\n",
        "linsseeds_sand_y = np.zeros((linsseeds_sand_x.shape[0],))\n",
        "linsseeds_seat_y = np.zeros((linsseeds_seat_x.shape[0],))\n",
        "\n",
        "sand_seat_y = np.zeros((sand_seat_x.shape[0],))\n"
      ]
    },
    {
      "cell_type": "code",
      "execution_count": null,
      "metadata": {
        "id": "paW1KQZZBCqm"
      },
      "outputs": [],
      "source": [
        "stone_stone_y = np.ones((stone_stone_x.shape[0],))\n",
        "canvas_canvas_y = np.ones((canvas_canvas_x.shape[0],))\n",
        "cushion_cushion_y = np.ones((cushion_cushion_x.shape[0],))\n",
        "linsseeds_linsseeds_y = np.ones((linsseeds_linsseeds_x.shape[0],))\n",
        "sand_sand_y = np.ones((sand_sand_x.shape[0],))\n",
        "seat_seat_y = np.ones((seat_seat_x.shape[0],))"
      ]
    },
    {
      "cell_type": "code",
      "execution_count": null,
      "metadata": {
        "id": "MGXFwUtRBCqm"
      },
      "outputs": [],
      "source": []
    },
    {
      "cell_type": "code",
      "execution_count": null,
      "metadata": {
        "id": "J4YJuZa2BCqm"
      },
      "outputs": [],
      "source": [
        "full_data = np.concatenate([stone_canvas_x,stone_stone_x,stone_cushion_x,stone_linsseeds_x,stone_sand_x,stone_seat_x,canvas_canvas_x,canvas_cushion_x,canvas_linsseeds_x,canvas_sand_x,canvas_seat_x,linsseeds_linsseeds_x,linsseeds_sand_x,linsseeds_seat_x,cushion_linsseeds_x,cushion_cushion_x,cushion_sand_x,cushion_seat_x,sand_sand_x,sand_seat_x,seat_seat_x],axis=0)"
      ]
    },
    {
      "cell_type": "code",
      "execution_count": null,
      "metadata": {
        "id": "SUdmfstIBCqn",
        "outputId": "31278c84-95d2-4541-bbcf-f21edc7945cd"
      },
      "outputs": [
        {
          "data": {
            "text/plain": [
              "(1770, 2, 32, 32)"
            ]
          },
          "execution_count": 92,
          "metadata": {},
          "output_type": "execute_result"
        }
      ],
      "source": [
        "full_data.shape"
      ]
    },
    {
      "cell_type": "code",
      "execution_count": null,
      "metadata": {
        "id": "Vm0ZdLmkBCqn"
      },
      "outputs": [],
      "source": [
        "full_label = np.concatenate([stone_canvas_y,stone_stone_y,stone_cushion_y,stone_linsseeds_y,stone_sand_y,stone_seat_y,canvas_canvas_y,canvas_cushion_y,canvas_linsseeds_y,canvas_sand_y,canvas_seat_y,linsseeds_linsseeds_y,linsseeds_sand_y,linsseeds_seat_y,cushion_linsseeds_y,cushion_cushion_y,cushion_sand_y,cushion_seat_y,sand_sand_y,sand_seat_y,seat_seat_y],axis=0)"
      ]
    },
    {
      "cell_type": "code",
      "execution_count": null,
      "metadata": {
        "id": "X_TvDm2tBCqn",
        "outputId": "83f341c0-822d-447a-e935-873d08fb36b5"
      },
      "outputs": [
        {
          "data": {
            "text/plain": [
              "(1770,)"
            ]
          },
          "execution_count": 94,
          "metadata": {},
          "output_type": "execute_result"
        }
      ],
      "source": [
        "full_label.shape"
      ]
    },
    {
      "cell_type": "code",
      "execution_count": null,
      "metadata": {
        "id": "ifflw4XDBCqn"
      },
      "outputs": [],
      "source": []
    },
    {
      "cell_type": "code",
      "execution_count": null,
      "metadata": {
        "id": "ke5qplO5BCqo",
        "outputId": "c541e759-3683-4b17-e951-eb224d80f591"
      },
      "outputs": [
        {
          "data": {
            "text/plain": [
              "(1770, 2048)"
            ]
          },
          "execution_count": 95,
          "metadata": {},
          "output_type": "execute_result"
        }
      ],
      "source": [
        "full_data = full_data.reshape((full_data.shape[0],full_data.shape[1]*full_data.shape[2]*full_data.shape[3]))\n",
        "full_data.shape"
      ]
    },
    {
      "cell_type": "code",
      "execution_count": null,
      "metadata": {
        "id": "ke400YWKBCqo",
        "outputId": "bf08b707-b1d1-4d1f-e372-29d419cc464e"
      },
      "outputs": [
        {
          "data": {
            "text/plain": [
              "(1770, 32)"
            ]
          },
          "execution_count": 96,
          "metadata": {},
          "output_type": "execute_result"
        }
      ],
      "source": [
        "pca = PCA(n_components=32)\n",
        "pca.fit(full_data)\n",
        "full_data = pca.transform(full_data)\n",
        "full_data.shape"
      ]
    },
    {
      "cell_type": "code",
      "execution_count": null,
      "metadata": {
        "id": "mrYhcw8EBCqo",
        "outputId": "b563042f-9132-43a5-b16d-86827d2a84f2"
      },
      "outputs": [
        {
          "name": "stdout",
          "output_type": "stream",
          "text": [
            "Classifier accuracy is 0.6474576271186441 \n"
          ]
        }
      ],
      "source": [
        "y_pred = nn_clf.predict(full_data)\n",
        "\n",
        "print('Classifier accuracy is {0} '.format(accuracy_score(full_label, y_pred)))\n"
      ]
    },
    {
      "cell_type": "code",
      "execution_count": null,
      "metadata": {
        "id": "609fjtNcBCqo",
        "outputId": "c499c784-9b75-4bc0-c966-5b8dd409c3fe"
      },
      "outputs": [
        {
          "data": {
            "text/plain": [
              "1024"
            ]
          },
          "execution_count": 98,
          "metadata": {},
          "output_type": "execute_result"
        }
      ],
      "source": [
        "32*32"
      ]
    },
    {
      "cell_type": "markdown",
      "metadata": {
        "id": "s7oyTGVzBCqo"
      },
      "source": [
        "# Feature Engineering Part 2"
      ]
    },
    {
      "cell_type": "code",
      "execution_count": null,
      "metadata": {
        "id": "1nrtYMDtBut_"
      },
      "outputs": [],
      "source": [
        "\n",
        "%cp -r /content/drive/MyDrive/DLAssign2/Assignment_2/* ./"
      ]
    },
    {
      "cell_type": "code",
      "execution_count": 125,
      "metadata": {
        "id": "iu0st3pJBCqp"
      },
      "outputs": [],
      "source": [
        "%matplotlib inline\n",
        "import matplotlib.pyplot as plt\n",
        "import cv2\n",
        "import numpy as np\n",
        "from sklearn.model_selection import train_test_split\n",
        "import os\n",
        "import numpy as np\n",
        "from skimage.color import rgb2gray\n",
        "from skimage import io\n",
        "from sklearn.neural_network import MLPClassifier\n",
        "from sklearn.metrics import *\n",
        "import pandas as pd\n",
        "from itertools import product, combinations\n",
        "import sys\n",
        "import time\n",
        "from sklearn.decomposition import PCA\n",
        "pca = PCA(n_components=1024)"
      ]
    },
    {
      "cell_type": "code",
      "execution_count": 126,
      "metadata": {
        "id": "hZWe1hyhBCqp"
      },
      "outputs": [],
      "source": [
        "import math"
      ]
    },
    {
      "cell_type": "code",
      "execution_count": 126,
      "metadata": {
        "id": "j0Vn48sWBCqp"
      },
      "outputs": [],
      "source": []
    },
    {
      "cell_type": "code",
      "execution_count": 127,
      "metadata": {
        "id": "sio54EYbBCqp"
      },
      "outputs": [],
      "source": [
        "LoA=[]"
      ]
    },
    {
      "cell_type": "code",
      "execution_count": 128,
      "metadata": {
        "colab": {
          "base_uri": "https://localhost:8080/"
        },
        "id": "gotsaJe5BCqp",
        "outputId": "b847bc68-0f73-4e09-b68f-4bec2b4d2589"
      },
      "outputs": [
        {
          "name": "stderr",
          "output_type": "stream",
          "text": [
            "/usr/local/lib/python3.7/dist-packages/ipykernel_launcher.py:7: FutureWarning: The behavior of rgb2gray will change in scikit-image 0.19. Currently, rgb2gray allows 2D grayscale image to be passed as inputs and leaves them unmodified as outputs. Starting from version 0.19, 2D arrays will be treated as 1D images with 3 channels.\n",
            "  import sys\n"
          ]
        }
      ],
      "source": [
        "dirs = list(os.walk('training/'))[1:]\n",
        "#data = np.zeros((1,32,32))\n",
        "for i in dirs:\n",
        "    for filename in i[2]:\n",
        "        img = io.imread(os.path.join(i[0],filename))\n",
        "        #print(os.path.join(i[0],filename))\n",
        "        img = rgb2gray(img)\n",
        "        LoA.append(img.shape)\n",
        "        #img = img.copy()\n",
        "        #img = img.flatten()\n",
        "        #img = img.reshape(1,-1)\n",
        "        #print(img.shape)\n",
        "        #pca.fit(img)\n",
        "        #img = pca.fit_transform(img)\n",
        "        #img.resize((1,32,32))\n",
        "        #data = np.concatenate((data,img),axis=0)\n",
        "        #print(data.shape)\n",
        "\n",
        "maxcountX = pd.DataFrame(data=LoA,columns=['X','Y']).X.max()\n",
        "maxcountY = pd.DataFrame(data=LoA,columns=['X','Y']).Y.max()"
      ]
    },
    {
      "cell_type": "code",
      "execution_count": 129,
      "metadata": {
        "colab": {
          "base_uri": "https://localhost:8080/"
        },
        "id": "CUQUmGkmHqOm",
        "outputId": "1348dcf5-2d79-4937-cf62-949dc69da139"
      },
      "outputs": [
        {
          "data": {
            "text/plain": [
              "0.05555555555555555"
            ]
          },
          "execution_count": 129,
          "metadata": {},
          "output_type": "execute_result"
        }
      ],
      "source": [
        "32/576"
      ]
    },
    {
      "cell_type": "code",
      "execution_count": 130,
      "metadata": {
        "colab": {
          "base_uri": "https://localhost:8080/"
        },
        "id": "Mu-ir2nxBCqp",
        "outputId": "6fc1618a-7e00-4137-9202-3cc05e3e738f"
      },
      "outputs": [
        {
          "data": {
            "text/plain": [
              "array([576])"
            ]
          },
          "execution_count": 130,
          "metadata": {},
          "output_type": "execute_result"
        }
      ],
      "source": [
        "pd.DataFrame(data=LoA,columns=['X','Y']).X.unique()"
      ]
    },
    {
      "cell_type": "code",
      "execution_count": 131,
      "metadata": {
        "colab": {
          "base_uri": "https://localhost:8080/"
        },
        "id": "RUBYrplxBCqp",
        "outputId": "d9d61b03-16b8-4634-b6cf-962ee3bcc6f1"
      },
      "outputs": [
        {
          "name": "stdout",
          "output_type": "stream",
          "text": [
            "training/seat2/seat2-a-p014.png\n",
            "(2, 288, 288)\n",
            "training/seat2/seat2-a-p002.png\n",
            "(3, 288, 288)\n",
            "training/seat2/seat2-a-p019.png\n",
            "(4, 288, 288)\n",
            "training/seat2/seat2-a-p024.png\n",
            "(5, 288, 288)\n",
            "training/seat2/seat2-a-p028.png\n",
            "(6, 288, 288)\n",
            "training/seat2/seat2-a-p015.png\n",
            "(7, 288, 288)\n",
            "training/seat2/seat2-a-p001.png\n",
            "(8, 288, 288)\n",
            "training/seat2/seat2-a-p026.png\n",
            "(9, 288, 288)\n",
            "training/seat2/seat2-a-p030.png\n",
            "(10, 288, 288)\n",
            "training/seat2/seat2-a-p007.png\n",
            "(11, 288, 288)\n",
            "training/seat2/seat2-a-p004.png\n",
            "(12, 288, 288)\n",
            "training/seat2/seat2-a-p021.png\n",
            "(13, 288, 288)\n",
            "training/seat2/seat2-a-p008.png\n",
            "(14, 288, 288)\n",
            "training/seat2/seat2-a-p006.png\n",
            "(15, 288, 288)\n",
            "training/seat2/seat2-a-p005.png\n",
            "(16, 288, 288)\n",
            "training/seat2/seat2-a-p010.png\n",
            "(17, 288, 288)\n",
            "training/seat2/seat2-a-p027.png\n",
            "(18, 288, 288)\n",
            "training/seat2/seat2-a-p017.png\n",
            "(19, 288, 288)\n",
            "training/seat2/seat2-a-p023.png\n",
            "(20, 288, 288)\n",
            "training/seat2/seat2-a-p020.png\n",
            "(21, 288, 288)\n",
            "training/seat2/seat2-a-p025.png\n",
            "(22, 288, 288)\n",
            "training/seat2/seat2-a-p012.png\n",
            "(23, 288, 288)\n",
            "training/seat2/seat2-a-p016.png\n",
            "(24, 288, 288)\n",
            "training/seat2/seat2-a-p018.png\n",
            "(25, 288, 288)\n",
            "training/seat2/seat2-a-p011.png\n"
          ]
        },
        {
          "name": "stderr",
          "output_type": "stream",
          "text": [
            "/usr/local/lib/python3.7/dist-packages/ipykernel_launcher.py:7: FutureWarning: The behavior of rgb2gray will change in scikit-image 0.19. Currently, rgb2gray allows 2D grayscale image to be passed as inputs and leaves them unmodified as outputs. Starting from version 0.19, 2D arrays will be treated as 1D images with 3 channels.\n",
            "  import sys\n"
          ]
        },
        {
          "name": "stdout",
          "output_type": "stream",
          "text": [
            "(26, 288, 288)\n",
            "training/seat2/seat2-a-p029.png\n",
            "(27, 288, 288)\n",
            "training/seat2/seat2-a-p009.png\n",
            "(28, 288, 288)\n",
            "training/seat2/seat2-a-p013.png\n",
            "(29, 288, 288)\n",
            "training/seat2/seat2-a-p003.png\n",
            "(30, 288, 288)\n",
            "training/seat2/seat2-a-p022.png\n",
            "(31, 288, 288)\n",
            "training/sand1/sand1-a-p022.png\n",
            "(32, 288, 288)\n",
            "training/sand1/sand1-a-p010.png\n",
            "(33, 288, 288)\n",
            "training/sand1/sand1-a-p024.png\n",
            "(34, 288, 288)\n",
            "training/sand1/sand1-a-p028.png\n",
            "(35, 288, 288)\n",
            "training/sand1/sand1-a-p019.png\n",
            "(36, 288, 288)\n",
            "training/sand1/sand1-a-p014.png\n",
            "(37, 288, 288)\n",
            "training/sand1/sand1-a-p005.png\n",
            "(38, 288, 288)\n",
            "training/sand1/sand1-a-p004.png\n",
            "(39, 288, 288)\n",
            "training/sand1/sand1-a-p027.png\n",
            "(40, 288, 288)\n",
            "training/sand1/sand1-a-p011.png\n",
            "(41, 288, 288)\n",
            "training/sand1/sand1-a-p002.png\n",
            "(42, 288, 288)\n",
            "training/sand1/sand1-a-p029.png\n",
            "(43, 288, 288)\n",
            "training/sand1/sand1-a-p025.png\n",
            "(44, 288, 288)\n",
            "training/sand1/sand1-a-p003.png\n",
            "(45, 288, 288)\n",
            "training/sand1/sand1-a-p008.png\n",
            "(46, 288, 288)\n",
            "training/sand1/sand1-a-p001.png\n",
            "(47, 288, 288)\n",
            "training/sand1/sand1-a-p015.png\n",
            "(48, 288, 288)\n",
            "training/sand1/sand1-a-p017.png\n",
            "(49, 288, 288)\n",
            "training/sand1/sand1-a-p007.png\n",
            "(50, 288, 288)\n",
            "training/sand1/sand1-a-p021.png\n",
            "(51, 288, 288)\n",
            "training/sand1/sand1-a-p006.png\n",
            "(52, 288, 288)\n",
            "training/sand1/sand1-a-p026.png\n",
            "(53, 288, 288)\n",
            "training/sand1/sand1-a-p016.png\n",
            "(54, 288, 288)\n",
            "training/sand1/sand1-a-p018.png\n",
            "(55, 288, 288)\n",
            "training/sand1/sand1-a-p023.png\n",
            "(56, 288, 288)\n",
            "training/sand1/sand1-a-p030.png\n",
            "(57, 288, 288)\n",
            "training/sand1/sand1-a-p013.png\n",
            "(58, 288, 288)\n",
            "training/sand1/sand1-a-p009.png\n",
            "(59, 288, 288)\n",
            "training/sand1/sand1-a-p012.png\n",
            "(60, 288, 288)\n",
            "training/sand1/sand1-a-p020.png\n",
            "(61, 288, 288)\n",
            "training/stone1/stone1-a-p022.png\n",
            "(62, 288, 288)\n",
            "training/stone1/stone1-a-p014.png\n",
            "(63, 288, 288)\n",
            "training/stone1/stone1-a-p030.png\n",
            "(64, 288, 288)\n",
            "training/stone1/stone1-a-p027.png\n",
            "(65, 288, 288)\n",
            "training/stone1/stone1-a-p011.png\n",
            "(66, 288, 288)\n",
            "training/stone1/stone1-a-p026.png\n",
            "(67, 288, 288)\n",
            "training/stone1/stone1-a-p001.png\n",
            "(68, 288, 288)\n",
            "training/stone1/stone1-a-p005.png\n",
            "(69, 288, 288)\n",
            "training/stone1/stone1-a-p017.png\n",
            "(70, 288, 288)\n",
            "training/stone1/stone1-a-p013.png\n",
            "(71, 288, 288)\n",
            "training/stone1/stone1-a-p006.png\n",
            "(72, 288, 288)\n",
            "training/stone1/stone1-a-p007.png\n",
            "(73, 288, 288)\n",
            "training/stone1/stone1-a-p018.png\n",
            "(74, 288, 288)\n",
            "training/stone1/stone1-a-p029.png\n",
            "(75, 288, 288)\n",
            "training/stone1/stone1-a-p028.png\n",
            "(76, 288, 288)\n",
            "training/stone1/stone1-a-p024.png\n",
            "(77, 288, 288)\n",
            "training/stone1/stone1-a-p019.png\n",
            "(78, 288, 288)\n",
            "training/stone1/stone1-a-p021.png\n",
            "(79, 288, 288)\n",
            "training/stone1/stone1-a-p009.png\n",
            "(80, 288, 288)\n",
            "training/stone1/stone1-a-p016.png\n",
            "(81, 288, 288)\n",
            "training/stone1/stone1-a-p025.png\n",
            "(82, 288, 288)\n",
            "training/stone1/stone1-a-p023.png\n",
            "(83, 288, 288)\n",
            "training/stone1/stone1-a-p004.png\n",
            "(84, 288, 288)\n",
            "training/stone1/stone1-a-p012.png\n",
            "(85, 288, 288)\n",
            "training/stone1/stone1-a-p002.png\n",
            "(86, 288, 288)\n",
            "training/stone1/stone1-a-p010.png\n",
            "(87, 288, 288)\n",
            "training/stone1/stone1-a-p020.png\n",
            "(88, 288, 288)\n",
            "training/stone1/stone1-a-p015.png\n",
            "(89, 288, 288)\n",
            "training/stone1/stone1-a-p003.png\n",
            "(90, 288, 288)\n",
            "training/stone1/stone1-a-p008.png\n",
            "(91, 288, 288)\n",
            "training/canvas1/canvas1-a-p009.png\n",
            "(92, 288, 288)\n",
            "training/canvas1/canvas1-a-p029.png\n",
            "(93, 288, 288)\n",
            "training/canvas1/canvas1-a-p011.png\n",
            "(94, 288, 288)\n",
            "training/canvas1/canvas1-a-p022.png\n",
            "(95, 288, 288)\n",
            "training/canvas1/canvas1-a-p008.png\n",
            "(96, 288, 288)\n",
            "training/canvas1/canvas1-a-p005.png\n",
            "(97, 288, 288)\n",
            "training/canvas1/canvas1-a-p028.png\n",
            "(98, 288, 288)\n",
            "training/canvas1/canvas1-a-p030.png\n",
            "(99, 288, 288)\n",
            "training/canvas1/canvas1-a-p003.png\n",
            "(100, 288, 288)\n",
            "training/canvas1/canvas1-a-p018.png\n",
            "(101, 288, 288)\n",
            "training/canvas1/canvas1-a-p014.png\n",
            "(102, 288, 288)\n",
            "training/canvas1/canvas1-a-p010.png\n",
            "(103, 288, 288)\n",
            "training/canvas1/canvas1-a-p021.png\n",
            "(104, 288, 288)\n",
            "training/canvas1/canvas1-a-p015.png\n",
            "(105, 288, 288)\n",
            "training/canvas1/canvas1-a-p017.png\n",
            "(106, 288, 288)\n",
            "training/canvas1/canvas1-a-p027.png\n",
            "(107, 288, 288)\n",
            "training/canvas1/canvas1-a-p002.png\n",
            "(108, 288, 288)\n",
            "training/canvas1/canvas1-a-p004.png\n",
            "(109, 288, 288)\n",
            "training/canvas1/canvas1-a-p023.png\n",
            "(110, 288, 288)\n",
            "training/canvas1/canvas1-a-p001.png\n",
            "(111, 288, 288)\n",
            "training/canvas1/canvas1-a-p007.png\n",
            "(112, 288, 288)\n",
            "training/canvas1/canvas1-a-p016.png\n",
            "(113, 288, 288)\n",
            "training/canvas1/canvas1-a-p026.png\n",
            "(114, 288, 288)\n",
            "training/canvas1/canvas1-a-p020.png\n",
            "(115, 288, 288)\n",
            "training/canvas1/canvas1-a-p012.png\n",
            "(116, 288, 288)\n",
            "training/canvas1/canvas1-a-p025.png\n",
            "(117, 288, 288)\n",
            "training/canvas1/canvas1-a-p024.png\n",
            "(118, 288, 288)\n",
            "training/canvas1/canvas1-a-p006.png\n",
            "(119, 288, 288)\n",
            "training/canvas1/canvas1-a-p019.png\n",
            "(120, 288, 288)\n",
            "training/canvas1/canvas1-a-p013.png\n",
            "(121, 288, 288)\n",
            "training/cushion1/cushion1-a-p025.png\n",
            "(122, 288, 288)\n",
            "training/cushion1/cushion1-a-p004.png\n",
            "(123, 288, 288)\n",
            "training/cushion1/cushion1-a-p002.png\n",
            "(124, 288, 288)\n",
            "training/cushion1/cushion1-a-p005.png\n",
            "(125, 288, 288)\n",
            "training/cushion1/cushion1-a-p011.png\n",
            "(126, 288, 288)\n",
            "training/cushion1/cushion1-a-p023.png\n",
            "(127, 288, 288)\n",
            "training/cushion1/cushion1-a-p015.png\n",
            "(128, 288, 288)\n",
            "training/cushion1/cushion1-a-p001.png\n",
            "(129, 288, 288)\n",
            "training/cushion1/cushion1-a-p027.png\n",
            "(130, 288, 288)\n",
            "training/cushion1/cushion1-a-p009.png\n",
            "(131, 288, 288)\n",
            "training/cushion1/cushion1-a-p028.png\n",
            "(132, 288, 288)\n",
            "training/cushion1/cushion1-a-p013.png\n",
            "(133, 288, 288)\n",
            "training/cushion1/cushion1-a-p008.png\n",
            "(134, 288, 288)\n",
            "training/cushion1/cushion1-a-p012.png\n",
            "(135, 288, 288)\n",
            "training/cushion1/cushion1-a-p030.png\n",
            "(136, 288, 288)\n",
            "training/cushion1/cushion1-a-p003.png\n",
            "(137, 288, 288)\n",
            "training/cushion1/cushion1-a-p007.png\n",
            "(138, 288, 288)\n",
            "training/cushion1/cushion1-a-p024.png\n",
            "(139, 288, 288)\n",
            "training/cushion1/cushion1-a-p021.png\n",
            "(140, 288, 288)\n",
            "training/cushion1/cushion1-a-p014.png\n",
            "(141, 288, 288)\n",
            "training/cushion1/cushion1-a-p022.png\n",
            "(142, 288, 288)\n",
            "training/cushion1/cushion1-a-p017.png\n",
            "(143, 288, 288)\n",
            "training/cushion1/cushion1-a-p010.png\n",
            "(144, 288, 288)\n",
            "training/cushion1/cushion1-a-p020.png\n",
            "(145, 288, 288)\n",
            "training/cushion1/cushion1-a-p019.png\n",
            "(146, 288, 288)\n",
            "training/cushion1/cushion1-a-p029.png\n",
            "(147, 288, 288)\n",
            "training/cushion1/cushion1-a-p026.png\n",
            "(148, 288, 288)\n",
            "training/cushion1/cushion1-a-p006.png\n",
            "(149, 288, 288)\n",
            "training/cushion1/cushion1-a-p016.png\n",
            "(150, 288, 288)\n",
            "training/cushion1/cushion1-a-p018.png\n",
            "(151, 288, 288)\n",
            "training/linsseeds1/linseeds1-a-p008.png\n",
            "(152, 288, 288)\n",
            "training/linsseeds1/linseeds1-a-p017.png\n",
            "(153, 288, 288)\n",
            "training/linsseeds1/linseeds1-a-p025.png\n",
            "(154, 288, 288)\n",
            "training/linsseeds1/linseeds1-a-p026.png\n",
            "(155, 288, 288)\n",
            "training/linsseeds1/linseeds1-a-p009.png\n",
            "(156, 288, 288)\n",
            "training/linsseeds1/linseeds1-a-p014.png\n",
            "(157, 288, 288)\n",
            "training/linsseeds1/linseeds1-a-p001.png\n",
            "(158, 288, 288)\n",
            "training/linsseeds1/linseeds1-a-p016.png\n",
            "(159, 288, 288)\n",
            "training/linsseeds1/linseeds1-a-p024.png\n",
            "(160, 288, 288)\n",
            "training/linsseeds1/linseeds1-a-p019.png\n",
            "(161, 288, 288)\n",
            "training/linsseeds1/linseeds1-a-p023.png\n",
            "(162, 288, 288)\n",
            "training/linsseeds1/linseeds1-a-p021.png\n",
            "(163, 288, 288)\n",
            "training/linsseeds1/linseeds1-a-p015.png\n",
            "(164, 288, 288)\n",
            "training/linsseeds1/linseeds1-a-p027.png\n",
            "(165, 288, 288)\n",
            "training/linsseeds1/linseeds1-a-p020.png\n",
            "(166, 288, 288)\n",
            "training/linsseeds1/linseeds1-a-p028.png\n",
            "(167, 288, 288)\n",
            "training/linsseeds1/linseeds1-a-p006.png\n",
            "(168, 288, 288)\n",
            "training/linsseeds1/linseeds1-a-p002.png\n",
            "(169, 288, 288)\n",
            "training/linsseeds1/linseeds1-a-p018.png\n",
            "(170, 288, 288)\n",
            "training/linsseeds1/linseeds1-a-p004.png\n",
            "(171, 288, 288)\n",
            "training/linsseeds1/linseeds1-a-p030.png\n",
            "(172, 288, 288)\n",
            "training/linsseeds1/linseeds1-a-p022.png\n",
            "(173, 288, 288)\n",
            "training/linsseeds1/linseeds1-a-p029.png\n",
            "(174, 288, 288)\n",
            "training/linsseeds1/linseeds1-a-p010.png\n",
            "(175, 288, 288)\n",
            "training/linsseeds1/linseeds1-a-p012.png\n",
            "(176, 288, 288)\n",
            "training/linsseeds1/linseeds1-a-p003.png\n",
            "(177, 288, 288)\n",
            "training/linsseeds1/linseeds1-a-p011.png\n",
            "(178, 288, 288)\n",
            "training/linsseeds1/linseeds1-a-p013.png\n",
            "(179, 288, 288)\n",
            "training/linsseeds1/linseeds1-a-p005.png\n",
            "(180, 288, 288)\n",
            "training/linsseeds1/linseeds1-a-p007.png\n",
            "(181, 288, 288)\n"
          ]
        }
      ],
      "source": [
        "dirs = list(os.walk('training/'))[1:]\n",
        "data = np.zeros((1,288,288))\n",
        "for i in dirs:\n",
        "    for filename in i[2]:\n",
        "        img = io.imread(os.path.join(i[0],filename))\n",
        "        print(os.path.join(i[0],filename))\n",
        "        img = rgb2gray(img)\n",
        "        img = img.copy()\n",
        "        img = cv2.resize(img, (0, 0), fx=0.5, fy=0.5)\n",
        "        img = img.reshape((1,img.shape[0],img.shape[1]))\n",
        "        data = np.concatenate((data,img),axis=0)\n",
        "        print(data.shape)\n",
        "\n"
      ]
    },
    {
      "cell_type": "code",
      "execution_count": 132,
      "metadata": {
        "id": "SkXMRGahBCqq"
      },
      "outputs": [],
      "source": [
        "data = data[1:]"
      ]
    },
    {
      "cell_type": "code",
      "execution_count": 133,
      "metadata": {
        "colab": {
          "base_uri": "https://localhost:8080/"
        },
        "id": "svUmXXWUBCqq",
        "outputId": "801d5a18-5854-4509-8cbd-fa1786cd929b"
      },
      "outputs": [
        {
          "data": {
            "text/plain": [
              "(180, 288, 288)"
            ]
          },
          "execution_count": 133,
          "metadata": {},
          "output_type": "execute_result"
        }
      ],
      "source": [
        "data.shape"
      ]
    },
    {
      "cell_type": "code",
      "execution_count": 134,
      "metadata": {
        "colab": {
          "base_uri": "https://localhost:8080/",
          "height": 287
        },
        "id": "yFZbAO1CHSyB",
        "outputId": "9e683ea5-f565-4580-f485-3e7471d9e7e7"
      },
      "outputs": [
        {
          "data": {
            "text/plain": [
              "<matplotlib.image.AxesImage at 0x7f748d103f50>"
            ]
          },
          "execution_count": 134,
          "metadata": {},
          "output_type": "execute_result"
        },
        {
          "data": {
            "image/png": "[encoded data removed]",
            "text/plain": [
              "<Figure size 432x288 with 1 Axes>"
            ]
          },
          "metadata": {
            "needs_background": "light"
          },
          "output_type": "display_data"
        }
      ],
      "source": [
        "plt.imshow(data[0,:,:],'gray')"
      ]
    },
    {
      "cell_type": "code",
      "execution_count": 134,
      "metadata": {
        "id": "lic_ONYiHS46"
      },
      "outputs": [],
      "source": []
    },
    {
      "cell_type": "code",
      "execution_count": 135,
      "metadata": {
        "id": "2d9BTtmPBCqq"
      },
      "outputs": [],
      "source": [
        "data = data.reshape((data.shape[0],data.shape[1]*data.shape[2]))"
      ]
    },
    {
      "cell_type": "code",
      "execution_count": 136,
      "metadata": {
        "colab": {
          "base_uri": "https://localhost:8080/"
        },
        "id": "looNgBBNBCqq",
        "outputId": "a87a7f16-ce1b-46aa-c16b-4052d12eb380"
      },
      "outputs": [
        {
          "data": {
            "text/plain": [
              "(180, 82944)"
            ]
          },
          "execution_count": 136,
          "metadata": {},
          "output_type": "execute_result"
        }
      ],
      "source": [
        "data.shape"
      ]
    },
    {
      "cell_type": "code",
      "execution_count": 136,
      "metadata": {
        "id": "O0raTRKnDWte"
      },
      "outputs": [],
      "source": []
    },
    {
      "cell_type": "code",
      "execution_count": 137,
      "metadata": {
        "colab": {
          "base_uri": "https://localhost:8080/"
        },
        "id": "8L2MRQZPBCqq",
        "outputId": "d678f2b1-8165-4779-c9ac-8e33e479756d"
      },
      "outputs": [
        {
          "name": "stdout",
          "output_type": "stream",
          "text": [
            "360\n",
            "540\n",
            "720\n",
            "900\n",
            "1080\n"
          ]
        }
      ],
      "source": [
        "temp = data.copy()\n",
        "while(data.shape[0]<1080):\n",
        "    \n",
        "    data = np.concatenate((data,temp),axis=0)\n",
        "    print(data.shape[0])"
      ]
    },
    {
      "cell_type": "code",
      "execution_count": 138,
      "metadata": {
        "colab": {
          "base_uri": "https://localhost:8080/"
        },
        "id": "hRHUfc80BCqq",
        "outputId": "682cf235-9baa-4530-d488-b039e929340b"
      },
      "outputs": [
        {
          "data": {
            "text/plain": [
              "(1080, 82944)"
            ]
          },
          "execution_count": 138,
          "metadata": {},
          "output_type": "execute_result"
        }
      ],
      "source": [
        "data.shape"
      ]
    },
    {
      "cell_type": "code",
      "execution_count": 139,
      "metadata": {
        "colab": {
          "base_uri": "https://localhost:8080/"
        },
        "id": "Cpkj42syEc_u",
        "outputId": "0be7e108-1827-40a1-b7aa-852c5eedba76"
      },
      "outputs": [
        {
          "data": {
            "text/plain": [
              "PCA(n_components=1024)"
            ]
          },
          "execution_count": 139,
          "metadata": {},
          "output_type": "execute_result"
        }
      ],
      "source": [
        "pca.fit(data)"
      ]
    },
    {
      "cell_type": "code",
      "execution_count": 140,
      "metadata": {
        "id": "b8o5J9WbBCqr"
      },
      "outputs": [],
      "source": [
        "data = pca.transform(data)"
      ]
    },
    {
      "cell_type": "code",
      "execution_count": 141,
      "metadata": {
        "colab": {
          "base_uri": "https://localhost:8080/"
        },
        "id": "W8ltPbBuDpYK",
        "outputId": "df004a8c-bc3e-473e-fc72-04b4e4f29f08"
      },
      "outputs": [
        {
          "data": {
            "text/plain": [
              "(180, 1024)"
            ]
          },
          "execution_count": 141,
          "metadata": {},
          "output_type": "execute_result"
        }
      ],
      "source": [
        "data[:180].shape"
      ]
    },
    {
      "cell_type": "code",
      "execution_count": 142,
      "metadata": {
        "id": "2bv8qZyEKRjV"
      },
      "outputs": [],
      "source": [
        "tempTrain = data.copy()"
      ]
    },
    {
      "cell_type": "code",
      "execution_count": 143,
      "metadata": {
        "id": "2HF44P9lITE1"
      },
      "outputs": [],
      "source": [
        "data = data[:180].reshape(data[:180].shape[0],int(math.sqrt(data.shape[1])),int(math.sqrt(data.shape[1])))"
      ]
    },
    {
      "cell_type": "code",
      "execution_count": 144,
      "metadata": {
        "colab": {
          "base_uri": "https://localhost:8080/"
        },
        "id": "wc6aL8biJJ9X",
        "outputId": "43c831ec-298d-40cf-f39a-6b21e084016c"
      },
      "outputs": [
        {
          "data": {
            "text/plain": [
              "(180, 32, 32)"
            ]
          },
          "execution_count": 144,
          "metadata": {},
          "output_type": "execute_result"
        }
      ],
      "source": [
        "data.shape"
      ]
    },
    {
      "cell_type": "markdown",
      "metadata": {
        "id": "5C-4SFdTBCqr"
      },
      "source": [
        "##### Preparing Dataset\n"
      ]
    },
    {
      "cell_type": "code",
      "execution_count": 146,
      "metadata": {
        "colab": {
          "base_uri": "https://localhost:8080/"
        },
        "id": "cJ6uaOLiBCqr",
        "outputId": "81ef2c23-d28d-42f3-ded0-43b59daeb5a5"
      },
      "outputs": [
        {
          "data": {
            "text/plain": [
              "(30, 32, 32)"
            ]
          },
          "execution_count": 146,
          "metadata": {},
          "output_type": "execute_result"
        }
      ],
      "source": [
        "seat = data[:30]\n",
        "sand = data[30:60]\n",
        "stone = data[60:90]\n",
        "canvas = data[90:120]\n",
        "cushion = data[120:150]\n",
        "linsseeds = data[150:]\n",
        "stone.shape"
      ]
    },
    {
      "cell_type": "code",
      "execution_count": 147,
      "metadata": {
        "colab": {
          "base_uri": "https://localhost:8080/"
        },
        "id": "2sm6Lwp6BCqr",
        "outputId": "0e6fa84f-f230-49e9-c3a0-87f242f7d68d"
      },
      "outputs": [
        {
          "name": "stdout",
          "output_type": "stream",
          "text": [
            "(435, 2, 32, 32)\n"
          ]
        }
      ],
      "source": [
        "def make_combine(dataset):\n",
        "    arr = np.zeros((1,2,32,32))\n",
        "    for img1,img2 in combinations(dataset,2):\n",
        "        temp = np.concatenate((img1,img2),axis=0)\n",
        "        temp = temp.reshape((1,2,32,32))\n",
        "        arr = np.concatenate((arr,temp))\n",
        "\n",
        "    arr = arr[1:,:,:,:]\n",
        "    return arr.copy()\n",
        "\n",
        "stone_stone_x = make_combine(stone)\n",
        "canvas_canvas_x = make_combine(canvas)\n",
        "cushion_cushion_x = make_combine(cushion)\n",
        "linsseeds_linsseeds_x = make_combine(linsseeds)\n",
        "sand_sand_x = make_combine(sand)\n",
        "seat_seat_x = make_combine(seat)\n",
        "print(seat_seat_x.shape)\n"
      ]
    },
    {
      "cell_type": "code",
      "execution_count": 148,
      "metadata": {
        "colab": {
          "base_uri": "https://localhost:8080/"
        },
        "id": "vcPjbCkFBCqr",
        "outputId": "d75d9e36-9cc4-40bd-dcef-f70ed28a981c"
      },
      "outputs": [
        {
          "name": "stdout",
          "output_type": "stream",
          "text": [
            "(900, 2, 32, 32)\n"
          ]
        }
      ],
      "source": [
        "def make_product(dataset1,datset2):\n",
        "    arr = np.zeros((1,2,32,32))\n",
        "    for img1,img2 in product(dataset1,datset2):\n",
        "        temp = np.concatenate((img1,img2),axis=0)\n",
        "        temp = temp.reshape((1,2,32,32))\n",
        "        arr = np.concatenate((arr,temp))\n",
        "\n",
        "    arr = arr[1:,:,:,:]\n",
        "    return arr.copy()\n",
        "stone_canvas_x = make_product(stone,canvas)\n",
        "stone_cushion_x = make_product(stone,cushion)\n",
        "stone_linsseeds_x = make_product(stone,linsseeds)\n",
        "stone_sand_x = make_product(stone,sand)\n",
        "stone_seat_x = make_product(stone,seat)\n",
        "\n",
        "canvas_sand_x = make_product(canvas,sand)\n",
        "canvas_cushion_x = make_product(canvas,cushion)\n",
        "canvas_linsseeds_x = make_product(canvas,linsseeds)\n",
        "canvas_seat_x = make_product(canvas,seat)\n",
        "\n",
        "cushion_linsseeds_x = make_product(cushion,linsseeds)\n",
        "cushion_sand_x = make_product(cushion,sand)\n",
        "cushion_seat_x = make_product(cushion,seat)\n",
        "\n",
        "linsseeds_sand_x = make_product(linsseeds,sand)\n",
        "linsseeds_seat_x = make_product(linsseeds,seat)\n",
        "\n",
        "sand_seat_x = make_product(sand,seat)\n",
        "\n",
        "print(stone_canvas_x.shape)"
      ]
    },
    {
      "cell_type": "code",
      "execution_count": 149,
      "metadata": {
        "id": "YQGiOEP0BCqs"
      },
      "outputs": [],
      "source": [
        "stone_canvas_y = np.zeros((stone_canvas_x.shape[0],))\n",
        "stone_cushion_y = np.zeros((stone_cushion_x.shape[0],))\n",
        "stone_linsseeds_y = np.zeros((stone_linsseeds_x.shape[0],))\n",
        "stone_sand_y = np.zeros((stone_sand_x.shape[0],))\n",
        "stone_seat_y = np.zeros((stone_seat_x.shape[0],))\n",
        "\n",
        "canvas_sand_y = np.zeros((canvas_sand_x.shape[0],))\n",
        "canvas_cushion_y = np.zeros((canvas_cushion_x.shape[0],))\n",
        "canvas_linsseeds_y = np.zeros((canvas_linsseeds_x.shape[0],))\n",
        "canvas_seat_y = np.zeros((canvas_seat_x.shape[0],))\n",
        "\n",
        "cushion_linsseeds_y = np.zeros((cushion_linsseeds_x.shape[0],))\n",
        "cushion_sand_y = np.zeros((cushion_sand_x.shape[0],))\n",
        "cushion_seat_y = np.zeros((cushion_seat_x.shape[0],))\n",
        "\n",
        "linsseeds_sand_y = np.zeros((linsseeds_sand_x.shape[0],))\n",
        "linsseeds_seat_y = np.zeros((linsseeds_seat_x.shape[0],))\n",
        "\n",
        "sand_seat_y = np.zeros((sand_seat_x.shape[0],))\n"
      ]
    },
    {
      "cell_type": "code",
      "execution_count": 150,
      "metadata": {
        "id": "u4xoH2P-BCqs"
      },
      "outputs": [],
      "source": [
        "stone_stone_y = np.ones((stone_stone_x.shape[0],))\n",
        "canvas_canvas_y = np.ones((canvas_canvas_x.shape[0],))\n",
        "cushion_cushion_y = np.ones((cushion_cushion_x.shape[0],))\n",
        "linsseeds_linsseeds_y = np.ones((linsseeds_linsseeds_x.shape[0],))\n",
        "sand_sand_y = np.ones((sand_sand_x.shape[0],))\n",
        "seat_seat_y = np.ones((seat_seat_x.shape[0],))"
      ]
    },
    {
      "cell_type": "code",
      "execution_count": 151,
      "metadata": {
        "id": "5rJ7q0-9BCqs"
      },
      "outputs": [],
      "source": [
        "full_data = np.concatenate([stone_canvas_x,stone_stone_x,stone_cushion_x,stone_linsseeds_x,stone_sand_x,stone_seat_x,canvas_canvas_x,canvas_cushion_x,canvas_linsseeds_x,canvas_sand_x,canvas_seat_x,linsseeds_linsseeds_x,linsseeds_sand_x,linsseeds_seat_x,cushion_linsseeds_x,cushion_cushion_x,cushion_sand_x,cushion_seat_x,sand_sand_x,sand_seat_x,seat_seat_x],axis=0)"
      ]
    },
    {
      "cell_type": "code",
      "execution_count": 152,
      "metadata": {
        "colab": {
          "base_uri": "https://localhost:8080/"
        },
        "id": "Ny-Z06UIBCqs",
        "outputId": "1cd8fccf-ba99-4773-d831-edc74abc0a7e"
      },
      "outputs": [
        {
          "data": {
            "text/plain": [
              "(16110, 2, 32, 32)"
            ]
          },
          "execution_count": 152,
          "metadata": {},
          "output_type": "execute_result"
        }
      ],
      "source": [
        "full_data.shape"
      ]
    },
    {
      "cell_type": "code",
      "execution_count": 153,
      "metadata": {
        "id": "Rx21u1QGBCqs"
      },
      "outputs": [],
      "source": [
        "full_label = np.concatenate([stone_canvas_y,stone_stone_y,stone_cushion_y,stone_linsseeds_y,stone_sand_y,stone_seat_y,canvas_canvas_y,canvas_cushion_y,canvas_linsseeds_y,canvas_sand_y,canvas_seat_y,linsseeds_linsseeds_y,linsseeds_sand_y,linsseeds_seat_y,cushion_linsseeds_y,cushion_cushion_y,cushion_sand_y,cushion_seat_y,sand_sand_y,sand_seat_y,seat_seat_y],axis=0)"
      ]
    },
    {
      "cell_type": "code",
      "execution_count": 154,
      "metadata": {
        "colab": {
          "base_uri": "https://localhost:8080/"
        },
        "id": "8pfb9drxBCqs",
        "outputId": "da3a53b8-6636-4ea5-8935-15a02865f5f8"
      },
      "outputs": [
        {
          "data": {
            "text/plain": [
              "(16110,)"
            ]
          },
          "execution_count": 154,
          "metadata": {},
          "output_type": "execute_result"
        }
      ],
      "source": [
        "full_label.shape"
      ]
    },
    {
      "cell_type": "markdown",
      "metadata": {
        "id": "Jc17KZNJBCqt"
      },
      "source": [
        "**Reshaping Data**"
      ]
    },
    {
      "cell_type": "code",
      "execution_count": 155,
      "metadata": {
        "id": "luJa9_XJBCqt"
      },
      "outputs": [],
      "source": [
        "full_data = full_data.reshape((full_data.shape[0],full_data.shape[1]*full_data.shape[2]*full_data.shape[3]))"
      ]
    },
    {
      "cell_type": "code",
      "execution_count": 156,
      "metadata": {
        "colab": {
          "base_uri": "https://localhost:8080/"
        },
        "id": "d6r2A84sBCqt",
        "outputId": "fd414009-18ef-4248-9b95-8c0737383592"
      },
      "outputs": [
        {
          "data": {
            "text/plain": [
              "(16110, 2048)"
            ]
          },
          "execution_count": 156,
          "metadata": {},
          "output_type": "execute_result"
        }
      ],
      "source": [
        "full_data.shape"
      ]
    },
    {
      "cell_type": "markdown",
      "metadata": {
        "id": "JGhvM4ewBCqu"
      },
      "source": [
        "## Test and Training Data\n",
        "\n",
        "Split data into test and training data after re-shuffling the datatest."
      ]
    },
    {
      "cell_type": "code",
      "execution_count": 157,
      "metadata": {
        "colab": {
          "base_uri": "https://localhost:8080/"
        },
        "id": "-NYEfitXBCqx",
        "outputId": "a976cb43-dac5-4974-be89-4efe62ae3299"
      },
      "outputs": [
        {
          "name": "stdout",
          "output_type": "stream",
          "text": [
            "Matrix shape X:  (10793, 2048)\n",
            "10793 samples for training\n",
            "5317 samples for testing\n"
          ]
        }
      ],
      "source": [
        "\n",
        "X_train, X_test, y_train, y_test = train_test_split(full_data, full_label, test_size=0.33, stratify=full_label, random_state=42)\n",
        "\n",
        "print('Matrix shape X: ', X_train.shape)\n",
        "print('{0} samples for training'.format(X_train.shape[0]))\n",
        "print('{0} samples for testing'.format(X_test.shape[0]))"
      ]
    },
    {
      "cell_type": "code",
      "execution_count": 157,
      "metadata": {
        "id": "_nIV80WrBCqx"
      },
      "outputs": [],
      "source": []
    },
    {
      "cell_type": "markdown",
      "metadata": {
        "id": "8_yI9Yj_BCqy"
      },
      "source": [
        "Could compare with logistic regression"
      ]
    },
    {
      "cell_type": "code",
      "execution_count": 158,
      "metadata": {
        "colab": {
          "base_uri": "https://localhost:8080/"
        },
        "id": "mlVucB2aBCqy",
        "outputId": "b8ad3c1b-23cc-4ffe-cf7a-193c0e99daa8"
      },
      "outputs": [
        {
          "name": "stdout",
          "output_type": "stream",
          "text": [
            "Iteration 1, loss = 8.26668377\n",
            "Validation score: 0.723595\n",
            "Iteration 2, loss = 6.93722330\n",
            "Validation score: 0.804509\n",
            "Iteration 3, loss = 8.43142433\n",
            "Validation score: 0.849290\n",
            "Iteration 4, loss = 18.08190746\n",
            "Validation score: 0.796479\n",
            "Iteration 5, loss = 2928.22348095\n",
            "Validation score: 0.836319\n",
            "Iteration 6, loss = 602658.11936305\n",
            "Validation score: 0.779185\n",
            "Iteration 7, loss = 66073099.71064653\n",
            "Validation score: 0.786288\n",
            "Iteration 8, loss = 20910472033.69090652\n",
            "Validation score: 0.837863\n",
            "Iteration 9, loss = 3373377247654.48876953\n",
            "Validation score: 0.799568\n",
            "Iteration 10, loss = 232373476636991.81250000\n",
            "Validation score: 0.829216\n",
            "Iteration 11, loss = 39024537651662416.00000000\n",
            "Validation score: 0.772390\n",
            "Iteration 12, loss = 3208348482213725696.00000000\n",
            "Validation score: 0.842804\n",
            "Iteration 13, loss = 952952756146191466496.00000000\n",
            "Validation score: 0.789994\n",
            "Iteration 14, loss = 63105453947477978775552.00000000\n",
            "Validation score: 0.776714\n",
            "Validation score did not improve more than tol=0.000100 for 10 consecutive epochs. Setting learning rate to 0.000200\n",
            "Iteration 15, loss = 627670124341867287937024.00000000\n",
            "Validation score: 0.861643\n",
            "Iteration 16, loss = 767836111032059951054848.00000000\n",
            "Validation score: 0.899012\n",
            "Iteration 17, loss = 771437502050861022445568.00000000\n",
            "Validation score: 0.930821\n",
            "Iteration 18, loss = 773859959550354403622912.00000000\n",
            "Validation score: 0.938851\n",
            "Iteration 19, loss = 777013302458622012293120.00000000\n",
            "Validation score: 0.951822\n",
            "Iteration 20, loss = 780394601875831787618304.00000000\n",
            "Validation score: 0.950278\n",
            "Iteration 21, loss = 783139191803886230831104.00000000\n",
            "Validation score: 0.958616\n",
            "Iteration 22, loss = 784877556105566224384000.00000000\n",
            "Validation score: 0.957999\n",
            "Iteration 23, loss = 786454237124734467702784.00000000\n",
            "Validation score: 0.962940\n",
            "Iteration 24, loss = 788244692921200685350912.00000000\n",
            "Validation score: 0.959234\n",
            "Iteration 25, loss = 790047819583072879247360.00000000\n",
            "Validation score: 0.964793\n",
            "Iteration 26, loss = 791718560716505015648256.00000000\n",
            "Validation score: 0.965411\n",
            "Iteration 27, loss = 792853305627939658792960.00000000\n",
            "Validation score: 0.966028\n",
            "Iteration 28, loss = 793949891546954518757376.00000000\n",
            "Validation score: 0.968808\n",
            "Iteration 29, loss = 794963668857214413570048.00000000\n",
            "Validation score: 0.969734\n",
            "Iteration 30, loss = 796199374045897056845824.00000000\n",
            "Validation score: 0.969117\n",
            "Iteration 31, loss = 797045717251092299907072.00000000\n",
            "Validation score: 0.971896\n",
            "Iteration 32, loss = 797430498286349022396416.00000000\n",
            "Validation score: 0.972823\n",
            "Iteration 33, loss = 797909911022257785798656.00000000\n",
            "Validation score: 0.970970\n",
            "Iteration 34, loss = 798515797475778845736960.00000000\n",
            "Validation score: 0.970661\n",
            "Iteration 35, loss = 799179852022257779998720.00000000\n",
            "Validation score: 0.972205\n",
            "Iteration 36, loss = 800035660522408441282560.00000000\n",
            "Validation score: 0.970661\n",
            "Iteration 37, loss = 800962005292561064787968.00000000\n",
            "Validation score: 0.971587\n",
            "Iteration 38, loss = 801554405793491331317760.00000000\n",
            "Validation score: 0.973132\n",
            "Iteration 39, loss = 802455267435465945382912.00000000\n",
            "Validation score: 0.970970\n",
            "Iteration 40, loss = 803193250699241947398144.00000000\n",
            "Validation score: 0.973132\n",
            "Iteration 41, loss = 803815490369685767061504.00000000\n",
            "Validation score: 0.974367\n",
            "Iteration 42, loss = 804255930593892034936832.00000000\n",
            "Validation score: 0.972514\n",
            "Iteration 43, loss = 804540622368648724480000.00000000\n",
            "Validation score: 0.976220\n",
            "Iteration 44, loss = 804818032479961306103808.00000000\n",
            "Validation score: 0.974676\n",
            "Iteration 45, loss = 805078916035064182603776.00000000\n",
            "Validation score: 0.973749\n",
            "Iteration 46, loss = 805345718280745241280512.00000000\n",
            "Validation score: 0.974058\n",
            "Iteration 47, loss = 805467147338021467062272.00000000\n",
            "Validation score: 0.974058\n",
            "Iteration 48, loss = 805628126426642721538048.00000000\n",
            "Validation score: 0.974058\n",
            "Iteration 49, loss = 805793300581901051887616.00000000\n",
            "Validation score: 0.976220\n",
            "Iteration 50, loss = 805921727232783945826304.00000000\n",
            "Validation score: 0.976838\n",
            "Iteration 51, loss = 806147701136955271020544.00000000\n",
            "Validation score: 0.977146\n",
            "Iteration 52, loss = 806440351689440703283200.00000000\n",
            "Validation score: 0.977146\n",
            "Iteration 53, loss = 806696813988839749058560.00000000\n",
            "Validation score: 0.978073\n",
            "Iteration 54, loss = 806879264113216398032896.00000000\n",
            "Validation score: 0.973132\n",
            "Iteration 55, loss = 807227641208048130719744.00000000\n",
            "Validation score: 0.974985\n",
            "Iteration 56, loss = 807658179413362815795200.00000000\n",
            "Validation score: 0.976529\n",
            "Iteration 57, loss = 808087278165643541610496.00000000\n",
            "Validation score: 0.974985\n",
            "Iteration 58, loss = 808237055833706583818240.00000000\n",
            "Validation score: 0.975602\n",
            "Iteration 59, loss = 808447239207866519781376.00000000\n",
            "Validation score: 0.976529\n",
            "Iteration 60, loss = 808675343415338040557568.00000000\n",
            "Validation score: 0.976529\n",
            "Iteration 61, loss = 808916889417389617184768.00000000\n",
            "Validation score: 0.975293\n",
            "Iteration 62, loss = 809174105346321416192000.00000000\n",
            "Validation score: 0.979308\n",
            "Iteration 63, loss = 809391518667775022202880.00000000\n",
            "Validation score: 0.974058\n",
            "Iteration 64, loss = 809595750565180877045760.00000000\n",
            "Validation score: 0.975602\n",
            "Iteration 65, loss = 809637057064204196904960.00000000\n",
            "Validation score: 0.975602\n",
            "Iteration 66, loss = 809638306143300373970944.00000000\n",
            "Validation score: 0.975602\n",
            "Iteration 67, loss = 809638268282969312460800.00000000\n",
            "Validation score: 0.975602\n",
            "Iteration 68, loss = 809638206720971286511616.00000000\n",
            "Validation score: 0.975602\n",
            "Iteration 69, loss = 809638144726397442064384.00000000\n",
            "Validation score: 0.975602\n",
            "Iteration 70, loss = 809638082723934950653952.00000000\n",
            "Validation score: 0.975602\n",
            "Iteration 71, loss = 809638020721332470153216.00000000\n",
            "Validation score: 0.975602\n",
            "Iteration 72, loss = 809637958718732271353856.00000000\n",
            "Validation score: 0.975602\n",
            "Iteration 73, loss = 809637896716136770174976.00000000\n",
            "Validation score: 0.975602\n",
            "Validation score did not improve more than tol=0.000100 for 10 consecutive epochs. Setting learning rate to 0.000040\n",
            "Iteration 74, loss = 809637850896822884630528.00000000\n",
            "Validation score: 0.975602\n",
            "Iteration 75, loss = 809637835756166994460672.00000000\n",
            "Validation score: 0.975602\n",
            "Iteration 76, loss = 809637823305647227142144.00000000\n",
            "Validation score: 0.975602\n",
            "Iteration 77, loss = 809637810904217862275072.00000000\n",
            "Validation score: 0.975602\n",
            "Iteration 78, loss = 809637798503683863871488.00000000\n",
            "Validation score: 0.975602\n",
            "Iteration 79, loss = 809637786103166776901632.00000000\n",
            "Validation score: 0.975602\n",
            "Iteration 80, loss = 809637773702649824149504.00000000\n",
            "Validation score: 0.975602\n",
            "Iteration 81, loss = 809637761302133274050560.00000000\n",
            "Validation score: 0.975602\n",
            "Iteration 82, loss = 809637748901616992387072.00000000\n",
            "Validation score: 0.975602\n",
            "Iteration 83, loss = 809637736501100844941312.00000000\n",
            "Validation score: 0.975602\n",
            "Iteration 84, loss = 809637724100584831713280.00000000\n",
            "Validation score: 0.975602\n",
            "Validation score did not improve more than tol=0.000100 for 10 consecutive epochs. Setting learning rate to 0.000008\n",
            "Iteration 85, loss = 809637714936723960496128.00000000\n",
            "Validation score: 0.975602\n",
            "Iteration 86, loss = 809637711908593507237888.00000000\n",
            "Validation score: 0.975602\n",
            "Iteration 87, loss = 809637709418489714835456.00000000\n",
            "Validation score: 0.975602\n",
            "Iteration 88, loss = 809637706938204486107136.00000000\n",
            "Validation score: 0.975602\n",
            "Iteration 89, loss = 809637704458097766957056.00000000\n",
            "Validation score: 0.975602\n",
            "Iteration 90, loss = 809637701977994537467904.00000000\n",
            "Validation score: 0.975602\n",
            "Iteration 91, loss = 809637699497891442196480.00000000\n",
            "Validation score: 0.975602\n",
            "Iteration 92, loss = 809637697017788346925056.00000000\n",
            "Validation score: 0.975602\n",
            "Iteration 93, loss = 809637694537685520089088.00000000\n",
            "Validation score: 0.975602\n",
            "Iteration 94, loss = 809637692057582424817664.00000000\n",
            "Validation score: 0.975602\n",
            "Iteration 95, loss = 809637689577479329546240.00000000\n",
            "Validation score: 0.975602\n",
            "Validation score did not improve more than tol=0.000100 for 10 consecutive epochs. Setting learning rate to 0.000002\n",
            "Iteration 96, loss = 809637687744706994241536.00000000\n",
            "Validation score: 0.975602\n",
            "Iteration 97, loss = 809637687139080903589888.00000000\n",
            "Validation score: 0.975602\n",
            "Iteration 98, loss = 809637686641060252483584.00000000\n",
            "Validation score: 0.975602\n",
            "Iteration 99, loss = 809637686145003072520192.00000000\n",
            "Validation score: 0.975602\n",
            "Iteration 100, loss = 809637685648981728690176.00000000\n",
            "Validation score: 0.975602\n",
            "Iteration 101, loss = 809637685152961458601984.00000000\n",
            "Validation score: 0.975602\n",
            "Iteration 102, loss = 809637684656940383207424.00000000\n",
            "Validation score: 0.975602\n",
            "Iteration 103, loss = 809637684160919978901504.00000000\n",
            "Validation score: 0.975602\n",
            "Iteration 104, loss = 809637683664899171942400.00000000\n",
            "Validation score: 0.975602\n",
            "Iteration 105, loss = 809637683168878633418752.00000000\n",
            "Validation score: 0.975602\n",
            "Iteration 106, loss = 809637682672858363330560.00000000\n",
            "Validation score: 0.975602\n",
            "Validation score did not improve more than tol=0.000100 for 10 consecutive epochs. Setting learning rate to 0.000000\n",
            "Iteration 107, loss = 809637682306303842582528.00000000\n",
            "Validation score: 0.975602\n",
            "Iteration 108, loss = 809637682185178651295744.00000000\n",
            "Validation score: 0.975602\n",
            "Iteration 109, loss = 809637682085574601605120.00000000\n",
            "Validation score: 0.975602\n",
            "Iteration 110, loss = 809637681986363004551168.00000000\n",
            "Validation score: 0.975602\n",
            "Iteration 111, loss = 809637681887158655254528.00000000\n",
            "Validation score: 0.975602\n",
            "Iteration 112, loss = 809637681787954440175616.00000000\n",
            "Validation score: 0.975602\n",
            "Iteration 113, loss = 809637681688750225096704.00000000\n",
            "Validation score: 0.975602\n",
            "Iteration 114, loss = 809637681589546144235520.00000000\n",
            "Validation score: 0.975602\n",
            "Iteration 115, loss = 809637681490342331809792.00000000\n",
            "Validation score: 0.975602\n",
            "Iteration 116, loss = 809637681391137848295424.00000000\n",
            "Validation score: 0.975602\n",
            "Iteration 117, loss = 809637681291933901651968.00000000\n",
            "Validation score: 0.975602\n",
            "Validation score did not improve more than tol=0.000100 for 10 consecutive epochs. Learning rate too small. Stopping.\n"
          ]
        }
      ],
      "source": [
        "start_time = time.time()\n",
        "\n",
        "nn_clf = MLPClassifier(max_iter=1000,solver='sgd',verbose='true',early_stopping=True,validation_fraction=0.3,learning_rate='adaptive')\n",
        "nn_clf.fit(X_train, y_train)\n",
        "exec_time_MLP = time.time()-start_time"
      ]
    },
    {
      "cell_type": "markdown",
      "metadata": {
        "id": "H6OT8najBCqy"
      },
      "source": [
        "Let's see what the network looks like"
      ]
    },
    {
      "cell_type": "code",
      "execution_count": 159,
      "metadata": {
        "colab": {
          "base_uri": "https://localhost:8080/"
        },
        "id": "5flqdrR6BCqy",
        "outputId": "589ea712-b8f4-4cf9-9a2e-395dcb780582"
      },
      "outputs": [
        {
          "name": "stdout",
          "output_type": "stream",
          "text": [
            "Number of layers 3\n",
            "Layer 0: Weights (2048, 100) Bias (100,)\n",
            "Layer 1: Weights (100, 1) Bias (1,)\n"
          ]
        }
      ],
      "source": [
        "print(f'Number of layers {nn_clf.n_layers_}')\n",
        "for lyr in range(nn_clf.n_layers_-1):\n",
        "    print('Layer {0}: Weights {1} Bias {2}'.format(lyr,nn_clf.coefs_[lyr].shape, nn_clf.intercepts_[lyr].shape))\n"
      ]
    },
    {
      "cell_type": "code",
      "execution_count": 160,
      "metadata": {
        "colab": {
          "base_uri": "https://localhost:8080/"
        },
        "id": "qQDKiMgjBCqy",
        "outputId": "17afc72b-c90e-40a2-8c8d-2de31ed1ecd1"
      },
      "outputs": [
        {
          "name": "stdout",
          "output_type": "stream",
          "text": [
            "execution time is 69.18229722976685\n"
          ]
        }
      ],
      "source": [
        "print(f'execution time is {exec_time_MLP}')"
      ]
    },
    {
      "cell_type": "markdown",
      "metadata": {
        "id": "KSHudjjbBCqy"
      },
      "source": [
        "Let's calculate accuracy"
      ]
    },
    {
      "cell_type": "code",
      "execution_count": 161,
      "metadata": {
        "colab": {
          "base_uri": "https://localhost:8080/"
        },
        "id": "zmr_Zug_BCqy",
        "outputId": "c3499b5c-9d5a-4ba8-9c19-519b0cb26e27"
      },
      "outputs": [
        {
          "name": "stdout",
          "output_type": "stream",
          "text": [
            "Classifier accuracy on the training set is 0.9931437042527564 \n",
            "Classifier accuracy on the test set is 0.9749858943012977 \n"
          ]
        }
      ],
      "source": [
        "y_pred = nn_clf.predict(X_train)\n",
        "y_pred_test = nn_clf.predict(X_test)\n",
        "print('Classifier accuracy on the training set is {0} '.format(accuracy_score(y_train, y_pred)))\n",
        "print('Classifier accuracy on the test set is {0} '.format(accuracy_score(y_test, y_pred_test)))"
      ]
    },
    {
      "cell_type": "code",
      "execution_count": null,
      "metadata": {
        "id": "C0NmzrbFLC1y"
      },
      "outputs": [],
      "source": []
    },
    {
      "cell_type": "markdown",
      "metadata": {
        "id": "PWEuNaVYBCqz"
      },
      "source": [
        "## Accuracy and Loss Visualization For MLP"
      ]
    },
    {
      "cell_type": "code",
      "execution_count": 162,
      "metadata": {
        "colab": {
          "base_uri": "https://localhost:8080/",
          "height": 1000
        },
        "id": "bRzKPjnDBCqz",
        "outputId": "1a6edba0-472f-426f-dbfa-a4cb913a1669"
      },
      "outputs": [
        {
          "name": "stdout",
          "output_type": "stream",
          "text": [
            "Iteration 0, loss = 7.979670261597004\n",
            "Iteration 1, loss = 6.445501945501062\n",
            "Iteration 2, loss = 4.804461579722504\n",
            "Iteration 3, loss = 4.345696889418427\n",
            "Iteration 4, loss = 5.000679524809327\n",
            "Iteration 5, loss = 16.997091446911742\n",
            "Iteration 6, loss = 63.82197223028936\n",
            "Iteration 7, loss = 174.1648936908402\n",
            "Iteration 8, loss = 489.7711705291873\n",
            "Iteration 9, loss = 1458.9946633641573\n",
            "Iteration 10, loss = 4638.0764136385105\n",
            "Iteration 11, loss = 15145.66463401726\n",
            "Iteration 12, loss = 55633.90333512804\n",
            "Iteration 13, loss = 141832.44290436595\n",
            "Iteration 14, loss = 295307.90210769087\n",
            "Iteration 15, loss = 661577.87685984\n",
            "Iteration 16, loss = 1426312.53138753\n",
            "Iteration 17, loss = 2888465.1582875457\n",
            "Iteration 18, loss = 5476950.031421896\n",
            "Iteration 19, loss = 10607571.91194782\n",
            "Iteration 20, loss = 23129402.963168852\n",
            "Iteration 21, loss = 43648980.56335164\n",
            "Iteration 22, loss = 100559768.05390659\n",
            "Iteration 23, loss = 211309624.46852234\n",
            "Iteration 24, loss = 397365457.6341517\n",
            "Iteration 25, loss = 761220560.0372307\n",
            "Iteration 26, loss = 1421094412.9700465\n",
            "Iteration 27, loss = 2863219115.6581235\n",
            "Iteration 28, loss = 5732258600.546877\n",
            "Iteration 29, loss = 10503033925.055634\n",
            "Iteration 30, loss = 19957666822.823624\n",
            "Iteration 31, loss = 36155427443.419205\n",
            "Iteration 32, loss = 66898933442.66526\n",
            "Iteration 33, loss = 155760160535.7366\n",
            "Iteration 34, loss = 442810070658.4112\n",
            "Iteration 35, loss = 979120265375.418\n",
            "Iteration 36, loss = 1850894872627.412\n",
            "Iteration 37, loss = 3668834039789.9995\n",
            "Iteration 38, loss = 6224928616503.946\n",
            "Iteration 39, loss = 9941661340624.178\n",
            "Iteration 40, loss = 16944748037792.32\n",
            "Iteration 41, loss = 39792598332952.17\n",
            "Iteration 42, loss = 90632380033672.73\n",
            "Iteration 43, loss = 165030177822757.2\n",
            "Iteration 44, loss = 232505409714481.88\n",
            "Iteration 45, loss = 381672729923077.44\n",
            "Iteration 46, loss = 697881688224344.6\n",
            "Iteration 47, loss = 1251998823660636.0\n",
            "Iteration 48, loss = 2177998301667213.8\n",
            "Iteration 49, loss = 3739428551617746.5\n"
          ]
        },
        {
          "data": {
            "text/plain": [
              "Text(0, 0.5, '1-accuracy(loss)')"
            ]
          },
          "execution_count": 162,
          "metadata": {},
          "output_type": "execute_result"
        },
        {
          "data": {
            "image/png": "[encoded data removed]",
            "text/plain": [
              "<Figure size 432x288 with 1 Axes>"
            ]
          },
          "metadata": {
            "needs_background": "light"
          },
          "output_type": "display_data"
        }
      ],
      "source": [
        "import warnings\n",
        "nEpochs = 50\n",
        "\n",
        "nn_clf = MLPClassifier(max_iter=1,warm_start='true',solver='sgd')\n",
        "\n",
        "train_errors, test_errors = [], []\n",
        "\n",
        "for epoch in range(nEpochs): \n",
        "    with warnings.catch_warnings():\n",
        "        warnings.simplefilter(\"ignore\")\n",
        "        nn_clf.fit(X_train, y_train)\n",
        "    print(f'Iteration {epoch}, loss = {nn_clf.loss_}')\n",
        "    train_errors.append(1-accuracy_score(y_train, nn_clf.predict(X_train)))\n",
        "    test_errors.append(1-accuracy_score(y_test, nn_clf.predict(X_test)))\n",
        "    \n",
        "plt.plot(np.sqrt(train_errors), \"r-+\", linewidth=2, label=\"train\")\n",
        "plt.plot(np.sqrt(test_errors), \"b-\", linewidth=3, label=\"test\")\n",
        "plt.legend(loc=\"upper right\", fontsize=14)\n",
        "plt.xlabel(\"Epochs\", fontsize=14)\n",
        "plt.ylabel(\"1-accuracy(loss)\", fontsize=14)  \n",
        "    \n",
        "    "
      ]
    },
    {
      "cell_type": "code",
      "execution_count": null,
      "metadata": {
        "id": "dtITMxuDBCqz"
      },
      "outputs": [],
      "source": []
    },
    {
      "cell_type": "markdown",
      "metadata": {
        "id": "4Vsdsn5iBCqz"
      },
      "source": [
        "## Now Will validate trough the Test Directory "
      ]
    },
    {
      "cell_type": "code",
      "execution_count": 163,
      "metadata": {
        "colab": {
          "base_uri": "https://localhost:8080/"
        },
        "id": "MZ4iDDqLBCqz",
        "outputId": "6eb753a9-68dd-4bac-e00c-ee2a449bac13"
      },
      "outputs": [
        {
          "name": "stdout",
          "output_type": "stream",
          "text": [
            "testing/seat2/seat2-a-p034.png\n",
            "(2, 288, 288)\n",
            "testing/seat2/seat2-a-p039.png\n",
            "(3, 288, 288)\n",
            "testing/seat2/seat2-a-p040.png\n",
            "(4, 288, 288)\n",
            "testing/seat2/seat2-a-p038.png\n",
            "(5, 288, 288)\n",
            "testing/seat2/seat2-a-p035.png\n",
            "(6, 288, 288)\n",
            "testing/seat2/seat2-a-p037.png\n",
            "(7, 288, 288)\n",
            "testing/seat2/seat2-a-p033.png\n",
            "(8, 288, 288)\n",
            "testing/seat2/seat2-a-p031.png\n",
            "(9, 288, 288)\n",
            "testing/seat2/seat2-a-p032.png\n",
            "(10, 288, 288)\n",
            "testing/seat2/seat2-a-p036.png\n",
            "(11, 288, 288)\n",
            "testing/sand1/sand1-a-p035.png\n",
            "(12, 288, 288)\n",
            "testing/sand1/sand1-a-p040.png\n",
            "(13, 288, 288)\n",
            "testing/sand1/sand1-a-p034.png\n",
            "(14, 288, 288)\n",
            "testing/sand1/sand1-a-p032.png\n",
            "(15, 288, 288)\n",
            "testing/sand1/sand1-a-p037.png\n",
            "(16, 288, 288)\n",
            "testing/sand1/sand1-a-p033.png\n",
            "(17, 288, 288)\n",
            "testing/sand1/sand1-a-p036.png\n",
            "(18, 288, 288)\n",
            "testing/sand1/sand1-a-p039.png\n",
            "(19, 288, 288)\n",
            "testing/sand1/sand1-a-p031.png\n",
            "(20, 288, 288)\n",
            "testing/sand1/sand1-a-p038.png\n",
            "(21, 288, 288)\n",
            "testing/stone1/stone1-a-p037.png\n",
            "(22, 288, 288)\n",
            "testing/stone1/stone1-a-p033.png\n",
            "(23, 288, 288)\n"
          ]
        },
        {
          "name": "stderr",
          "output_type": "stream",
          "text": [
            "/usr/local/lib/python3.7/dist-packages/ipykernel_launcher.py:7: FutureWarning: The behavior of rgb2gray will change in scikit-image 0.19. Currently, rgb2gray allows 2D grayscale image to be passed as inputs and leaves them unmodified as outputs. Starting from version 0.19, 2D arrays will be treated as 1D images with 3 channels.\n",
            "  import sys\n"
          ]
        },
        {
          "name": "stdout",
          "output_type": "stream",
          "text": [
            "testing/stone1/stone1-a-p040.png\n",
            "(24, 288, 288)\n",
            "testing/stone1/stone1-a-p031.png\n",
            "(25, 288, 288)\n",
            "testing/stone1/stone1-a-p034.png\n",
            "(26, 288, 288)\n",
            "testing/stone1/stone1-a-p032.png\n",
            "(27, 288, 288)\n",
            "testing/stone1/stone1-a-p035.png\n",
            "(28, 288, 288)\n",
            "testing/stone1/stone1-a-p036.png\n",
            "(29, 288, 288)\n",
            "testing/stone1/stone1-a-p039.png\n",
            "(30, 288, 288)\n",
            "testing/stone1/stone1-a-p038.png\n",
            "(31, 288, 288)\n",
            "testing/canvas1/canvas1-a-p032.png\n",
            "(32, 288, 288)\n",
            "testing/canvas1/canvas1-a-p036.png\n",
            "(33, 288, 288)\n",
            "testing/canvas1/canvas1-a-p037.png\n",
            "(34, 288, 288)\n",
            "testing/canvas1/canvas1-a-p039.png\n",
            "(35, 288, 288)\n",
            "testing/canvas1/canvas1-a-p034.png\n",
            "(36, 288, 288)\n",
            "testing/canvas1/canvas1-a-p038.png\n",
            "(37, 288, 288)\n",
            "testing/canvas1/canvas1-a-p033.png\n",
            "(38, 288, 288)\n",
            "testing/canvas1/canvas1-a-p035.png\n",
            "(39, 288, 288)\n",
            "testing/canvas1/canvas1-a-p040.png\n",
            "(40, 288, 288)\n",
            "testing/canvas1/canvas1-a-p031.png\n",
            "(41, 288, 288)\n",
            "testing/cushion1/cushion1-a-p034.png\n",
            "(42, 288, 288)\n",
            "testing/cushion1/cushion1-a-p039.png\n",
            "(43, 288, 288)\n",
            "testing/cushion1/cushion1-a-p032.png\n",
            "(44, 288, 288)\n",
            "testing/cushion1/cushion1-a-p031.png\n",
            "(45, 288, 288)\n",
            "testing/cushion1/cushion1-a-p038.png\n",
            "(46, 288, 288)\n",
            "testing/cushion1/cushion1-a-p036.png\n",
            "(47, 288, 288)\n",
            "testing/cushion1/cushion1-a-p035.png\n",
            "(48, 288, 288)\n",
            "testing/cushion1/cushion1-a-p037.png\n",
            "(49, 288, 288)\n",
            "testing/cushion1/cushion1-a-p033.png\n",
            "(50, 288, 288)\n",
            "testing/cushion1/cushion1-a-p040.png\n",
            "(51, 288, 288)\n",
            "testing/linsseeds1/linseeds1-a-p033.png\n",
            "(52, 288, 288)\n",
            "testing/linsseeds1/linseeds1-a-p034.png\n",
            "(53, 288, 288)\n",
            "testing/linsseeds1/linseeds1-a-p031.png\n",
            "(54, 288, 288)\n",
            "testing/linsseeds1/linseeds1-a-p035.png\n",
            "(55, 288, 288)\n",
            "testing/linsseeds1/linseeds1-a-p039.png\n",
            "(56, 288, 288)\n",
            "testing/linsseeds1/linseeds1-a-p037.png\n",
            "(57, 288, 288)\n",
            "testing/linsseeds1/linseeds1-a-p038.png\n",
            "(58, 288, 288)\n",
            "testing/linsseeds1/linseeds1-a-p032.png\n",
            "(59, 288, 288)\n",
            "testing/linsseeds1/linseeds1-a-p040.png\n",
            "(60, 288, 288)\n",
            "testing/linsseeds1/linseeds1-a-p036.png\n",
            "(61, 288, 288)\n"
          ]
        }
      ],
      "source": [
        "dirs = list(os.walk('testing/'))[1:]\n",
        "data = np.zeros((1,288,288))\n",
        "for i in dirs:\n",
        "    for filename in i[2]:\n",
        "        img = io.imread(os.path.join(i[0],filename))\n",
        "        print(os.path.join(i[0],filename))\n",
        "        img = rgb2gray(img)\n",
        "        img = img.copy()\n",
        "        img = cv2.resize(img, (0, 0), fx=0.5, fy=0.5)\n",
        "        img = img.reshape((1,img.shape[0],img.shape[1]))\n",
        "        data = np.concatenate((data,img),axis=0)\n",
        "        print(data.shape)\n",
        "\n"
      ]
    },
    {
      "cell_type": "code",
      "execution_count": 164,
      "metadata": {
        "id": "97iIwtiRBCqz"
      },
      "outputs": [],
      "source": [
        "data = data[1:]"
      ]
    },
    {
      "cell_type": "code",
      "execution_count": 165,
      "metadata": {
        "colab": {
          "base_uri": "https://localhost:8080/"
        },
        "id": "yFnDL9sbBCqz",
        "outputId": "1e3afa0d-43d6-4af0-9cd4-199d7b3e91b0"
      },
      "outputs": [
        {
          "data": {
            "text/plain": [
              "(60, 288, 288)"
            ]
          },
          "execution_count": 165,
          "metadata": {},
          "output_type": "execute_result"
        }
      ],
      "source": [
        "data.shape"
      ]
    },
    {
      "cell_type": "code",
      "execution_count": 166,
      "metadata": {
        "colab": {
          "base_uri": "https://localhost:8080/",
          "height": 287
        },
        "id": "AkEhXWiJMBRB",
        "outputId": "347f8cce-821b-4a09-8b8e-83943550559c"
      },
      "outputs": [
        {
          "data": {
            "text/plain": [
              "<matplotlib.image.AxesImage at 0x7f748cf94e10>"
            ]
          },
          "execution_count": 166,
          "metadata": {},
          "output_type": "execute_result"
        },
        {
          "data": {
            "image/png": "[encoded data removed]",
            "text/plain": [
              "<Figure size 432x288 with 1 Axes>"
            ]
          },
          "metadata": {
            "needs_background": "light"
          },
          "output_type": "display_data"
        }
      ],
      "source": [
        "plt.imshow(data[0,:,:],'gray')"
      ]
    },
    {
      "cell_type": "code",
      "execution_count": 166,
      "metadata": {
        "id": "tnxQxbQ8MBRD"
      },
      "outputs": [],
      "source": []
    },
    {
      "cell_type": "code",
      "execution_count": 167,
      "metadata": {
        "id": "iQ6iPdyJMBRE"
      },
      "outputs": [],
      "source": [
        "data = data.reshape((data.shape[0],data.shape[1]*data.shape[2]))"
      ]
    },
    {
      "cell_type": "code",
      "execution_count": 168,
      "metadata": {
        "colab": {
          "base_uri": "https://localhost:8080/"
        },
        "id": "B62gsrf_MBRF",
        "outputId": "4dfd5d24-31c8-47ea-c424-af2731ac2a6e"
      },
      "outputs": [
        {
          "data": {
            "text/plain": [
              "(60, 82944)"
            ]
          },
          "execution_count": 168,
          "metadata": {},
          "output_type": "execute_result"
        }
      ],
      "source": [
        "data.shape"
      ]
    },
    {
      "cell_type": "code",
      "execution_count": 169,
      "metadata": {
        "colab": {
          "base_uri": "https://localhost:8080/"
        },
        "id": "n7kkPqHEMBRF",
        "outputId": "d14913c1-dbdb-4781-89cb-a27dd9a86ccd"
      },
      "outputs": [
        {
          "data": {
            "text/plain": [
              "1020"
            ]
          },
          "execution_count": 169,
          "metadata": {},
          "output_type": "execute_result"
        }
      ],
      "source": [
        "60*(1024//60)"
      ]
    },
    {
      "cell_type": "code",
      "execution_count": 170,
      "metadata": {
        "colab": {
          "base_uri": "https://localhost:8080/"
        },
        "id": "_T1l_KKbMBRG",
        "outputId": "77ffbbb4-c967-4940-e5da-fd8b1a954c5d"
      },
      "outputs": [
        {
          "name": "stdout",
          "output_type": "stream",
          "text": [
            "120\n",
            "180\n",
            "240\n",
            "300\n",
            "360\n",
            "420\n",
            "480\n",
            "540\n",
            "600\n",
            "660\n",
            "720\n",
            "780\n",
            "840\n",
            "900\n",
            "960\n",
            "1020\n",
            "1080\n"
          ]
        }
      ],
      "source": [
        "temp = data.copy()\n",
        "while(data.shape[0]<1080):\n",
        "    \n",
        "    data = np.concatenate((data,temp),axis=0)\n",
        "    print(data.shape[0])"
      ]
    },
    {
      "cell_type": "code",
      "execution_count": 171,
      "metadata": {
        "colab": {
          "base_uri": "https://localhost:8080/"
        },
        "id": "-PAb1UxsMBRH",
        "outputId": "60baec24-a16a-4513-f37e-9dc604e656a1"
      },
      "outputs": [
        {
          "data": {
            "text/plain": [
              "(1080, 82944)"
            ]
          },
          "execution_count": 171,
          "metadata": {},
          "output_type": "execute_result"
        }
      ],
      "source": [
        "data.shape"
      ]
    },
    {
      "cell_type": "code",
      "execution_count": 171,
      "metadata": {
        "id": "E86mG46tMBRI"
      },
      "outputs": [],
      "source": []
    },
    {
      "cell_type": "code",
      "execution_count": 172,
      "metadata": {
        "id": "swaDoMDFMBRI"
      },
      "outputs": [],
      "source": [
        "data = pca.transform(data)"
      ]
    },
    {
      "cell_type": "code",
      "execution_count": 173,
      "metadata": {
        "colab": {
          "base_uri": "https://localhost:8080/"
        },
        "id": "TIkovKz8MBRJ",
        "outputId": "3eb8dac5-eb59-4bc7-f538-6a9e5a5d3ee3"
      },
      "outputs": [
        {
          "data": {
            "text/plain": [
              "(60, 1024)"
            ]
          },
          "execution_count": 173,
          "metadata": {},
          "output_type": "execute_result"
        }
      ],
      "source": [
        "data[:60].shape"
      ]
    },
    {
      "cell_type": "code",
      "execution_count": 174,
      "metadata": {
        "id": "JHnEOx26MBRJ"
      },
      "outputs": [],
      "source": [
        "tempTest = data.copy()"
      ]
    },
    {
      "cell_type": "code",
      "execution_count": null,
      "metadata": {
        "id": "xQ8G2gutNotx"
      },
      "outputs": [],
      "source": [
        "data = temp.copy()"
      ]
    },
    {
      "cell_type": "code",
      "execution_count": 175,
      "metadata": {
        "id": "5suZ6WTwMBRK"
      },
      "outputs": [],
      "source": [
        "data = data[:60].reshape(data[:60].shape[0],int(math.sqrt(data.shape[1])),int(math.sqrt(data.shape[1])))"
      ]
    },
    {
      "cell_type": "code",
      "execution_count": 176,
      "metadata": {
        "colab": {
          "base_uri": "https://localhost:8080/"
        },
        "id": "eXSxWBrYMBRL",
        "outputId": "22287741-97d1-45e6-ab3a-93793b4e24aa"
      },
      "outputs": [
        {
          "data": {
            "text/plain": [
              "(60, 32, 32)"
            ]
          },
          "execution_count": 176,
          "metadata": {},
          "output_type": "execute_result"
        }
      ],
      "source": [
        "data.shape"
      ]
    },
    {
      "cell_type": "code",
      "execution_count": null,
      "metadata": {
        "id": "HG_fzDo_NmYv"
      },
      "outputs": [],
      "source": []
    },
    {
      "cell_type": "markdown",
      "metadata": {
        "id": "YTnJkE8cMBRM"
      },
      "source": [
        "##### Preparing Dataset\n"
      ]
    },
    {
      "cell_type": "markdown",
      "metadata": {
        "id": "V7006x1bBCq0"
      },
      "source": [
        "#### Preparing Dataset\n"
      ]
    },
    {
      "cell_type": "code",
      "execution_count": 177,
      "metadata": {
        "colab": {
          "base_uri": "https://localhost:8080/"
        },
        "id": "0C1rXGbKREw1",
        "outputId": "472a8af6-a118-4c34-95f7-924fc80ab881"
      },
      "outputs": [
        {
          "data": {
            "text/plain": [
              "(10, 32, 32)"
            ]
          },
          "execution_count": 177,
          "metadata": {},
          "output_type": "execute_result"
        }
      ],
      "source": [
        "seat = data[:10]\n",
        "sand = data[10:20]\n",
        "stone = data[20:30]\n",
        "canvas = data[30:40]\n",
        "cushion = data[40:50]\n",
        "linsseeds = data[50:]\n",
        "stone.shape"
      ]
    },
    {
      "cell_type": "code",
      "execution_count": 180,
      "metadata": {
        "colab": {
          "base_uri": "https://localhost:8080/",
          "height": 284
        },
        "id": "zi9r18S3BCq0",
        "outputId": "49cac144-faad-4d63-c5be-727e35492e28"
      },
      "outputs": [
        {
          "data": {
            "text/plain": [
              "<matplotlib.image.AxesImage at 0x7f748afdbd90>"
            ]
          },
          "execution_count": 180,
          "metadata": {},
          "output_type": "execute_result"
        },
        {
          "data": {
            "image/png": "[encoded data removed]",
            "text/plain": [
              "<Figure size 432x288 with 1 Axes>"
            ]
          },
          "metadata": {
            "needs_background": "light"
          },
          "output_type": "display_data"
        }
      ],
      "source": [
        "plt.imshow(seat[0,:,:],'gray')"
      ]
    },
    {
      "cell_type": "code",
      "execution_count": 181,
      "metadata": {
        "colab": {
          "base_uri": "https://localhost:8080/"
        },
        "id": "dtk0cMy5BCq0",
        "outputId": "763c5bda-7bfe-4755-d1e7-d761c64a04ef"
      },
      "outputs": [
        {
          "name": "stdout",
          "output_type": "stream",
          "text": [
            "(45, 2, 32, 32)\n"
          ]
        }
      ],
      "source": [
        "def make_combine(dataset):\n",
        "    arr = np.zeros((1,2,32,32))\n",
        "    for img1,img2 in combinations(dataset,2):\n",
        "        temp = np.concatenate((img1,img2),axis=0)\n",
        "        temp = temp.reshape((1,2,32,32))\n",
        "        arr = np.concatenate((arr,temp))\n",
        "\n",
        "    arr = arr[1:,:,:,:]\n",
        "    return arr.copy()\n",
        "\n",
        "stone_stone_x = make_combine(stone)\n",
        "canvas_canvas_x = make_combine(canvas)\n",
        "cushion_cushion_x = make_combine(cushion)\n",
        "linsseeds_linsseeds_x = make_combine(linsseeds)\n",
        "sand_sand_x = make_combine(sand)\n",
        "seat_seat_x = make_combine(seat)\n",
        "print(seat_seat_x.shape)\n"
      ]
    },
    {
      "cell_type": "code",
      "execution_count": 182,
      "metadata": {
        "colab": {
          "base_uri": "https://localhost:8080/"
        },
        "id": "VJrG5X5gBCq0",
        "outputId": "7a630c58-dae5-494d-c655-98bf0e67907b"
      },
      "outputs": [
        {
          "name": "stdout",
          "output_type": "stream",
          "text": [
            "(100, 2, 32, 32)\n"
          ]
        }
      ],
      "source": [
        "def make_product(dataset1,datset2):\n",
        "    arr = np.zeros((1,2,32,32))\n",
        "    for img1,img2 in product(dataset1,datset2):\n",
        "        temp = np.concatenate((img1,img2),axis=0)\n",
        "        temp = temp.reshape((1,2,32,32))\n",
        "        arr = np.concatenate((arr,temp))\n",
        "\n",
        "    arr = arr[1:,:,:,:]\n",
        "    return arr.copy()\n",
        "stone_canvas_x = make_product(stone,canvas)\n",
        "stone_cushion_x = make_product(stone,cushion)\n",
        "stone_linsseeds_x = make_product(stone,linsseeds)\n",
        "stone_sand_x = make_product(stone,sand)\n",
        "stone_seat_x = make_product(stone,seat)\n",
        "\n",
        "canvas_sand_x = make_product(canvas,sand)\n",
        "canvas_cushion_x = make_product(canvas,cushion)\n",
        "canvas_linsseeds_x = make_product(canvas,linsseeds)\n",
        "canvas_seat_x = make_product(canvas,seat)\n",
        "\n",
        "cushion_linsseeds_x = make_product(cushion,linsseeds)\n",
        "cushion_sand_x = make_product(cushion,sand)\n",
        "cushion_seat_x = make_product(cushion,seat)\n",
        "\n",
        "linsseeds_sand_x = make_product(linsseeds,sand)\n",
        "linsseeds_seat_x = make_product(linsseeds,seat)\n",
        "\n",
        "sand_seat_x = make_product(sand,seat)\n",
        "\n",
        "print(stone_canvas_x.shape)"
      ]
    },
    {
      "cell_type": "code",
      "execution_count": 183,
      "metadata": {
        "id": "O9aUT-lvBCq0"
      },
      "outputs": [],
      "source": [
        "stone_canvas_y = np.zeros((stone_canvas_x.shape[0],))\n",
        "stone_cushion_y = np.zeros((stone_cushion_x.shape[0],))\n",
        "stone_linsseeds_y = np.zeros((stone_linsseeds_x.shape[0],))\n",
        "stone_sand_y = np.zeros((stone_sand_x.shape[0],))\n",
        "stone_seat_y = np.zeros((stone_seat_x.shape[0],))\n",
        "\n",
        "canvas_sand_y = np.zeros((canvas_sand_x.shape[0],))\n",
        "canvas_cushion_y = np.zeros((canvas_cushion_x.shape[0],))\n",
        "canvas_linsseeds_y = np.zeros((canvas_linsseeds_x.shape[0],))\n",
        "canvas_seat_y = np.zeros((canvas_seat_x.shape[0],))\n",
        "\n",
        "cushion_linsseeds_y = np.zeros((cushion_linsseeds_x.shape[0],))\n",
        "cushion_sand_y = np.zeros((cushion_sand_x.shape[0],))\n",
        "cushion_seat_y = np.zeros((cushion_seat_x.shape[0],))\n",
        "\n",
        "linsseeds_sand_y = np.zeros((linsseeds_sand_x.shape[0],))\n",
        "linsseeds_seat_y = np.zeros((linsseeds_seat_x.shape[0],))\n",
        "\n",
        "sand_seat_y = np.zeros((sand_seat_x.shape[0],))\n"
      ]
    },
    {
      "cell_type": "code",
      "execution_count": 184,
      "metadata": {
        "id": "c3sQ6th5BCq1"
      },
      "outputs": [],
      "source": [
        "stone_stone_y = np.ones((stone_stone_x.shape[0],))\n",
        "canvas_canvas_y = np.ones((canvas_canvas_x.shape[0],))\n",
        "cushion_cushion_y = np.ones((cushion_cushion_x.shape[0],))\n",
        "linsseeds_linsseeds_y = np.ones((linsseeds_linsseeds_x.shape[0],))\n",
        "sand_sand_y = np.ones((sand_sand_x.shape[0],))\n",
        "seat_seat_y = np.ones((seat_seat_x.shape[0],))"
      ]
    },
    {
      "cell_type": "code",
      "execution_count": 184,
      "metadata": {
        "id": "x-yNaKf6BCq1"
      },
      "outputs": [],
      "source": []
    },
    {
      "cell_type": "code",
      "execution_count": 185,
      "metadata": {
        "id": "X6QKBjoNBCq1"
      },
      "outputs": [],
      "source": [
        "full_data = np.concatenate([stone_canvas_x,stone_stone_x,stone_cushion_x,stone_linsseeds_x,stone_sand_x,stone_seat_x,canvas_canvas_x,canvas_cushion_x,canvas_linsseeds_x,canvas_sand_x,canvas_seat_x,linsseeds_linsseeds_x,linsseeds_sand_x,linsseeds_seat_x,cushion_linsseeds_x,cushion_cushion_x,cushion_sand_x,cushion_seat_x,sand_sand_x,sand_seat_x,seat_seat_x],axis=0)"
      ]
    },
    {
      "cell_type": "code",
      "execution_count": 186,
      "metadata": {
        "colab": {
          "base_uri": "https://localhost:8080/"
        },
        "id": "DteVDf1uBCq1",
        "outputId": "0d84b9d9-7382-4ebd-df0c-f1b60bc847cb"
      },
      "outputs": [
        {
          "data": {
            "text/plain": [
              "(1770, 2, 32, 32)"
            ]
          },
          "execution_count": 186,
          "metadata": {},
          "output_type": "execute_result"
        }
      ],
      "source": [
        "full_data.shape"
      ]
    },
    {
      "cell_type": "code",
      "execution_count": 187,
      "metadata": {
        "id": "OCZTJvH6BCq1"
      },
      "outputs": [],
      "source": [
        "full_label = np.concatenate([stone_canvas_y,stone_stone_y,stone_cushion_y,stone_linsseeds_y,stone_sand_y,stone_seat_y,canvas_canvas_y,canvas_cushion_y,canvas_linsseeds_y,canvas_sand_y,canvas_seat_y,linsseeds_linsseeds_y,linsseeds_sand_y,linsseeds_seat_y,cushion_linsseeds_y,cushion_cushion_y,cushion_sand_y,cushion_seat_y,sand_sand_y,sand_seat_y,seat_seat_y],axis=0)"
      ]
    },
    {
      "cell_type": "code",
      "execution_count": 188,
      "metadata": {
        "colab": {
          "base_uri": "https://localhost:8080/"
        },
        "id": "p5YQxZlsBCq1",
        "outputId": "701709da-19be-4967-d74a-4ce13393b024"
      },
      "outputs": [
        {
          "data": {
            "text/plain": [
              "(1770,)"
            ]
          },
          "execution_count": 188,
          "metadata": {},
          "output_type": "execute_result"
        }
      ],
      "source": [
        "full_label.shape"
      ]
    },
    {
      "cell_type": "code",
      "execution_count": 188,
      "metadata": {
        "id": "Sh2LUEDqBCq1"
      },
      "outputs": [],
      "source": []
    },
    {
      "cell_type": "code",
      "execution_count": 189,
      "metadata": {
        "colab": {
          "base_uri": "https://localhost:8080/"
        },
        "id": "LzAsUjIMBCq1",
        "outputId": "5113514c-9d4c-49c9-e046-512ed249eee5"
      },
      "outputs": [
        {
          "data": {
            "text/plain": [
              "(1770, 2048)"
            ]
          },
          "execution_count": 189,
          "metadata": {},
          "output_type": "execute_result"
        }
      ],
      "source": [
        "full_data = full_data.reshape((full_data.shape[0],full_data.shape[1]*full_data.shape[2]*full_data.shape[3]))\n",
        "full_data.shape"
      ]
    },
    {
      "cell_type": "code",
      "execution_count": null,
      "metadata": {
        "id": "eNusGZKIBCq2"
      },
      "outputs": [],
      "source": [
        "\n"
      ]
    },
    {
      "cell_type": "code",
      "execution_count": 190,
      "metadata": {
        "colab": {
          "base_uri": "https://localhost:8080/"
        },
        "id": "p5XEoyAEBCq2",
        "outputId": "c53437f5-f541-4d4b-9109-840eeb7a7c17"
      },
      "outputs": [
        {
          "name": "stdout",
          "output_type": "stream",
          "text": [
            "Classifier accuracy is 0.6700564971751413 \n"
          ]
        }
      ],
      "source": [
        "y_pred = nn_clf.predict(full_data)\n",
        "\n",
        "print('Classifier accuracy is {0} '.format(accuracy_score(full_label, y_pred)))\n"
      ]
    },
    {
      "cell_type": "code",
      "execution_count": null,
      "metadata": {
        "id": "eRWQULWPBCq2"
      },
      "outputs": [],
      "source": []
    },
    {
      "cell_type": "markdown",
      "metadata": {
        "id": "quGkMb0RLDO-"
      },
      "source": [
        "### PCA undergoing"
      ]
    },
    {
      "cell_type": "code",
      "execution_count": null,
      "metadata": {
        "id": "vTHJEKVWBCqt"
      },
      "outputs": [],
      "source": [
        "from sklearn.decomposition import PCA"
      ]
    },
    {
      "cell_type": "code",
      "execution_count": null,
      "metadata": {
        "id": "whiRg7BiBCqt"
      },
      "outputs": [],
      "source": [
        "pca = PCA(n_components=32)"
      ]
    },
    {
      "cell_type": "code",
      "execution_count": null,
      "metadata": {
        "id": "2phVRGQiBCqt",
        "outputId": "4a274cde-f137-491f-dedb-6cba3c9e1a31"
      },
      "outputs": [
        {
          "data": {
            "text/plain": [
              "PCA(n_components=32)"
            ]
          },
          "metadata": {},
          "output_type": "display_data"
        }
      ],
      "source": [
        "pca.fit(full_data)"
      ]
    },
    {
      "cell_type": "code",
      "execution_count": null,
      "metadata": {
        "id": "F0rdIH0yBCqu"
      },
      "outputs": [],
      "source": [
        "full_data = pca.transform(full_data)"
      ]
    },
    {
      "cell_type": "code",
      "execution_count": null,
      "metadata": {
        "id": "BFWvIji8BCqu",
        "outputId": "6f4f77bf-f821-419c-c576-e743128392ea"
      },
      "outputs": [
        {
          "data": {
            "text/plain": [
              "(16110, 32)"
            ]
          },
          "metadata": {},
          "output_type": "display_data"
        }
      ],
      "source": [
        "full_data.shape"
      ]
    }
  ],
  "metadata": {
    "accelerator": "GPU",
    "colab": {
      "collapsed_sections": [
        "yQmBjZSwBCqE",
        "Wr2ZLjcjBCqQ",
        "lZqy664_BCqU",
        "ONP59Kt_BCqX",
        "Te5KZz9VBCqZ",
        "dT7I2EMNBCqe",
        "B8stMtcxBCqi",
        "Y2TWjKuYBCqj",
        "bOcIrr3yBCqk",
        "G9DDfgeiBCql",
        "quGkMb0RLDO-"
      ],
      "name": "Assignment.ipynb",
      "provenance": []
    },
    "kernelspec": {
      "display_name": "Python 3",
      "language": "python",
      "name": "python3"
    },
    "language_info": {
      "codemirror_mode": {
        "name": "ipython",
        "version": 3
      },
      "file_extension": ".py",
      "mimetype": "text/x-python",
      "name": "python",
      "nbconvert_exporter": "python",
      "pygments_lexer": "ipython3",
      "version": "3.7.9"
    },
    "nav_menu": {},
    "toc": {
      "navigate_menu": true,
      "number_sections": true,
      "sideBar": true,
      "threshold": 6,
      "toc_cell": false,
      "toc_section_display": "block",
      "toc_window_display": false
    }
  },
  "nbformat": 4,
  "nbformat_minor": 0
}
